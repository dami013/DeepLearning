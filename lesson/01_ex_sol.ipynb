{
 "cells": [
  {
   "metadata": {},
   "cell_type": "markdown",
   "source": [
    "# Exercise 1\n",
    "## Authors: E. Vercesi; A. Dei Rossi, G. Dominici, S. Huber\n",
    "\n",
    "This Notebook is a guideline for Exercise 1.\n",
    "\n",
    "Exercises marked with a (*) are a bit more challenging."
   ],
   "id": "6eadf8f3a440b0c5"
  },
  {
   "metadata": {},
   "cell_type": "markdown",
   "source": [
    "## Lists\n",
    "Lists are one of the fundamental data structures in Python. They are used to store ordered collections of items. \n",
    "\n",
    "Given the following list (of fruits), learn how to \n",
    "1. Access elements: print the first and last element (which is the index of the first element?).\n",
    "2. Modify elements (e.g, change the third element \"cherry\" to \"pineapple\").\n",
    "3. Get the length of the list.\n",
    "4. Add one element (\"blueberry\") at the end.\n",
    "5. Remove one element (\"banana\"). Take care of what functions `pop` or `remove` return and what happens to the original list. What is the meaning of *in-place* method?\n",
    "6. Learn about the meaning of slicing, then slice your list (get all elements in between index 1 and 3 inclusive).\n",
    "7. Learn about the meaning of [list comprehension](https://docs.python.org/3/tutorial/datastructures.html#list-comprehensions) and filter your list of fruits by keeping only fruits starting with \"a\". (*)"
   ],
   "id": "13c19f1afe426669"
  },
  {
   "metadata": {
    "ExecuteTime": {
     "end_time": "2024-09-18T14:24:43.607934Z",
     "start_time": "2024-09-18T14:24:43.603051Z"
    }
   },
   "cell_type": "code",
   "source": [
    "from numpy.ma.core import shape\n",
    "\n",
    "fruits = [\"apple\", \"banana\", \"cherry\", \"orange\", \"avocado\"]\n",
    "\n",
    "## 1: print first and last element\n",
    "print(\"#1: First element: {}; last element: {}.\".format(fruits[0], fruits[-1]))  # Lists index start from 0!\n",
    "\n",
    "## 2: \"cherry\" -> \"pineapple\"\n",
    "fruits[2] = \"pineapple\"\n",
    "print(\"#2: Substitute cherry with pineapple:\", fruits)\n",
    "\n",
    "## 3: length\n",
    "print(\"#3: Length:\", len(fruits))\n",
    "\n",
    "## 4: add \"blueberry\" at the end\n",
    "fruits.append(\"blueberry\")\n",
    "print(\"#4: add blueberry at the end:\", fruits)\n",
    "\n",
    "## 5: remove \"banana\"\n",
    "fruits.remove(\"banana\")  # in-place means that the input list is modified.\n",
    "print(\"#5: remove banana:\", fruits)\n",
    "\n",
    "## 6: slicing: get elements between index 1 and 3 inclusive\n",
    "print(\"#6: fruits in between index 1 and 3 inclusive:\", fruits[1:4])  # end-interval is exclusive!\n",
    "\n",
    "## 7: list comprehension: filter fruits that start with \"a\"\n",
    "print(\"#7: fruits starting with a:\", [x for x in fruits if x[0] == 'a'])"
   ],
   "id": "3ade4c133437e723",
   "outputs": [
    {
     "name": "stdout",
     "output_type": "stream",
     "text": [
      "#1: First element: apple; last element: avocado.\n",
      "#2: Substitute cherry with pineapple: ['apple', 'banana', 'pineapple', 'orange', 'avocado']\n",
      "#3: Length: 5\n",
      "#4: add blueberry at the end: ['apple', 'banana', 'pineapple', 'orange', 'avocado', 'blueberry']\n",
      "#5: remove banana: ['apple', 'pineapple', 'orange', 'avocado', 'blueberry']\n",
      "#6: fruits in between index 1 and 3 inclusive: ['pineapple', 'orange', 'avocado']\n",
      "#7: fruits starting with a: ['apple', 'avocado']\n"
     ]
    }
   ],
   "execution_count": 97
  },
  {
   "metadata": {},
   "cell_type": "markdown",
   "source": [
    "## Numpy\n",
    "NumPy is a fundamental Python library for numerical and scientific computing. It provides support for working with large, multi-dimensional arrays and matrices, as well as a collection of mathematical functions to operate on these arrays efficiently. \n",
    "In this part, we will start learning some numpy basics. Before continuing, make sure you have numpy installed in your virtual environment."
   ],
   "id": "a691145cbf354f65"
  },
  {
   "metadata": {
    "ExecuteTime": {
     "end_time": "2024-09-18T10:29:56.647455Z",
     "start_time": "2024-09-18T10:29:56.562088Z"
    }
   },
   "cell_type": "code",
   "source": "import numpy as np",
   "id": "f10ff783313245d1",
   "outputs": [],
   "execution_count": 3
  },
  {
   "metadata": {},
   "cell_type": "markdown",
   "source": [
    "### Create numpy arrays\n",
    "\n",
    "Create numpy arrays out of:\n",
    "- list (And try to change the value of the element in position [1, 1] from 5 to 10)\n",
    "- tuple\n",
    "- set (*)\n",
    "\n",
    "and print the shape and the `dtype` of the arrays. Do you notice anything unexpected? ."
   ],
   "id": "fe61d4815f5af551"
  },
  {
   "metadata": {
    "ExecuteTime": {
     "end_time": "2024-09-18T14:26:02.893637Z",
     "start_time": "2024-09-18T14:26:02.889547Z"
    }
   },
   "cell_type": "code",
   "source": [
    "## 1: list\n",
    "my_list = [[1, 2, 3], [4, 5, 6]]\n",
    "v1 = np.array(my_list)\n",
    "v1[1, 1] = 10\n",
    "print(\"#1: my_list:\\n\", v1, \", shape:\", v1.shape, \", dtype:\", v1.dtype)\n",
    "\n",
    "## 2: tuple\n",
    "my_tuple = (1, 2, 3)\n",
    "# np.asarray is the same as np.array, but with option copy=False.\n",
    "v2 = np.asarray(my_tuple)\n",
    "print(\"#2: my_tuple:\", v2, \", shape:\", v2.shape, \", dtype:\", v2.dtype)\n",
    "\n",
    "## 3: set\n",
    "my_set = {1, 2, 3}\n",
    "v3 = np.array(my_set)\n",
    "print(\"#3: my_set:\", v3, \", shape:\", v3.shape, \", dtype:\", v3.dtype)\n"
   ],
   "id": "7a3318cb03fa4224",
   "outputs": [
    {
     "name": "stdout",
     "output_type": "stream",
     "text": [
      "#1: my_list:\n",
      " [[ 1  2  3]\n",
      " [ 4 10  6]] , shape: (2, 3) , dtype: int64\n",
      "#2: my_tuple: [1 2 3] , shape: (3,) , dtype: int64\n",
      "#3: my_set: {1, 2, 3} , shape: () , dtype: object\n"
     ]
    }
   ],
   "execution_count": 98
  },
  {
   "metadata": {},
   "cell_type": "markdown",
   "source": "Notice that the shape of `v3` is (), namely a singleton object (the set {1,2,3} itself). This happens because you can create arrays only out of ordered data types, whereas a set is unordered.",
   "id": "e50d86da2f6f3b83"
  },
  {
   "metadata": {},
   "cell_type": "markdown",
   "source": "Check functions [`np.arange`](https://numpy.org/doc/stable/reference/generated/numpy.arange.html#numpy.arange) and [`np.linspace`](https://numpy.org/doc/stable/reference/generated/numpy.linspace.html) and create vectors of size (3, 4) ([`np.reshape`](https://numpy.org/doc/stable/reference/generated/numpy.reshape.html)) with values from 0 to 11 using both functions.  ",
   "id": "5fb42413bd4c908c"
  },
  {
   "metadata": {
    "ExecuteTime": {
     "end_time": "2024-09-18T12:19:45.189096Z",
     "start_time": "2024-09-18T12:19:45.186431Z"
    }
   },
   "cell_type": "code",
   "source": [
    "# np.arange\n",
    "# Notice that right-limit is exclusive. Numbers are int.\n",
    "v = np.arange(12).reshape(3, 4)\n",
    "print(\"#1: np.arange\\n\",v)\n",
    "\n",
    "# np.linspace\n",
    "# Notice that the right-limit is inclusive. Numbers are float.\n",
    "print(\"#2: np.linspace\\n\", np.linspace(0, 11, 12).reshape(3, 4))"
   ],
   "id": "3eb755e5e8d582de",
   "outputs": [
    {
     "name": "stdout",
     "output_type": "stream",
     "text": [
      "#1: np.arange\n",
      " [[ 0  1  2  3]\n",
      " [ 4  5  6  7]\n",
      " [ 8  9 10 11]]\n",
      "#2: np.linspace\n",
      " [[ 0.  1.  2.  3.]\n",
      " [ 4.  5.  6.  7.]\n",
      " [ 8.  9. 10. 11.]]\n"
     ]
    }
   ],
   "execution_count": 35
  },
  {
   "metadata": {},
   "cell_type": "markdown",
   "source": [
    "### Slicing\n",
    "\n",
    "Take the above array of dimension (3, 4), and access (see [slicing](https://numpy.org/doc/stable/user/basics.indexing.html)):\n",
    "1) element in position [1,2].\n",
    "2) the third row.\n",
    "3) the third column.\n",
    "4) the 2x2 sub-matrix ranging in between the second and third row and first and second column."
   ],
   "id": "e907a65b9222aa2c"
  },
  {
   "metadata": {
    "ExecuteTime": {
     "end_time": "2024-09-18T12:20:37.781501Z",
     "start_time": "2024-09-18T12:20:37.778923Z"
    }
   },
   "cell_type": "code",
   "source": [
    "## 1: access element\n",
    "print(\"#1:\", v[1, 2])\n",
    "\n",
    "## 2: access row\n",
    "# 3rd row has index 2.\n",
    "print(\"#2:\", v[2, :])\n",
    "\n",
    "## 3: access column\n",
    "# 3rd column has index 2.\n",
    "print(\"#3:\", v[:, 2])\n",
    "\n",
    "## 4: sub-matrix\n",
    "# Notice that right-limit is exclusive.\n",
    "print(\"#4:\\n\", v[1:3, 0:2])"
   ],
   "id": "611910278d8d43a6",
   "outputs": [
    {
     "name": "stdout",
     "output_type": "stream",
     "text": [
      "#1: 6\n",
      "#2: [ 8  9 10 11]\n",
      "#3: [ 2  6 10]\n",
      "#4:\n",
      " [[4 5]\n",
      " [8 9]]\n"
     ]
    }
   ],
   "execution_count": 38
  },
  {
   "metadata": {},
   "cell_type": "markdown",
   "source": [
    "### Random arrays\n",
    "Create random multidimensionals array and inspect their shape. Try different combinations of dimensions and different distributions (normal, uniform)\n",
    "\n",
    "1) Create a random array of size 4 of uniform floating point numbers in the interval [0, 1).\n",
    "2) Create a random array of size (3, 2) of uniform floating point numbers in the interval [0, 5).\n",
    "3) Create a random array of size (2, 1, 2) of integers in the interval [10, 20].\n",
    "4) Create a random array of size 10 over the normal distribution, mean 3 and std dev 2."
   ],
   "id": "33ef4e084c586c85"
  },
  {
   "metadata": {
    "ExecuteTime": {
     "end_time": "2024-09-18T12:21:27.756028Z",
     "start_time": "2024-09-18T12:21:27.751695Z"
    }
   },
   "cell_type": "code",
   "source": [
    "## 1: \n",
    "print(\"#1:\", np.random.rand(4))\n",
    "\n",
    "## 2: \n",
    "# In order to scale up to the interval [0, 5) we simply multiply by 5.\n",
    "print(\"#2:\\n\", np.random.rand(3, 2) * 5)\n",
    "\n",
    "## 3: \n",
    "# Notice that \"high\" is exclusive.\n",
    "print(\"#3:\\n\", np.random.randint(10, 21, size=(2, 1, 2)))\n",
    "\n",
    "## 4:\n",
    "# mean==loc, std==scale\n",
    "print(\"#4:\\n\", np.random.normal(loc=3, scale=2, size=10))"
   ],
   "id": "286b556988670e1e",
   "outputs": [
    {
     "name": "stdout",
     "output_type": "stream",
     "text": [
      "#1: [0.04160264 0.03985107 0.006968   0.97298499]\n",
      "#2:\n",
      " [[0.68415396 0.89353622]\n",
      " [4.40690476 4.92494311]\n",
      " [0.55881669 1.16215166]]\n",
      "#3:\n",
      " [[[17 16]]\n",
      "\n",
      " [[15 11]]]\n",
      "#4:\n",
      " [ 2.02731891  2.48937482  1.99873544  5.33093675  3.47639969  0.32518929\n",
      "  2.53383621 -0.0803673   3.33030942  5.12737884]\n"
     ]
    }
   ],
   "execution_count": 40
  },
  {
   "metadata": {},
   "cell_type": "markdown",
   "source": [
    "### Copy arrays\n",
    "\n",
    "Please have a look at [`np.copy`](https://numpy.org/doc/stable/reference/generated/numpy.copy.html). \n",
    "1) Create a vector $v$ of size 3, copy it to a new vector $w$, change one entry of vector $w$ and make sure that $v$ is not affected.\n",
    "2) What if we wanted to change vector $v$ when changing the entries of $w$? "
   ],
   "id": "5d07c1af00ba053"
  },
  {
   "metadata": {
    "ExecuteTime": {
     "end_time": "2024-09-18T12:22:42.873700Z",
     "start_time": "2024-09-18T12:22:42.869402Z"
    }
   },
   "cell_type": "code",
   "source": [
    "## 1: Create vector v, copy it to w, change w and make sure v is unaltered.\n",
    "v = np.random.randint(0, 10, size=3)\n",
    "w = v.copy()  # Create a new vector, and copy entries of v in it.\n",
    "w[1] = w[1] + 1  # Alter entry w[1]\n",
    "print(\"#1: {}, {}: v and w are different after the change.\".format(v[1], w[1]))\n",
    "\n",
    "## 2: Create vector v, copy it to w, change w and make sure v is altered as well.\n",
    "v = np.random.randint(0, 10, size=3)\n",
    "w = v  # w is just a reference (a pointer) to v. Changing w also changes v.\n",
    "w[1] = w[1] + 1   # Alter entry w[1]. Also v[1] is altered.\n",
    "print(\"#2: {}, {}: v and w are equal after the change.\".format(v[1], w[1]))"
   ],
   "id": "3761a9d50a9b219d",
   "outputs": [
    {
     "name": "stdout",
     "output_type": "stream",
     "text": [
      "#1: 1, 2: v and w are different after the change.\n",
      "#2: 5, 5: v and w are equal after the change.\n"
     ]
    }
   ],
   "execution_count": 41
  },
  {
   "metadata": {},
   "cell_type": "markdown",
   "source": [
    "### Element-wise functions and broadcasting\n",
    "\n",
    "1) Given $v = [1, 2, 3], w = [4, 5, 6]$ compute $v - w$, that is, element-wise subtraction. \n",
    "\n",
    "2) What happens if $v = [1, 2]$? \n",
    "\n",
    "3) set $\\lambda=3$ and perform $\\lambda w$. Why can't you use as variable name the word \"lambda\"?\n",
    " \n",
    "4) And if $v = \\begin{bmatrix} 4 & 7 & 6 \\\\ 5 & 8 & 9 \\end{bmatrix}$ (shape (2, 3)) and you want to subtract $w$ to all the rows of $v$? (Read carefully [broadcasting](https://numpy.org/doc/stable/user/basics.broadcasting.html)) (*)\n",
    "\n",
    "5) And if $v = \\begin{bmatrix} 4 & 5 \\\\ 7 & 8 \\\\ 6 & 9 \\end{bmatrix}$ (shape (3, 2)) and you want to subtract $w$ to all the columns of $v$? (See [`np.newaxis`](https://stackoverflow.com/a/41267079), `np.vstack` or `.T` transpose operator) (*)\n",
    "\n"
   ],
   "id": "a031a17e19749620"
  },
  {
   "metadata": {
    "ExecuteTime": {
     "end_time": "2024-09-18T12:23:56.473670Z",
     "start_time": "2024-09-18T12:23:56.468774Z"
    }
   },
   "cell_type": "code",
   "source": [
    "v = np.array([1, 2, 3])\n",
    "w = np.array([4, 5, 6])\n",
    "\n",
    "## 1: Perform v - w using numpy arrays\n",
    "print(\"#1:\", v - w)  # The size is equal, we can use broadcasting.\n",
    "\n",
    "## 2: v is smaller, what does v - w do?\n",
    "v2 = np.array([1, 2])\n",
    "try:\n",
    "    print(v2 - w)\n",
    "except ValueError:\n",
    "    print(\"#2: Error: size of v2 and w do not coincide, hence broadcasting raises error!\", v2.shape, w.shape)\n",
    "\n",
    "## 3: Multiply all entries of w by lambda = 3.\n",
    "l = 3  # can't use \"lambda\" as variable name, it is a native Python keyword for lambda functions!\n",
    "print(\"#3:\", w * l) \n",
    "\n",
    "## 4: v is higher dimensional, subtract w from all the rows of v.\n",
    "v4 = np.array([[4, 7, 6], [5, 8, 9]])  # Shape(2, 3)\n",
    "# Since shape of w is 3, we can use broadcasting:\n",
    "print(\"#4:\\n\", v4 - w)\n",
    "\n",
    "\n",
    "## 5: v is higher dimensional, subtract w from all the columns of v.\n",
    "v5 = np.array([[4, 5], [7, 8], [6, 9]])  # Shape(3, 2)\n",
    "# Since shape of w is 3, we cannot use broadcasting:\n",
    "w2 = w[:, np.newaxis]  # Turn w into shape (3, 1). Now we can use broadcasting\n",
    "print(\"#5:\\n\")\n",
    "print(v5 - w2)\n",
    "# using np.vstack and transpose operator, same result.\n",
    "print(v5 - np.vstack((w, w)).T)"
   ],
   "id": "a847431f77c7f798",
   "outputs": [
    {
     "name": "stdout",
     "output_type": "stream",
     "text": [
      "#1: [-3 -3 -3]\n",
      "#2: Error: size of v2 and w do not coincide, hence broadcasting raises error! (2,) (3,)\n",
      "#3: [12 15 18]\n",
      "#4:\n",
      " [[0 2 0]\n",
      " [1 3 3]]\n",
      "#5:\n",
      "\n",
      "[[0 1]\n",
      " [2 3]\n",
      " [0 3]]\n",
      "[[0 1]\n",
      " [2 3]\n",
      " [0 3]]\n"
     ]
    }
   ],
   "execution_count": 42
  },
  {
   "metadata": {},
   "cell_type": "markdown",
   "source": [
    "### Max, min, sum, along different axis\n",
    "\n",
    "1) Get the max value in the matrix $v = \\begin{bmatrix} 1 & 5 & 3 \\\\ 3 & 4 & 7 \\end{bmatrix}$.\n",
    "2) Get the max value in the matrix $v$ along the columns (see [axis](https://www.pythonpool.com/numpy-axis/)). Predict the shape of the result vector.\n",
    "3) Get the max value in the matrix $v$ along the rows. Predict the shape of the result vector.\n",
    "4) Create a random array of shape (2, 3, 4) and get the min along axis 1. Predict the shape of the result and understand what is going on. (*)\n",
    "\n"
   ],
   "id": "a2446822fcf0acf8"
  },
  {
   "metadata": {
    "ExecuteTime": {
     "end_time": "2024-09-18T14:39:26.869405Z",
     "start_time": "2024-09-18T14:39:26.864360Z"
    }
   },
   "cell_type": "code",
   "source": [
    "v = np.array([[1, 5, 3], [3, 4, 7]])\n",
    "\n",
    "## 1: get max value.\n",
    "print(\"#1:\", np.max(v))\n",
    "\n",
    "## 2: get max value along the columns.\n",
    "max_col = np.max(v, axis=0)\n",
    "print(\"#2:\", max_col, \"shape:\", max_col.shape)\n",
    "\n",
    "## 3: get the max value along the rows.\n",
    "max_row = np.max(v, axis=1)\n",
    "print(\"#3:\", max_row, \"shape:\", max_row.shape)\n",
    "\n",
    "## 4: Create a random array of shape (2, 3, 4) and get the min along axis = 1. Predict the shape of the output matrix.\n",
    "v = np.random.randint(0, 10, size=(2, 3, 4))\n",
    "vmin = np.min(v, axis=1)\n",
    "# When taking the min along axis 1, axis 1 (of size 3 in this case) gets squashed so the dimension we expect is (2, 4).\n",
    "print(\"#4: min along axis 1 produces shape:\", vmin.shape)\n",
    "print(\"v:\\n\", v)\n",
    "print(\"vmin:\\n\", vmin)"
   ],
   "id": "1eba5922244c5997",
   "outputs": [
    {
     "name": "stdout",
     "output_type": "stream",
     "text": [
      "#1: 7\n",
      "#2: [3 5 7] shape: (3,)\n",
      "#3: [5 7] shape: (2,)\n",
      "#4: min along axis 1 produces shape: (2, 4)\n",
      "v:\n",
      " [[[9 0 2 2]\n",
      "  [5 1 7 8]\n",
      "  [3 9 1 1]]\n",
      "\n",
      " [[7 8 6 4]\n",
      "  [0 1 8 0]\n",
      "  [3 9 0 9]]]\n",
      "vmin:\n",
      " [[3 0 1 1]\n",
      " [0 1 0 0]]\n"
     ]
    }
   ],
   "execution_count": 99
  },
  {
   "metadata": {},
   "cell_type": "markdown",
   "source": [
    "### `np.matmul`, `np.dot`, `@` and `*`\n",
    "\n",
    "Learn the difference between these operands. (Keep in mind that `np.dot` does not get used frequently for high dimensional vectors).\n",
    "\n",
    "1. Take the dot product between two integer random vectors of size 3. Can you do it in multiple ways? In case you can, check that the result is the same.\n",
    "2. Take the element-wise product (Hadamard product) between two integer random matrices of size (4, 2). Predict the shape of the result.\n",
    "3. Take the dot product between an integer random matrix of size (3, 2) and an integer random vector of size (2). Predict the shape of the result. Can you do it in multiple ways? In case you can, check that the result is the same.\n",
    "4. Take the dot product between an integer random matrix of size (4, 3) and another integer random matrix of size (3, 2). Predict the shape of the result. Can you do it in multiple ways? In case you can, check that the result is the same.\n",
    "5. (Optional) see the difference between the `np.dot` and `np.matmul` of two integer random matrices of shape (2, 3, 3). Predict the shape of the two results. (*)\n"
   ],
   "id": "c87dac73669cd268"
  },
  {
   "metadata": {
    "ExecuteTime": {
     "end_time": "2024-09-18T13:01:34.688737Z",
     "start_time": "2024-09-18T13:01:34.683197Z"
    }
   },
   "cell_type": "code",
   "source": [
    "## 1: take dot product of 1 dimensional vectors.\n",
    "v = np.random.randint(0, 10, size=3)\n",
    "w = np.random.randint(0, 10, size=3)\n",
    "print(\"#1:\")\n",
    "print(\"v:\", v)\n",
    "print(\"w:\", w)\n",
    "print(\"dot (v, w):\", np.dot(v, w))\n",
    "print(\"v dot w:\", v.dot(w))\n",
    "print(\"v @ w:\", v @ w)\n",
    "print(\"v matmul w:\", np.matmul(v, w))\n",
    "\n",
    "## 2: take the Hadamard product of two matrices.\n",
    "v = np.random.randint(0, 10, size=(4, 2))\n",
    "w = np.random.randint(0, 10, size=(4, 2))\n",
    "print(\"#2:\")\n",
    "print(\"v:\\n\", v)\n",
    "print(\"w:\\n\", w)\n",
    "print(\"hadamard(v, w):\\n\", v * w)\n",
    "\n",
    "## 3: take dot product matrix-vector.\n",
    "v = np.random.randint(0, 10, size=(3, 2))\n",
    "w = np.random.randint(0, 10, size=2)\n",
    "print(\"#3:\")\n",
    "print(\"v:\\n\", v)\n",
    "print(\"w:\", w)\n",
    "print(\"dot (v, w):\", np.dot(v, w))\n",
    "print(\"v dot w:\", v.dot(w))\n",
    "print(\"v @ w:\", v @ w)\n",
    "print(\"v matmul w:\", np.matmul(v, w))\n",
    "\n",
    "## 4: take dot product matrix-matrix.\n",
    "v = np.random.randint(0, 10, size=(4, 3))\n",
    "w = np.random.randint(0, 10, size=(3, 2))\n",
    "print(\"#4:\")\n",
    "print(\"v:\\n\", v)\n",
    "print(\"w:\\n\", w)\n",
    "print(\"dot (v, w):\", np.dot(v, w))\n",
    "print(\"v dot w:\", v.dot(w))\n",
    "print(\"v @ w:\", v @ w)\n",
    "print(\"v matmul w:\", np.matmul(v, w))\n",
    "\n",
    "## 5: np.dot vs np.matmul. \n",
    "v = np.random.randint(0, 10, size=(2, 3, 3))\n",
    "w = np.random.randint(0, 10, size=(2, 3, 3))\n",
    "# matmul on more than 2 dimensions simply broadcasts along the leftmost axes the 3x3 matrix product. Hence, the end-result has shape(2, 3, 3).\n",
    "print(\"#5:\")\n",
    "print(\"np.matmul(v, w).shape:\\n\", np.matmul(v, w).shape)\n",
    "# np.dot on more than 2 dimensions does a lot more than that (read np.dot documentation for details): \n",
    "# it takes the dot product of vectors of size 3, last dimension of v and penultimate dimension of w.\n",
    "# The end-shape is (2, 3, 2, 3)\n",
    "print(\"np.dot(v, w).shape:\\n\", np.dot(v, w).shape)"
   ],
   "id": "afef90beac636a80",
   "outputs": [
    {
     "name": "stdout",
     "output_type": "stream",
     "text": [
      "#1:\n",
      "v: [9 2 0]\n",
      "w: [5 1 2]\n",
      "dot (v, w): 47\n",
      "v dot w: 47\n",
      "v @ w: 47\n",
      "v matmul w: 47\n",
      "#2:\n",
      "v:\n",
      " [[2 8]\n",
      " [7 5]\n",
      " [4 1]\n",
      " [3 2]]\n",
      "w:\n",
      " [[0 3]\n",
      " [4 0]\n",
      " [6 7]\n",
      " [6 5]]\n",
      "hadamard(v, w):\n",
      " [[ 0 24]\n",
      " [28  0]\n",
      " [24  7]\n",
      " [18 10]]\n",
      "#3:\n",
      "v:\n",
      " [[4 6]\n",
      " [3 9]\n",
      " [8 7]]\n",
      "w: [3 4]\n",
      "dot (v, w): [36 45 52]\n",
      "v dot w: [36 45 52]\n",
      "v @ w: [36 45 52]\n",
      "v matmul w: [36 45 52]\n",
      "#4:\n",
      "v:\n",
      " [[4 1 5]\n",
      " [1 9 1]\n",
      " [6 3 5]\n",
      " [6 8 8]]\n",
      "w:\n",
      " [[8 9]\n",
      " [3 3]\n",
      " [8 6]]\n",
      "dot (v, w): [[ 75  69]\n",
      " [ 43  42]\n",
      " [ 97  93]\n",
      " [136 126]]\n",
      "v dot w: [[ 75  69]\n",
      " [ 43  42]\n",
      " [ 97  93]\n",
      " [136 126]]\n",
      "v @ w: [[ 75  69]\n",
      " [ 43  42]\n",
      " [ 97  93]\n",
      " [136 126]]\n",
      "v matmul w: [[ 75  69]\n",
      " [ 43  42]\n",
      " [ 97  93]\n",
      " [136 126]]\n",
      "#5:\n",
      "np.matmul(v, w).shape:\n",
      " (2, 3, 3)\n",
      "np.dot(v, w).shape:\n",
      " (2, 3, 2, 3)\n"
     ]
    }
   ],
   "execution_count": 66
  },
  {
   "metadata": {},
   "cell_type": "markdown",
   "source": "If you didn't understand fully what `np.dot()` does in more than 2 dimensions don't worry, it doesn't get used frequently in practice! ;)",
   "id": "1fdde65feb2d93f"
  },
  {
   "metadata": {},
   "cell_type": "markdown",
   "source": [
    "### Apply functions to vectors\n",
    "\n",
    "Define a simple python function that computes $f(x,y) = xy + x + y$ for integer $x,y\\in\\mathbb{Z}$. \n",
    "Use numpy to apply such a function to two vectors of size 3, element by element. \n",
    "\n",
    "e.g. $v = [1,2,3]$, $w=[0,3,4]$, $f(v,w) = [1, 11, 19]$\n",
    "\n",
    "Hint: see [`np.vectorize`](https://numpy.org/doc/stable/reference/generated/numpy.vectorize.html)"
   ],
   "id": "690584d32ab976c7"
  },
  {
   "metadata": {
    "ExecuteTime": {
     "end_time": "2024-09-18T13:08:37.302304Z",
     "start_time": "2024-09-18T13:08:37.297886Z"
    }
   },
   "cell_type": "code",
   "source": [
    "## Define function f\n",
    "def f(x: int, y: int) -> int:\n",
    "    return (x * y) + (x + y)\n",
    "\n",
    "## Apply function f to vectors v, w element by element\n",
    "v = np.array([1, 2, 3])\n",
    "w = np.array([0, 3, 4])\n",
    "# Notice that f takes integers as inputs (not vectors). v, w are fed element by element to f as 3 pairs of inputs.\n",
    "print(\"f(v, w):\", np.vectorize(f)(v, w))"
   ],
   "id": "3fc5ab3a1c46b083",
   "outputs": [
    {
     "name": "stdout",
     "output_type": "stream",
     "text": [
      "f(v, w): [ 1 11 19]\n"
     ]
    }
   ],
   "execution_count": 71
  },
  {
   "metadata": {},
   "cell_type": "markdown",
   "source": [
    "### Filtering\n",
    "\n",
    "Create a random vector of integers in the interval [0, 10) of size 10, and filter all elements larger than 4 and less than 8 and set them to 20. Try to do it using both [boolean masks](https://www.programiz.com/python-programming/numpy/boolean-indexing) and [`np.where`](https://numpy.org/doc/stable/reference/generated/numpy.where.html)"
   ],
   "id": "269ff1e57e3cce08"
  },
  {
   "metadata": {
    "ExecuteTime": {
     "end_time": "2024-09-18T13:13:50.235444Z",
     "start_time": "2024-09-18T13:13:50.230335Z"
    }
   },
   "cell_type": "code",
   "source": [
    "## Filter elements in the interval [5, 8) and set them to 20\n",
    "v = np.random.randint(0, 10, size=10)\n",
    "print(\"v =\", v)\n",
    "\n",
    "## 1: boolean masks.\n",
    "w = v.copy()\n",
    "# Change elements of w that satisfy the above condition and set them to 20 using boolean masks.\n",
    "w[(w>4)&(w<8)] = 20\n",
    "print(\"w =\", w)\n",
    "\n",
    "## 2: np.where.\n",
    "w = v.copy()\n",
    "# If condition is met, return 20, else the elements of w itself.\n",
    "w = np.where((w>4)&(w<8), 20, w)\n",
    "print(\"w =\", w)"
   ],
   "id": "e3fa9a6ec6c7d959",
   "outputs": [
    {
     "name": "stdout",
     "output_type": "stream",
     "text": [
      "v = [1 7 5 7 0 3 6 9 6 0]\n",
      "w = [ 1 20 20 20  0  3 20  9 20  0]\n",
      "w = [ 1 20 20 20  0  3 20  9 20  0]\n"
     ]
    }
   ],
   "execution_count": 76
  },
  {
   "metadata": {},
   "cell_type": "markdown",
   "source": [
    "## The curse of dimensionality\n",
    "\n",
    "In this exercise you are going to experience the \"curse of dimensionality\": namely, data in a high dimensional space becomes increasingly sparse.\n",
    "\n",
    "We are going to visualize it graphically by plotting 10 random points in unit hypercubes of increasing dimensions (1, 2, 3)."
   ],
   "id": "3a618e6b3861fa31"
  },
  {
   "metadata": {},
   "cell_type": "markdown",
   "source": [
    "1) To begin with, let us create a random vector of 10 data points uniformly distributed in the interval [0, 1). Plot this distribution using `matplotlib` see method `plt.scatter`.\n",
    "In order to scatter points, you need 2-dimensional points (axes $x,y$). In this case, just set the $y$ axis value to 0."
   ],
   "id": "d4965585ce77150"
  },
  {
   "metadata": {
    "ExecuteTime": {
     "end_time": "2024-09-18T13:14:02.927513Z",
     "start_time": "2024-09-18T13:14:02.651397Z"
    }
   },
   "cell_type": "code",
   "source": "import matplotlib.pyplot as plt",
   "id": "c885a00a8df920de",
   "outputs": [],
   "execution_count": 77
  },
  {
   "metadata": {
    "ExecuteTime": {
     "end_time": "2024-09-18T13:14:45.755706Z",
     "start_time": "2024-09-18T13:14:45.637756Z"
    }
   },
   "cell_type": "code",
   "source": [
    "## 1: Create 10 points in 1 dimension, and plot them on a line.\n",
    "\n",
    "data1d = np.random.rand(10, 1)  # Make sure its shape is (10, 1)\n",
    "# Scatter 10 points in one dimension:\n",
    "plt.scatter(data1d, np.zeros(10))  # Use 0 as y value.\n"
   ],
   "id": "70f595d3c9aeb90",
   "outputs": [
    {
     "data": {
      "text/plain": [
       "<matplotlib.collections.PathCollection at 0x12e992f40>"
      ]
     },
     "execution_count": 78,
     "metadata": {},
     "output_type": "execute_result"
    },
    {
     "data": {
      "text/plain": [
       "<Figure size 640x480 with 1 Axes>"
      ],
      "image/png": "[encoded data removed]"
     },
     "metadata": {},
     "output_type": "display_data"
    }
   ],
   "execution_count": 78
  },
  {
   "metadata": {},
   "cell_type": "markdown",
   "source": "2) Then, do the same for a 2-dimensional space: create 10 random points in the 2-dimensional unit hypercube (a square), and plot them.",
   "id": "34816f5cc630403"
  },
  {
   "metadata": {
    "ExecuteTime": {
     "end_time": "2024-09-18T13:15:29.138699Z",
     "start_time": "2024-09-18T13:15:29.085835Z"
    }
   },
   "cell_type": "code",
   "source": [
    "## 2: Create 10 points in 2 dimensions, and plot them in the 2D plane.\n",
    "\n",
    "data2d = np.random.rand(10, 2)  # Make sure its shape is (10, 2)\n",
    "# Scatter 10 points in 2 dimensions:\n",
    "plt.scatter(data2d[:, 0], data2d[:, 1])"
   ],
   "id": "3cc8a662c0cb7419",
   "outputs": [
    {
     "data": {
      "text/plain": [
       "<matplotlib.collections.PathCollection at 0x12ea90610>"
      ]
     },
     "execution_count": 79,
     "metadata": {},
     "output_type": "execute_result"
    },
    {
     "data": {
      "text/plain": [
       "<Figure size 640x480 with 1 Axes>"
      ],
      "image/png": "[encoded data removed]"
     },
     "metadata": {},
     "output_type": "display_data"
    }
   ],
   "execution_count": 79
  },
  {
   "metadata": {},
   "cell_type": "markdown",
   "source": "What do you notice? Do you think points are more spread out in the 2-dimensional or in the 1-dimensional hypercube?",
   "id": "d72d81c31af22992"
  },
  {
   "metadata": {},
   "cell_type": "markdown",
   "source": "Loosely speaking, it is visually clear that points are more spread out in the 2-dimensional hypercube.",
   "id": "2f2983fa6b5efca5"
  },
  {
   "metadata": {},
   "cell_type": "markdown",
   "source": "3) Let us try also with the 3-dimensional space: create 10 random points in the 3-dimensional unit hypercube (a cube), and plot them using [`ax.scatter3D`](https://www.geeksforgeeks.org/3d-scatter-plotting-in-python-using-matplotlib/).",
   "id": "1398e35aceda9043"
  },
  {
   "metadata": {
    "ExecuteTime": {
     "end_time": "2024-09-18T13:23:58.057412Z",
     "start_time": "2024-09-18T13:23:57.981929Z"
    }
   },
   "cell_type": "code",
   "source": [
    "## 3: Create 10 points in 3D, and plot them in the 3D plane.\n",
    "\n",
    "data3d = np.random.rand(10, 3)  # Make sure its shape is (10, 3)\n",
    "fig = plt.figure(figsize = (10, 7))\n",
    "ax = plt.axes(projection =\"3d\")\n",
    "ax.scatter3D(data3d[:, 0], data3d[:, 1], data3d[:, 2])"
   ],
   "id": "326f11e900bbdf07",
   "outputs": [
    {
     "data": {
      "text/plain": [
       "<mpl_toolkits.mplot3d.art3d.Path3DCollection at 0x12ede5c10>"
      ]
     },
     "execution_count": 86,
     "metadata": {},
     "output_type": "execute_result"
    },
    {
     "data": {
      "text/plain": [
       "<Figure size 1000x700 with 1 Axes>"
      ],
      "image/png": "[encoded data removed]"
     },
     "metadata": {},
     "output_type": "display_data"
    }
   ],
   "execution_count": 86
  },
  {
   "metadata": {},
   "cell_type": "markdown",
   "source": "What do you notice? Do you think points are more spread out in the 3-dimensional, 2-dimensional or 1-dimensional hypercube?",
   "id": "2552cb661a19ecc5"
  },
  {
   "metadata": {},
   "cell_type": "markdown",
   "source": "Again loosely speaking, the higher the dimension of the hypercube, the more spread out points are.",
   "id": "22d685b117221962"
  },
  {
   "metadata": {},
   "cell_type": "markdown",
   "source": [
    "Let us try to quantify numerically how distant from each other the points in the three hypercubes are. \n",
    "\n",
    "Write a function that, taken a list of 10 $k$-dimensional points (shape (10, $k$), for any $k\\in\\mathbb{N}$), computes the average pairwise distance between all pairs of points. (*) \n",
    "\n",
    "The distance between two $k$-dimensional points $x, y$ is given by the formula $dist(x, y) = \\sqrt{\\sum_{i=1}^k (x_i - y_i)^2}$, for $x,y\\in\\mathbb{R}^k$.\n",
    "\n",
    "The average pairwise distance of a list $v$ of 10 $k$-dimensional points is given by the formula: $\\frac{\\sum_{i=1}^{9} \\sum_{j=i+1}^{10} dist(v_i, v_j)}{\\sum_{i=1}^{9} \\sum_{j=i+1}^{10} 1}$. Notice that $v$ has shape (10, $k$), and $v_i, v_j$ have both shape $k$. \n",
    "\n",
    "Try to use numpy core functions and broadcasting when possible."
   ],
   "id": "e86fff05f7701287"
  },
  {
   "metadata": {
    "ExecuteTime": {
     "end_time": "2024-09-18T14:20:42.804003Z",
     "start_time": "2024-09-18T14:20:42.799895Z"
    }
   },
   "cell_type": "code",
   "source": [
    "def dist(x: np.array, y: np.array) -> float:\n",
    "    # use broadcasting to compute x-y and the power 2.\n",
    "    return np.sqrt(np.sum((x-y)**2))\n",
    "\n",
    "\n",
    "def avg_pairwise_distance(v: np.array) -> float:\n",
    "    count = np.sum([1 for i in range(9) for j in range(i+1, 10)])\n",
    "    total = np.sum([dist(v[i], v[j]) for i in range(9) for j in range(i+1, 10)])\n",
    "    return total / count"
   ],
   "id": "76883d3519e4b172",
   "outputs": [],
   "execution_count": 93
  },
  {
   "metadata": {},
   "cell_type": "markdown",
   "source": "Use the above function to compute the average distance between points in `data1d`, between points in `data2d` and between points in `data3d`. Which one is larger?",
   "id": "2bf4233a82c0770d"
  },
  {
   "metadata": {
    "ExecuteTime": {
     "end_time": "2024-09-18T14:21:18.219051Z",
     "start_time": "2024-09-18T14:21:18.216256Z"
    }
   },
   "cell_type": "code",
   "source": [
    "print(\"1D:\", avg_pairwise_distance(data1d))\n",
    "print(\"2D:\", avg_pairwise_distance(data2d))\n",
    "print(\"3D:\", avg_pairwise_distance(data3d))"
   ],
   "id": "401120275a135b59",
   "outputs": [
    {
     "name": "stdout",
     "output_type": "stream",
     "text": [
      "1D: 0.3874761372387627\n",
      "2D: 0.5703642175712021\n",
      "3D: 0.7423510293987945\n"
     ]
    }
   ],
   "execution_count": 95
  },
  {
   "metadata": {},
   "cell_type": "markdown",
   "source": "Notice that the higher the dimensionality of the hypercube, the more spread out are the random points.",
   "id": "264ded911d6ca653"
  }
 ],
 "metadata": {
  "kernelspec": {
   "display_name": "Python 3",
   "language": "python",
   "name": "python3"
  },
  "language_info": {
   "codemirror_mode": {
    "name": "ipython",
    "version": 2
   },
   "file_extension": ".py",
   "mimetype": "text/x-python",
   "name": "python",
   "nbconvert_exporter": "python",
   "pygments_lexer": "ipython2",
   "version": "2.7.6"
  }
 },
 "nbformat": 4,
 "nbformat_minor": 5
}
