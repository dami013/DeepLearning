{
 "cells": [
  {
   "cell_type": "markdown",
   "id": "6eadf8f3a440b0c5",
   "metadata": {},
   "source": [
    "# Exercise 1\n",
    "## Authors: E. Vercesi; A. Dei Rossi, G. Dominici, S. Huber\n",
    "\n",
    "This Notebook is a guideline for Exercise 1.\n",
    "\n",
    "Exercises marked with a (*) are a bit more challenging."
   ]
  },
  {
   "cell_type": "markdown",
   "id": "13c19f1afe426669",
   "metadata": {},
   "source": [
    "## Lists\n",
    "Lists are one of the fundamental data structures in Python. They are used to store ordered collections of items. \n",
    "\n",
    "Given the following list (of fruits), learn how to \n",
    "1. Access elements: print the first and last element (which is the index of the first element?).\n",
    "2. Modify elements (e.g, change the third element \"cherry\" to \"pineapple\").\n",
    "3. Get the length of the list.\n",
    "4. Add one element (\"blueberry\") at the end.\n",
    "5. Remove one element (\"banana\"). Take care of what functions `pop` or `remove` return and what happens to the original list. What is the meaning of *in-place* method?\n",
    "6. Learn about the meaning of slicing, then slice your list (get all elements in between index 1 and 3 inclusive).\n",
    "7. Learn about the meaning of [list comprehension](https://docs.python.org/3/tutorial/datastructures.html#list-comprehensions) and filter your list of fruits by keeping only fruits starting with \"a\". (*)"
   ]
  },
  {
   "cell_type": "code",
   "execution_count": 3,
   "id": "3ade4c133437e723",
   "metadata": {
    "ExecuteTime": {
     "end_time": "2024-09-13T13:04:00.561859Z",
     "start_time": "2024-09-13T13:04:00.555666Z"
    }
   },
   "outputs": [
    {
     "name": "stdout",
     "output_type": "stream",
     "text": [
      "apple avocado\n",
      "['pineapple', 'orange', 'avocado']\n",
      "apple\n",
      "avocado\n"
     ]
    }
   ],
   "source": [
    "fruits = [\"apple\", \"banana\", \"cherry\", \"orange\", \"avocado\"]\n",
    "\n",
    "## 1: print first and last element\n",
    "print(fruits[0],fruits[4])\n",
    "\n",
    "## 2: \"cherry\" -> \"pineapple\"\n",
    "fruits[2] = \"pineapple\"\n",
    "\n",
    "## 3: length\n",
    "len(fruits)\n",
    "\n",
    "## 4: add \"blueberry\" at the end\n",
    "fruits.append(\"blueberry\")\n",
    "\n",
    "## 5: remove \"banana\"\n",
    "fruits.remove(\"banana\")\n",
    "\n",
    "## 6: slicing: get elements between index 1 and 3 inclusive\n",
    "print(fruits[1:4])\n",
    "\n",
    "## 7: list comprehension: filter fruits that start with \"a\"\n",
    "for a in fruits:\n",
    "    if a.startswith(\"a\"):\n",
    "          print(a)\n"
   ]
  },
  {
   "cell_type": "markdown",
   "id": "a691145cbf354f65",
   "metadata": {},
   "source": [
    "## Numpy\n",
    "NumPy is a fundamental Python library for numerical and scientific computing. It provides support for working with large, multi-dimensional arrays and matrices, as well as a collection of mathematical functions to operate on these arrays efficiently. \n",
    "In this part, we will start learning some numpy basics. Before continuing, make sure you have numpy installed in your virtual environment."
   ]
  },
  {
   "cell_type": "code",
   "execution_count": 4,
   "id": "f10ff783313245d1",
   "metadata": {
    "ExecuteTime": {
     "end_time": "2024-09-13T10:24:33.711865Z",
     "start_time": "2024-09-13T10:24:33.612864Z"
    }
   },
   "outputs": [],
   "source": [
    "import numpy as np"
   ]
  },
  {
   "cell_type": "markdown",
   "id": "fe61d4815f5af551",
   "metadata": {},
   "source": [
    "### Create numpy arrays\n",
    "\n",
    "Create numpy arrays out of:\n",
    "- list (And try to change the value of the element in position [1, 1] from 5 to 10)\n",
    "- tuple\n",
    "- set (*)\n",
    "\n",
    "and print the shape and the `dtype` of the arrays. Do you notice anything unexpected? ."
   ]
  },
  {
   "cell_type": "code",
   "execution_count": 5,
   "id": "7a3318cb03fa4224",
   "metadata": {
    "ExecuteTime": {
     "end_time": "2024-09-12T08:28:17.174772Z",
     "start_time": "2024-09-12T08:28:17.171744Z"
    }
   },
   "outputs": [
    {
     "name": "stdout",
     "output_type": "stream",
     "text": [
      "[[ 1  2  3]\n",
      " [ 4 10  6]]\n",
      "(2, 3)\n",
      "(3,)\n",
      "()\n"
     ]
    }
   ],
   "source": [
    "## 1: list\n",
    "my_list = [[1, 2, 3], [4, 5, 6]]\n",
    "\n",
    "## 2: tuple\n",
    "my_tuple = (1, 2, 3)\n",
    "\n",
    "## 3: set\n",
    "my_set = {1, 2, 3}\n",
    "\n",
    "alist =np.array(my_list)\n",
    "tupl = np.array(my_tuple)\n",
    "seti = np.array(my_set)\n",
    "\n",
    "alist[1,1] = 10\n",
    "print(alist)\n",
    "\n",
    "print(alist.shape)\n",
    "print(tupl.shape)\n",
    "print(seti.shape)\n"
   ]
  },
  {
   "cell_type": "markdown",
   "id": "5fb42413bd4c908c",
   "metadata": {},
   "source": [
    "Check functions [`np.arange`](https://numpy.org/doc/stable/reference/generated/numpy.arange.html#numpy.arange) and [`np.linspace`](https://numpy.org/doc/stable/reference/generated/numpy.linspace.html) and create vectors of size (3, 4) ([`np.reshape`](https://numpy.org/doc/stable/reference/generated/numpy.reshape.html)) with values from 0 to 11 using both functions.  "
   ]
  },
  {
   "cell_type": "code",
   "execution_count": 6,
   "id": "3eb755e5e8d582de",
   "metadata": {
    "ExecuteTime": {
     "end_time": "2024-09-13T13:06:16.576312Z",
     "start_time": "2024-09-13T13:06:16.573999Z"
    }
   },
   "outputs": [
    {
     "name": "stdout",
     "output_type": "stream",
     "text": [
      "[[ 0  1  2  3]\n",
      " [ 4  5  6  7]\n",
      " [ 8  9 10 11]]\n",
      "[[ 0  1  2  3]\n",
      " [ 4  5  6  7]\n",
      " [ 8  9 10 12]]\n"
     ]
    }
   ],
   "source": [
    "np.arange\n",
    "np.linspace\n",
    "\n",
    "arr = np.arange(0,12)\n",
    "newarr = arr.reshape(3,4 )\n",
    "\n",
    "print(newarr) \n",
    "\n",
    "\n",
    "arr2 = np.linspace(0,12, num = 12,dtype =np.int32).reshape(3,4)\n",
    "print(arr2)"
   ]
  },
  {
   "cell_type": "markdown",
   "id": "e907a65b9222aa2c",
   "metadata": {},
   "source": [
    "### Slicing\n",
    "\n",
    "Take the above array of dimension (3, 4), and access (see [slicing](https://numpy.org/doc/stable/user/basics.indexing.html)):\n",
    "1) element in position [1,2].\n",
    "2) the third row.\n",
    "3) the third column.\n",
    "4) the 2x2 sub-matrix ranging in between the second and third row and first and second column."
   ]
  },
  {
   "cell_type": "code",
   "execution_count": 7,
   "id": "611910278d8d43a6",
   "metadata": {
    "ExecuteTime": {
     "end_time": "2024-09-12T14:38:48.732076Z",
     "start_time": "2024-09-12T14:38:48.729193Z"
    }
   },
   "outputs": [
    {
     "name": "stdout",
     "output_type": "stream",
     "text": [
      "6\n",
      "[ 8  9 10 11]\n",
      "[ 2  6 10]\n",
      "[[4 5]\n",
      " [8 9]]\n"
     ]
    }
   ],
   "source": [
    "## 1: access element\n",
    "x = newarr[1,2]\n",
    "print(x)\n",
    "\n",
    "## 2: access row\n",
    "y = newarr[2,:]\n",
    "print(y)\n",
    "## 3: access column\n",
    "z = newarr[:,2]\n",
    "print(z)\n",
    "\n",
    "## 4: sub-matrix\n",
    "submatrix = newarr[1:3,0:2]\n",
    "print(submatrix)"
   ]
  },
  {
   "cell_type": "markdown",
   "id": "33ef4e084c586c85",
   "metadata": {},
   "source": [
    "### Random arrays\n",
    "Create random multidimensionals array and inspect their shape. Try different combinations of dimensions and different distributions (normal, uniform)\n",
    "\n",
    "1) Create a random array of size 4 of uniform floating point numbers in the interval [0, 1).\n",
    "2) Create a random array of size (3, 2) of uniform floating point numbers in the interval [0, 5).\n",
    "3) Create a random array of size (2, 1, 2) of integers in the interval [10, 20].\n",
    "4) Create a random array of size 10 over the normal distribution, mean 3 and std dev 2."
   ]
  },
  {
   "cell_type": "code",
   "execution_count": 8,
   "id": "286b556988670e1e",
   "metadata": {
    "ExecuteTime": {
     "end_time": "2024-09-13T13:09:01.317236Z",
     "start_time": "2024-09-13T13:09:01.315140Z"
    }
   },
   "outputs": [
    {
     "name": "stdout",
     "output_type": "stream",
     "text": [
      "ex1: [0.86249415 0.77510006 0.16927749 0.52907226]\n",
      "ex2: [[4.66535102 3.35615941]\n",
      " [4.71976769 2.38219938]\n",
      " [4.38535528 0.441665  ]]\n",
      "ex3: [[[17 15]]\n",
      "\n",
      " [[17 11]]]\n",
      "ex4: [3.77558436 3.95136835 4.5621679  0.63496475 3.55405534 3.54635863\n",
      " 3.48437437 4.96217925 1.44657764 2.26569596]\n"
     ]
    }
   ],
   "source": [
    "## 1: \n",
    "random_a = np.random.uniform(size=(4))\n",
    "print(\"ex1:\", random_a)\n",
    "## 2: \n",
    "random_b = np.random.uniform(0, 5, size=(3, 2))\n",
    "print(\"ex2:\",random_b)\n",
    "## 3: \n",
    "random_int_array = np.random.randint(10,20, size=(2,1, 2))\n",
    "print(\"ex3:\", random_int_array)\n",
    "## 4:\n",
    "random_d = np.random.normal(loc=3,scale=2,size=10)\n",
    "print(\"ex4:\", random_d)"
   ]
  },
  {
   "cell_type": "markdown",
   "id": "5d07c1af00ba053",
   "metadata": {},
   "source": [
    "### Copy arrays\n",
    "\n",
    "Please have a look at [`np.copy`](https://numpy.org/doc/stable/reference/generated/numpy.copy.html). \n",
    "1) Create a vector $v$ of size 3, copy it to a new vector $w$, change one entry of vector $w$ and make sure that $v$ is not affected.\n",
    "2) What if we wanted to change vector $v$ when changing the entries of $w$? "
   ]
  },
  {
   "cell_type": "code",
   "execution_count": 9,
   "id": "3761a9d50a9b219d",
   "metadata": {},
   "outputs": [
    {
     "name": "stdout",
     "output_type": "stream",
     "text": [
      "[1 2 3]\n",
      "[56  2  3]\n"
     ]
    }
   ],
   "source": [
    "## 1: Create vector v, copy it to w, change w and make sure v is unaltered.\n",
    "v = np.array([1,2,3])\n",
    "w = np.copy(v)\n",
    "w[0] = 10\n",
    "print(v)\n",
    "## 2: Create vector v, copy it to w, change w and make sure v is altered as well.\n",
    "## important to create the association\n",
    "v1 = np.array([1,2,3])\n",
    "w1 = np.copy(v)\n",
    "w1 = v1\n",
    "w1[0] = 56\n",
    "\n",
    "\n",
    "print(v1)"
   ]
  },
  {
   "cell_type": "markdown",
   "id": "a031a17e19749620",
   "metadata": {},
   "source": [
    "### Element-wise functions and broadcasting\n",
    "\n",
    "1) Given $v = [1, 2, 3], w = [4, 5, 6]$ compute $v - w$, that is, element-wise subtraction. \n",
    "\n",
    "2) What happens if $v = [1, 2]$? \n",
    "\n",
    "3) set $\\lambda=3$ and perform $\\lambda w$. Why can't you use as variable name the word \"lambda\"?\n",
    " \n",
    "4) And if $v = \\begin{bmatrix} 4 & 7 & 6 \\\\ 5 & 8 & 9 \\end{bmatrix}$ (shape (2, 3)) and you want to subtract $w$ to all the rows of $v$? (Read carefully [broadcasting](https://numpy.org/doc/stable/user/basics.broadcasting.html)) (*)\n",
    "\n",
    "5) And if $v = \\begin{bmatrix} 4 & 5 \\\\ 7 & 8 \\\\ 6 & 9 \\end{bmatrix}$ (shape (3, 2)) and you want to subtract $w$ to all the columns of $v$? (See [`np.newaxis`](https://stackoverflow.com/a/41267079), `np.vstack` or `.T` transpose operator) (*)\n",
    "\n"
   ]
  },
  {
   "cell_type": "code",
   "execution_count": 10,
   "id": "a847431f77c7f798",
   "metadata": {
    "ExecuteTime": {
     "end_time": "2024-09-13T13:14:22.961708Z",
     "start_time": "2024-09-13T13:14:22.958332Z"
    }
   },
   "outputs": [
    {
     "name": "stdout",
     "output_type": "stream",
     "text": [
      "[-3 -3 -3]\n",
      "[12 15 18]\n",
      "[[0 2 0]\n",
      " [1 3 3]]\n",
      "[[0 1]\n",
      " [2 3]\n",
      " [0 3]]\n"
     ]
    }
   ],
   "source": [
    "v = np.array([1, 2, 3])\n",
    "w = np.array([4, 5, 6])\n",
    "\n",
    "## 1: Perform v - w using numpy arrays\n",
    "out = v-w\n",
    "print(out)\n",
    "\n",
    "## 2: v is smaller, what does v - w do? it will give an error, diff sizes\n",
    "    # v2 = np.array([1, 2])\n",
    "    # out = v2-w\n",
    "    # print(out)\n",
    "\n",
    "## 3: Multiply all entries of w by lambda = 3.\n",
    "lambdavalue = 3\n",
    "res = w * lambdavalue\n",
    "print(res)\n",
    "\n",
    "\n",
    "## 4: v is higher dimensional, subtract w from all the rows of v.\n",
    "v4 = np.array([[4, 7, 6], [5, 8, 9]])\n",
    "out2 = v4-w\n",
    "print(out2)\n",
    "\n",
    "## 5: v is higher dimensional, subtract w from all the columns of v.\n",
    "v5 = np.array([[4, 5], [7, 8], [6, 9]])\n",
    "out = v5 - w[:, np.newaxis]\n",
    "print(out)"
   ]
  },
  {
   "cell_type": "markdown",
   "id": "a2446822fcf0acf8",
   "metadata": {},
   "source": [
    "### Max, min, sum, along different axis\n",
    "\n",
    "1) Get the max value in the matrix $v = \\begin{bmatrix} 1 & 5 & 3 \\\\ 3 & 4 & 7 \\end{bmatrix}$.\n",
    "2) Get the max value in the matrix $v$ along the columns (see [axis](https://www.pythonpool.com/numpy-axis/)). Predict the shape of the result vector.\n",
    "3) Get the max value in the matrix $v$ along the rows. Predict the shape of the result vector.\n",
    "4) Create a random array of shape (2, 3, 4) and get the min along axis 1. Predict the shape of the result and understand what is going on. (*)\n",
    "\n"
   ]
  },
  {
   "cell_type": "code",
   "execution_count": 11,
   "id": "1eba5922244c5997",
   "metadata": {
    "ExecuteTime": {
     "end_time": "2024-09-13T13:16:03.948102Z",
     "start_time": "2024-09-13T13:16:03.945439Z"
    }
   },
   "outputs": [
    {
     "name": "stdout",
     "output_type": "stream",
     "text": [
      "General max value 7\n",
      "------------\n",
      "[3 5 7]\n",
      "7\n",
      "(3,)\n",
      "------------\n",
      "[5 7]\n",
      "7\n",
      "(2,)\n",
      "------------\n",
      "Original array:\n",
      "[[[1 7 2 0]\n",
      "  [9 3 1 1]\n",
      "  [7 1 8 7]]\n",
      "\n",
      " [[0 9 2 0]\n",
      "  [1 8 0 6]\n",
      "  [1 5 8 3]]]\n",
      "\n",
      "Original array shape: (2, 3, 4)\n",
      "\n",
      "Result:\n",
      "[[1 1 1 0]\n",
      " [0 5 0 0]]\n",
      "\n",
      "Result shape: (2, 4)\n"
     ]
    }
   ],
   "source": [
    "v = np.array([[1, 5, 3], [3, 4, 7]])\n",
    "\n",
    "## 1: get max value.\n",
    "print(\"General max value\", v.max())\n",
    "print(\"------------\")\n",
    "## 2: get max value along the columns.\n",
    "max_values_rows = np.max(v, axis=0)\n",
    "print(max_values_rows)\n",
    "print(max_values_rows.max())\n",
    "print(max_values_rows.shape)\n",
    "print(\"------------\")\n",
    "## 3: get the max value along the rows.\n",
    "max_values_col = np.max(v, axis=1)\n",
    "print(max_values_col)\n",
    "print(max_values_col.max())\n",
    "print(max_values_col.shape)\n",
    "print(\"------------\")\n",
    "## 4: Create a random array of shape (2, 3, 4) and get the min along axis = 1. Predict the shape of the output matrix.\n",
    "# Create a random array of shape (2, 3, 4)\n",
    "arr = np.random.randint(10, size=(2, 3, 4))\n",
    "\n",
    "# Get the minimum along axis 1\n",
    "result = np.min(arr, axis=1)\n",
    "\n",
    "# Print the original array, the result, and their shapes\n",
    "print(\"Original array:\")\n",
    "print(arr)\n",
    "print(\"\\nOriginal array shape:\", arr.shape)\n",
    "print(\"\\nResult:\")\n",
    "print(result)\n",
    "print(\"\\nResult shape:\", result.shape)\n"
   ]
  },
  {
   "cell_type": "markdown",
   "id": "c87dac73669cd268",
   "metadata": {},
   "source": [
    "### `np.matmul`, `np.dot`, `@` and `*`\n",
    "\n",
    "Learn the difference between these operands. (Keep in mind that `np.dot` does not get used frequently for high dimensional vectors).\n",
    "\n",
    "1. Take the dot product between two integer random vectors of size 3. Can you do it in multiple ways? In case you can, check that the result is the same.\n",
    "2. Take the element-wise product (Hadamard product) between two integer random matrices of size (4, 2). Predict the shape of the result.\n",
    "3. Take the dot product between an integer random matrix of size (3, 2) and an integer random vector of size (2). Predict the shape of the result. Can you do it in multiple ways? In case you can, check that the result is the same.\n",
    "4. Take the dot product between an integer random matrix of size (4, 3) and another integer random matrix of size (3, 2). Predict the shape of the result. Can you do it in multiple ways? In case you can, check that the result is the same.\n",
    "5. (Optional) see the difference between the `np.dot` and `np.matmul` of two integer random matrices of shape (2, 3, 3). Predict the shape of the two results. (*)\n"
   ]
  },
  {
   "cell_type": "code",
   "execution_count": 12,
   "id": "afef90beac636a80",
   "metadata": {
    "ExecuteTime": {
     "end_time": "2024-09-12T14:27:06.309596Z",
     "start_time": "2024-09-12T14:27:06.303792Z"
    }
   },
   "outputs": [
    {
     "name": "stdout",
     "output_type": "stream",
     "text": [
      "a: [4 0 3]\n",
      "b: [8 7 2]\n",
      "Result 1 (np.dot): 38\n",
      "Result 2 (@): 38\n",
      "Result 3 (sum of element-wise): 38\n",
      "A:\n",
      "[[0 2]\n",
      " [4 6]\n",
      " [3 2]\n",
      " [7 4]]\n",
      "B:\n",
      "[[7 0]\n",
      " [9 2]\n",
      " [3 9]\n",
      " [4 7]]\n",
      "Element-wise product:\n",
      "[[ 0  0]\n",
      " [36 12]\n",
      " [ 9 18]\n",
      " [28 28]]\n",
      "C:\n",
      "[[4 7]\n",
      " [1 8]\n",
      " [6 0]]\n",
      "v: [9 3]\n",
      "Result 1 (np.dot): [57 33 54]\n",
      "Result 2 (@): [57 33 54]\n",
      "D:\n",
      "[[4 2 9]\n",
      " [5 5 1]\n",
      " [2 5 6]\n",
      " [8 0 5]]\n",
      "E:\n",
      "[[8 2]\n",
      " [6 7]\n",
      " [4 4]]\n",
      "Result 1 (np.dot):\n",
      "[[80 58]\n",
      " [74 49]\n",
      " [70 63]\n",
      " [84 36]]\n",
      "Result 2 (@):\n",
      "[[80 58]\n",
      " [74 49]\n",
      " [70 63]\n",
      " [84 36]]\n",
      "Result 3 (np.matmul):\n",
      "[[80 58]\n",
      " [74 49]\n",
      " [70 63]\n",
      " [84 36]]\n",
      "F shape: (2, 3, 3)\n",
      "G shape: (2, 3, 3)\n",
      "np.dot result shape: (2, 3, 2, 3)\n",
      "np.matmul result shape: (2, 3, 3)\n"
     ]
    }
   ],
   "source": [
    "a = np.random.randint(0, 10, size=(3))\n",
    "b = np.random.randint(0, 10, 3)\n",
    "\n",
    "print(\"a:\", a)\n",
    "print(\"b:\", b)\n",
    "\n",
    "# Method 1: np.dot\n",
    "result1 = np.dot(a,b)\n",
    "\n",
    "# Method 2: @\n",
    "result2 = a @ b\n",
    "\n",
    "# Method 3: sum of element-wise product\n",
    "result3 = np.sum(a * b)\n",
    "\n",
    "print(\"Result 1 (np.dot):\", result1)\n",
    "print(\"Result 2 (@):\", result2)\n",
    "print(\"Result 3 (sum of element-wise):\", result3)\n",
    "\n",
    "A = np.random.randint(0, 10, (4, 2))\n",
    "B = np.random.randint(0, 10, (4, 2))\n",
    "\n",
    "print(\"A:\")\n",
    "print(A)\n",
    "print(\"B:\")\n",
    "print(B)\n",
    "\n",
    "result = A * B\n",
    "print(\"Element-wise product:\")\n",
    "print(result)\n",
    "\n",
    "C = np.random.randint(0, 10, (3, 2))\n",
    "v = np.random.randint(0, 10, 2)\n",
    "\n",
    "print(\"C:\")\n",
    "print(C)\n",
    "print(\"v:\", v)\n",
    "\n",
    "# Method 1: np.dot\n",
    "result1 = np.dot(C, v)\n",
    "\n",
    "# Method 2: @\n",
    "result2 = C @ v\n",
    "\n",
    "print(\"Result 1 (np.dot):\", result1)\n",
    "print(\"Result 2 (@):\", result2)\n",
    "\n",
    "D = np.random.randint(0, 10, (4, 3))\n",
    "E = np.random.randint(0, 10, (3, 2))\n",
    "\n",
    "print(\"D:\")\n",
    "print(D)\n",
    "print(\"E:\")\n",
    "print(E)\n",
    "\n",
    "# Method 1: np.dot\n",
    "result1 = np.dot(D, E)\n",
    "\n",
    "# Method 2: @\n",
    "result2 = D @ E\n",
    "\n",
    "# Method 3: np.matmul\n",
    "result3 = np.matmul(D, E)\n",
    "\n",
    "print(\"Result 1 (np.dot):\")\n",
    "print(result1)\n",
    "print(\"Result 2 (@):\")\n",
    "print(result2)\n",
    "print(\"Result 3 (np.matmul):\")\n",
    "print(result3)\n",
    "\n",
    "F = np.random.randint(0, 10, (2, 3, 3))\n",
    "G = np.random.randint(0, 10, (2, 3, 3))\n",
    "\n",
    "print(\"F shape:\", F.shape)\n",
    "print(\"G shape:\", G.shape)\n",
    "\n",
    "dot_result = np.dot(F, G)\n",
    "matmul_result = np.matmul(F, G)\n",
    "\n",
    "print(\"np.dot result shape:\", dot_result.shape)\n",
    "print(\"np.matmul result shape:\", matmul_result.shape)"
   ]
  },
  {
   "cell_type": "markdown",
   "id": "690584d32ab976c7",
   "metadata": {},
   "source": [
    "### Apply functions to vectors\n",
    "\n",
    "Define a simple python function that computes $f(x,y) = xy + x + y$ for integer $x,y\\in\\mathbb{Z}$. \n",
    "Use numpy to apply such a function to two vectors of size 3, element by element. \n",
    "\n",
    "e.g. $v = [1,2,3]$, $w=[0,3,4]$, $f(v,w) = [1, 11, 19]$\n",
    "\n",
    "Hint: see [`np.vectorize`](https://numpy.org/doc/stable/reference/generated/numpy.vectorize.html)"
   ]
  },
  {
   "cell_type": "code",
   "execution_count": 13,
   "id": "3fc5ab3a1c46b083",
   "metadata": {
    "ExecuteTime": {
     "end_time": "2024-09-12T14:33:20.485282Z",
     "start_time": "2024-09-12T14:33:20.482615Z"
    }
   },
   "outputs": [
    {
     "name": "stdout",
     "output_type": "stream",
     "text": [
      "[ 1 11 19]\n"
     ]
    }
   ],
   "source": [
    "import numpy as np\n",
    "\n",
    "# Define the function f\n",
    "def f(x: int, y: int) -> int:\n",
    "    return (x * y) + x + y\n",
    "\n",
    "# Create the vectors\n",
    "v = [1, 2, 3]\n",
    "w = [0, 3, 4]\n",
    "my_v = np.array(v)\n",
    "my_w = np.array(w)\n",
    "\n",
    "# Vectorize the function f\n",
    "vfunc = np.vectorize(f)\n",
    "\n",
    "# Apply the function element-wise\n",
    "result = vfunc(my_v, my_w)\n",
    "\n",
    "print(result)  "
   ]
  },
  {
   "cell_type": "markdown",
   "id": "269ff1e57e3cce08",
   "metadata": {},
   "source": [
    "### Filtering\n",
    "\n",
    "Create a random vector of integers in the interval [0, 10) of size 10, and filter all elements larger than 4 and less than 8 and set them to 20. Try to do it using both [boolean masks](https://www.programiz.com/python-programming/numpy/boolean-indexing) and [`np.where`](https://numpy.org/doc/stable/reference/generated/numpy.where.html)"
   ]
  },
  {
   "cell_type": "code",
   "execution_count": 14,
   "id": "e3fa9a6ec6c7d959",
   "metadata": {
    "ExecuteTime": {
     "end_time": "2024-09-13T13:21:29.002440Z",
     "start_time": "2024-09-13T13:21:28.999983Z"
    }
   },
   "outputs": [
    {
     "name": "stdout",
     "output_type": "stream",
     "text": [
      "[4 0 0 3 5 1 7 8 9 2]\n",
      "[5 7]\n",
      "['false' 'false' 'false' 'false' 'true' 'false' 'true' 'false' 'false'\n",
      " 'false']\n"
     ]
    }
   ],
   "source": [
    "## Filter elements in the interval [5, 8) and set them to 20\n",
    "v = np.random.randint(0,10, size=(10))\n",
    "print(v)\n",
    "\n",
    "## 1: boolean masks and np.where\n",
    "boolean_mask = (v > 4) & (v < 8)\n",
    "result = v[boolean_mask]\n",
    "\n",
    "wherenp = np.where((v > 4) & (v < 8),\"true\",\"false\")\n",
    "\n",
    "print(result)\n",
    "print(wherenp)\n",
    "\n"
   ]
  },
  {
   "cell_type": "markdown",
   "id": "3a618e6b3861fa31",
   "metadata": {},
   "source": [
    "## The curse of dimensionality\n",
    "\n",
    "In this exercise you are going to experience the \"curse of dimensionality\": namely, data in a high dimensional space becomes increasingly sparse.\n",
    "\n",
    "We are going to visualize it graphically by plotting 10 random points in unit hypercubes of increasing dimensions (1, 2, 3)."
   ]
  },
  {
   "cell_type": "markdown",
   "id": "d4965585ce77150",
   "metadata": {},
   "source": [
    "1) To begin with, let us create a random vector of 10 data points uniformly distributed in the interval [0, 1). Plot this distribution using `matplotlib` see method `plt.scatter`.\n",
    "In order to scatter points, you need 2-dimensional points (axes $x,y$). In this case, just set the $y$ axis value to 0."
   ]
  },
  {
   "cell_type": "code",
   "execution_count": 15,
   "id": "c885a00a8df920de",
   "metadata": {
    "ExecuteTime": {
     "end_time": "2024-09-13T10:25:07.694820Z",
     "start_time": "2024-09-13T10:25:07.191217Z"
    }
   },
   "outputs": [],
   "source": [
    "import matplotlib.pyplot as plt"
   ]
  },
  {
   "cell_type": "code",
   "execution_count": 16,
   "id": "70f595d3c9aeb90",
   "metadata": {
    "ExecuteTime": {
     "end_time": "2024-09-14T09:17:52.783106Z",
     "start_time": "2024-09-14T09:17:52.780744Z"
    }
   },
   "outputs": [
    {
     "data": {
      "image/png": "[encoded data removed]",
      "text/plain": [
       "<Figure size 640x480 with 1 Axes>"
      ]
     },
     "metadata": {},
     "output_type": "display_data"
    }
   ],
   "source": [
    "# Create a random vector of 10 data points uniformly distributed in [0, 1)\n",
    "data1d = np.random.uniform(0, 1, 10)\n",
    "# Plot the distribution using plt.scatter\n",
    "plt.scatter(data1d, np.zeros_like(data1d))  # Set y-axis values to 0\n",
    "plt.xlabel(\"Data Points\")\n",
    "plt.ylabel(\"Value\")\n",
    "plt.title(\"Uniform Distribution in [0, 1)\")\n",
    "plt.show()"
   ]
  },
  {
   "cell_type": "markdown",
   "id": "34816f5cc630403",
   "metadata": {},
   "source": [
    "2) Then, do the same for a 2-dimensional space: create 10 random points in the 2-dimensional unit hypercube (a square), and plot them."
   ]
  },
  {
   "cell_type": "code",
   "execution_count": 17,
   "id": "3cc8a662c0cb7419",
   "metadata": {
    "ExecuteTime": {
     "end_time": "2024-09-13T16:25:19.568831Z",
     "start_time": "2024-09-13T16:25:19.566159Z"
    }
   },
   "outputs": [
    {
     "data": {
      "image/png": "[encoded data removed]",
      "text/plain": [
       "<Figure size 640x480 with 1 Axes>"
      ]
     },
     "metadata": {},
     "output_type": "display_data"
    }
   ],
   "source": [
    "\n",
    "\n",
    "# Create 10 random points in the 2D unit hypercube\n",
    "data2d = np.random.uniform(0, 1, (10, 2))  # Shape (10, 2) for 10 points, 2 dimensions each\n",
    "\n",
    "# Plot the points\n",
    "plt.scatter(data2d[:, 0], data2d[:, 1])  # Extract x and y coordinates\n",
    "plt.title('Random Points in 2D Hypercube [0, 1) x [0, 1)')\n",
    "plt.xlabel('X-axis')\n",
    "plt.ylabel('Y-axis')\n",
    "plt.xlim(0, 1)  # Set x-axis limits\n",
    "plt.ylim(0, 1)  # Set y-axis limits\n",
    "plt.grid(True)  # Optional: Add grid for better visualization\n",
    "plt.show()"
   ]
  },
  {
   "cell_type": "markdown",
   "id": "d72d81c31af22992",
   "metadata": {},
   "source": [
    "What do you notice? Do you think points are more spread out in the 2-dimensional or in the 1-dimensional hypercube?"
   ]
  },
  {
   "cell_type": "markdown",
   "id": "1398e35aceda9043",
   "metadata": {},
   "source": [
    "3) Let us try also with the 3-dimensional space: create 10 random points in the 3-dimensional unit hypercube (a cube), and plot them using [`ax.scatter3D`](https://www.geeksforgeeks.org/3d-scatter-plotting-in-python-using-matplotlib/)."
   ]
  },
  {
   "cell_type": "code",
   "execution_count": 18,
   "id": "326f11e900bbdf07",
   "metadata": {
    "ExecuteTime": {
     "end_time": "2024-09-13T16:25:15.160528Z",
     "start_time": "2024-09-13T16:25:15.157692Z"
    }
   },
   "outputs": [
    {
     "data": {
      "image/png": "[encoded data removed]",
      "text/plain": [
       "<Figure size 800x800 with 1 Axes>"
      ]
     },
     "metadata": {},
     "output_type": "display_data"
    }
   ],
   "source": [
    "import numpy as np\n",
    "import matplotlib.pyplot as plt\n",
    "from mpl_toolkits.mplot3d import Axes3D\n",
    "\n",
    "# Create 10 random points in the 3D unit hypercube\n",
    "data3d = np.random.uniform(0, 1, (10, 3))  # Shape (10, 3) for 10 points, 3 dimensions each\n",
    "\n",
    "# Create a 3D figure and plot\n",
    "fig = plt.figure(figsize=(8, 8))\n",
    "ax = fig.add_subplot(111, projection='3d')  # Create 3D subplot\n",
    "\n",
    "ax.scatter3D(data3d[:, 0], data3d[:, 1], data3d[:, 2])  # Extract and plot x, y, z coordinates\n",
    "\n",
    "ax.set_xlabel('X-axis')\n",
    "ax.set_ylabel('Y-axis')\n",
    "ax.set_zlabel('Z-axis')\n",
    "ax.set_title('Random Points in 3D Hypercube [0, 1) x [0, 1) x [0, 1)')\n",
    "ax.set_xlim(0, 1)  # Set x-axis limits\n",
    "ax.set_ylim(0, 1)  # Set y-axis limits\n",
    "ax.set_zlim(0, 1)  # Set z-axis limits\n",
    "\n",
    "plt.show()"
   ]
  },
  {
   "cell_type": "markdown",
   "id": "2552cb661a19ecc5",
   "metadata": {},
   "source": [
    "What do you notice? Do you think points are more spread out in the 3-dimensional, 2-dimensional or 1-dimensional hypercube?"
   ]
  },
  {
   "cell_type": "markdown",
   "id": "e86fff05f7701287",
   "metadata": {},
   "source": [
    "Let us try to quantify numerically how distant from each other the points in the three hypercubes are. \n",
    "\n",
    "Write a function that, taken a list of 10 $k$-dimensional points (shape (10, $k$), for any $k\\in\\mathbb{N}$), computes the average pairwise distance between all pairs of points. (*) \n",
    "\n",
    "The distance between two $k$-dimensional points $x, y$ is given by the formula $dist(x, y) = \\sqrt{\\sum_{i=1}^k (x_i - y_i)^2}$, for $x,y\\in\\mathbb{R}^k$.\n",
    "\n",
    "The average pairwise distance of a list $v$ of 10 $k$-dimensional points is given by the formula: $\\frac{\\sum_{i=1}^{9} \\sum_{j=i+1}^{10} dist(v_i, v_j)}{\\sum_{i=1}^{9} \\sum_{j=i+1}^{10} 1}$. Notice that $v$ has shape (10, $k$), and $v_i, v_j$ have both shape $k$. \n",
    "\n",
    "Try to use numpy core functions and broadcasting when possible."
   ]
  },
  {
   "cell_type": "code",
   "execution_count": 19,
   "id": "76883d3519e4b172",
   "metadata": {
    "ExecuteTime": {
     "end_time": "2024-09-13T16:19:13.772175Z",
     "start_time": "2024-09-13T16:19:13.768900Z"
    }
   },
   "outputs": [],
   "source": [
    "\n",
    "\n",
    "def dist(x: np.array, y: np.array) -> float:\n",
    "    return np.sqrt(np.sum((x - y) ** 2))\n",
    "\n",
    "def avg_pairwise_distance(v: np.array) -> float:\n",
    "    n = len(v)\n",
    "    total_distance = 0.0\n",
    "    for i in range(n):\n",
    "        for j in range(i + 1, n):\n",
    "            total_distance += dist(v[i], v[j])\n",
    "    return total_distance / (n * (n - 1) / 2)"
   ]
  },
  {
   "cell_type": "markdown",
   "id": "2bf4233a82c0770d",
   "metadata": {},
   "source": [
    "Use the above function to compute the average distance between points in `data1d`, between points in `data2d` and between points in `data3d`. Which one is larger?"
   ]
  },
  {
   "cell_type": "code",
   "execution_count": 20,
   "id": "401120275a135b59",
   "metadata": {},
   "outputs": [
    {
     "name": "stdout",
     "output_type": "stream",
     "text": [
      "0.4386052414219322\n",
      "0.5230324931753483\n",
      "0.5258874998078512\n"
     ]
    }
   ],
   "source": [
    "print(avg_pairwise_distance(data1d))\n",
    "print(avg_pairwise_distance(data2d))\n",
    "print(avg_pairwise_distance(data3d))"
   ]
  }
 ],
 "metadata": {
  "kernelspec": {
   "display_name": "Python 3",
   "language": "python",
   "name": "python3"
  },
  "language_info": {
   "codemirror_mode": {
    "name": "ipython",
    "version": 3
   },
   "file_extension": ".py",
   "mimetype": "text/x-python",
   "name": "python",
   "nbconvert_exporter": "python",
   "pygments_lexer": "ipython3",
   "version": "3.12.4"
  }
 },
 "nbformat": 4,
 "nbformat_minor": 5
}
