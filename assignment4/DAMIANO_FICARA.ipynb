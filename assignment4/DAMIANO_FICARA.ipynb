{
 "cells": [
  {
   "cell_type": "markdown",
   "metadata": {},
   "source": [
    "# NAME SURNAME"
   ]
  },
  {
   "cell_type": "markdown",
   "metadata": {},
   "source": [
    "## Packages"
   ]
  },
  {
   "cell_type": "code",
   "execution_count": 3,
   "metadata": {
    "_cell_guid": "b1076dfc-b9ad-4769-8c92-a6c4dae69d19",
    "_uuid": "8f2839f25d086af736a60e9eeb907d3b93b6e0e5",
    "execution": {
     "iopub.execute_input": "2025-01-07T10:33:54.439114Z",
     "iopub.status.busy": "2025-01-07T10:33:54.438717Z",
     "iopub.status.idle": "2025-01-07T10:33:54.443879Z",
     "shell.execute_reply": "2025-01-07T10:33:54.442811Z",
     "shell.execute_reply.started": "2025-01-07T10:33:54.439081Z"
    },
    "trusted": true
   },
   "outputs": [],
   "source": [
    "import networkx as nx # For graphs\n",
    "import pickle # For data parsing\n",
    "import math\n",
    "import torch\n",
    "import torch.nn as nn\n",
    "from torch.utils.data import DataLoader, random_split, Dataset\n",
    "from networkx.algorithms.approximation import greedy_tsp # For approx TSP"
   ]
  },
  {
   "cell_type": "markdown",
   "metadata": {},
   "source": [
    "## Helper functions"
   ]
  },
  {
   "cell_type": "code",
   "execution_count": 4,
   "metadata": {
    "execution": {
     "iopub.execute_input": "2025-01-07T10:33:54.446659Z",
     "iopub.status.busy": "2025-01-07T10:33:54.446031Z",
     "iopub.status.idle": "2025-01-07T10:33:54.463183Z",
     "shell.execute_reply": "2025-01-07T10:33:54.462017Z",
     "shell.execute_reply.started": "2025-01-07T10:33:54.446610Z"
    },
    "trusted": true
   },
   "outputs": [],
   "source": [
    "\n",
    "def tour_length(G, tour):\n",
    "    \"\"\"\n",
    "    Compute the length of a tour. A tour is a list having elments 0 and -1 equal\n",
    "    \"\"\"\n",
    "    n = len(tour) - 1\n",
    "    assert tour[0] == tour[-1], \"Not valid tour\"\n",
    "    estimated = 0\n",
    "    for i in range(n):\n",
    "        estimated += G[tour[i]][tour[i + 1]]['weight']\n",
    "    return estimated\n",
    "\n",
    "def greedy_algorithm(G):\n",
    "    \"\"\"\n",
    "    Run the value of the greedy approximation algorithm on graph G\n",
    "    \"\"\"\n",
    "    return tour_length(G, greedy_tsp(G, weight='weight'))\n",
    "\n",
    "def random_tour(G, seed = 42):\n",
    "    \"\"\"\n",
    "    Return the value of a random tour\n",
    "    \"\"\"\n",
    "    np.random.seed(seed)\n",
    "    n = G.number_of_nodes()\n",
    "    tour = [0]\n",
    "    for i in range(1, n):\n",
    "        next_node = np.random.choice([j for j in range(n) if j not in tour])\n",
    "        tour.append(next_node)\n",
    "    tour.append(0)\n",
    "    return tour_length(G, tour)\n",
    "    \n",
    "\n",
    "def transformer_tsp(G, model, DEVICE = 'cpu'):\n",
    "    \"\"\"\n",
    "    Evaluate your (trained) model on G\n",
    "    TODO: If you used some masks, add them when needed. \n",
    "    \"\"\"\n",
    "    # Set the model in evaluation mode\n",
    "    model.eval()\n",
    "\n",
    "    # Note: number of edges is constant ed equal to n(n-1)/2\n",
    "    n = G.number_of_nodes()\n",
    "    E = G.number_of_edges()\n",
    "\n",
    "    \n",
    "    # Get node coordinates\n",
    "    attr = nx.get_node_attributes(G, 'pos')\n",
    "    x = []\n",
    "    for i in range(n):\n",
    "        x.append(torch.tensor(attr[i], dtype=torch.float32))\n",
    "\n",
    "    # From list of tensors to tensor\n",
    "    x = torch.stack(x)    \n",
    "\n",
    "    tour = [0]\n",
    "    y = torch.tensor(tour, dtype=torch.long)\n",
    "    x = torch.stack(x)\n",
    "    x = x.to(DEVICE).unsqueeze(0)\n",
    "    y = y.to(DEVICE).unsqueeze(0)\n",
    "    \n",
    "    out = model(x, y)\n",
    "    \n",
    "    while len(tour) < n:\n",
    "        _, idx = torch.topk(out, n, dim=2)\n",
    "        for i in range(n):\n",
    "            if idx[0, 0, i] not in tour:\n",
    "                tour.append(idx[0, 0, i])\n",
    "                break\n",
    "        y = torch.tensor(tour)\n",
    "        y = y.to(DEVICE).unsqueeze(0)\n",
    "        out = model(x, y)\n",
    "    \n",
    "    tour = [int(i) for i in tour] + [0]\n",
    "    return tour_length(G, tour)\n",
    "\n",
    "\n",
    "\n",
    "def gap(G, model = None, model_GA = None, random_seed = 42, device = 'cpu'):\n",
    "    \"\"\"\n",
    "    Compute the gap between the optimal solution on graph G and all the analyzed methods\n",
    "    \"\"\"\n",
    "        \n",
    "    # Optimal value (hard-coded in the graph)\n",
    "    TSP = sum([G[i][j]['weight']*G[i][j]['tour'] for (i, j) in G.edges()]) # Optimal\n",
    "\n",
    "    # Gaps dictionary\n",
    "    gaps = {'greedy' : 0, 'random' : 0, 'transformer_tsp': 0, 'transformer_tsp_acc_grad': 0}\n",
    "    gaps['greedy'] = 100* (greedy_algorithm(G) -  TSP) / TSP\n",
    "    gaps['random'] = 100 * (random_tour(G, random_seed) - TSP) / TSP\n",
    "    if model is not None:\n",
    "        gaps['transformer_tsp'] = 100 * (transformer_tsp(G, model, DEVICE=device) - TSP) / TSP\n",
    "    else:\n",
    "        gaps['transformer_tsp'] = float('inf')\n",
    "        \n",
    "    if model_GA is not None:\n",
    "        gaps['transformer_tsp_acc_grad'] = 100 * (transformer_tsp(G, model_GA, DEVICE=device) - TSP) / TSP\n",
    "    else:\n",
    "        gaps['transformer_tsp_acc_grad'] = float('inf')\n",
    "    return gaps    \n",
    "    "
   ]
  },
  {
   "cell_type": "markdown",
   "metadata": {},
   "source": [
    "## Dataset & Dataloader"
   ]
  },
  {
   "cell_type": "markdown",
   "metadata": {},
   "source": [
    "### Dataset Point 1"
   ]
  },
  {
   "cell_type": "code",
   "execution_count": null,
   "metadata": {},
   "outputs": [],
   "source": [
    "# Load the dummy dataset\n",
    "with open('/kaggle/input/tsp-dataset/dummy_20_DLL_ass4.pkl', 'rb') as file:\n",
    "   dummy = pickle.load(file)\n",
    "\n",
    "# Print type of overall dataset and a single item\n",
    "print(f\"Type of dummy dataset is: {type(dummy)}\")\n",
    "single_item = dummy[0]\n",
    "print(f\"\\nType of a single item is: {type(single_item)}\")\n",
    "\n",
    "# Print types of elements in the tuple\n",
    "print(f\"\\nTypes of elements in the tuple:\")\n",
    "print(f\"First element type: {type(single_item[0])}\") # Graph\n",
    "print(f\"Second element type: {type(single_item[1])}\") # List\n",
    "\n",
    "print(\"\\Single Item structure:\")\n",
    "print(single_item)"
   ]
  },
  {
   "cell_type": "markdown",
   "metadata": {},
   "source": [
    "### Dataset Point 2"
   ]
  },
  {
   "cell_type": "code",
   "execution_count": null,
   "metadata": {},
   "outputs": [],
   "source": [
    "# Describe the edge attributes tour and weight, as well as the node attribute pos.\n",
    "\n",
    "\n",
    "graph = single_item[0] \n",
    "tour = single_item[1]  # in this case tour as a list\n",
    "\n",
    "# Describe node attribute: pos\n",
    "node_positions = nx.get_node_attributes(graph, 'pos')\n",
    "print(\"\\nNode positions (pos):\")\n",
    "for node, pos in node_positions.items():\n",
    "    print(f\"Node {node}: Position {pos}\")\n",
    "\n",
    "# Describe edge attribute: weight\n",
    "print(\"\\nEdge weights:\")\n",
    "for u, v in graph.edges():\n",
    "    weight = graph[u][v].get('weight', None) \n",
    "    print(f\"Edge ({u}, {v}): Weight {weight}\")\n",
    "\n",
    "# Describe edge attribute: tour\n",
    "print(\"\\nTour:\")\n",
    "print(f\"Tour as per solution: {tour}\")\n",
    "\n",
    "\n",
    "\n"
   ]
  },
  {
   "cell_type": "markdown",
   "metadata": {},
   "source": [
    "### Dataset Point 4"
   ]
  },
  {
   "cell_type": "code",
   "execution_count": null,
   "metadata": {},
   "outputs": [],
   "source": [
    "# Dataset Class\n",
    "import torch\n",
    "from torch.utils.data import Dataset\n",
    "\n",
    "class TSPDataset(Dataset):\n",
    "    def __init__(self, data):\n",
    "        \"\"\"\n",
    "        Args:\n",
    "            data (list): A list where each element is a tuple (graph, tour).\n",
    "                         - graph: Graph object containing node positions as 'pos' attribute.\n",
    "                         - tour: List of node indices representing the tour.\n",
    "        \"\"\"\n",
    "        self.data = data\n",
    "\n",
    "    def __len__(self):\n",
    "        \"\"\"\n",
    "        Return the number of samples in the dataset.\n",
    "        \"\"\"\n",
    "        return len(self.data)\n",
    "\n",
    "    def __getitem__(self, idx):\n",
    "        \"\"\"\n",
    "        Args:\n",
    "            idx (int): Index of the data sample to retrieve.\n",
    "        \n",
    "        Returns:\n",
    "            X (torch.Tensor): A tensor of shape (20, 2) representing node coordinates.\n",
    "            y (torch.Tensor): A tensor of shape (n+1,) representing the tour starting and ending at 0.\n",
    "        \"\"\"\n",
    "        graph, tour = self.data[idx]\n",
    "\n",
    "        # Extract node positions from the graph\n",
    "        pos = nx.get_node_attributes(graph, 'pos')  # Assumes graph stores positions in 'pos'\n",
    "        X = torch.tensor([pos[node] for node in sorted(pos.keys())], dtype=torch.float32)\n",
    "\n",
    "        # Ensure the tour starts and ends at node 0\n",
    "        if tour[0] != 0:\n",
    "            raise ValueError(\"Tour must start at node 0.\")\n",
    "        if tour[-1] != 0:\n",
    "            tour = tour + [0]  # Append 0 to ensure the tour ends at the start node\n",
    "\n",
    "        y = torch.tensor(tour, dtype=torch.long)\n",
    "\n",
    "        return X, y\n"
   ]
  },
  {
   "cell_type": "markdown",
   "metadata": {},
   "source": [
    "### Dataset Point 5"
   ]
  },
  {
   "cell_type": "code",
   "execution_count": null,
   "metadata": {},
   "outputs": [],
   "source": [
    "# Create Dataset objects for training, validation, and testing, along with their respective Dataloader\n",
    "\n",
    "tspdataset = TSPDataset(dummy)\n",
    "train_dataset, validation_dataset, test_dataset = random_split(tspdataset, [0.8, 0.1, 0.1])\n",
    "\n",
    "batch_size = 32\n",
    "\n",
    "trainloader = DataLoader(train_dataset, batch_size=batch_size, shuffle=True)\n",
    "valloader = DataLoader(validation_dataset, batch_size=batch_size, shuffle=True)\n",
    "testloader = DataLoader(test_dataset, batch_size=batch_size, shuffle=True)\n",
    "\n",
    "\n",
    "\n"
   ]
  },
  {
   "cell_type": "markdown",
   "metadata": {},
   "source": [
    "## Model"
   ]
  },
  {
   "cell_type": "code",
   "execution_count": null,
   "metadata": {},
   "outputs": [],
   "source": [
    "\n",
    "class TSPTransformer(nn.Module):\n",
    "    def __init__(self, d_model=128, nhead=8, num_encoder_layers=6, \n",
    "                 num_decoder_layers=6, dim_feedforward=512, dropout=0.1):\n",
    "        super(TSPTransformer, self).__init__()\n",
    "        \n",
    "        # Input embeddings for node coordinates\n",
    "        self.input_embedding = nn.Linear(2, d_model)  # 2D coordinates to d_model\n",
    "        \n",
    "        # Output embeddings for positions\n",
    "        self.output_embedding = nn.Embedding(20, d_model)  # Assuming max 20 nodes\n",
    "        \n",
    "        # Positional encoding for decoder\n",
    "        self.pos_encoder = PositionalEncoding(d_model, dropout)\n",
    "        \n",
    "        # Transformer base\n",
    "        self.transformer = nn.Transformer(\n",
    "            d_model=d_model,\n",
    "            nhead=nhead,\n",
    "            num_encoder_layers=num_encoder_layers,\n",
    "            num_decoder_layers=num_decoder_layers,\n",
    "            dim_feedforward=dim_feedforward,\n",
    "            dropout=dropout,\n",
    "            batch_first=True\n",
    "        )\n",
    "        \n",
    "        # Final feed-forward network\n",
    "        self.ffn = nn.Sequential(\n",
    "            nn.Linear(d_model, dim_feedforward),\n",
    "            nn.ReLU(),\n",
    "            nn.Dropout(dropout),\n",
    "            nn.Linear(dim_feedforward, 20)  # Output size = number of nodes\n",
    "        )\n",
    "    \n",
    "    def create_mask(self, size):\n",
    "        # Create mask to prevent attending to future positions\n",
    "        mask = (torch.triu(torch.ones(size, size)) == 1).transpose(0, 1)\n",
    "        mask = mask.float().masked_fill(mask == 0, float('-inf'))\n",
    "        mask = mask.masked_fill(mask == 1, float(0.0))\n",
    "        return mask\n",
    "        \n",
    "    def forward(self, src, tgt):\n",
    "        # src shape: [batch_size, num_nodes, 2]\n",
    "        # tgt shape: [batch_size, seq_len]\n",
    "        \n",
    "        # Create masks\n",
    "        tgt_mask = self.create_mask(tgt.size(1)).to(src.device)\n",
    "        src_padding_mask = None  # All nodes are valid\n",
    "        tgt_padding_mask = None  # All positions are valid\n",
    "        \n",
    "        # Embed inputs\n",
    "        src = self.input_embedding(src)  # [batch_size, num_nodes, d_model]\n",
    "        \n",
    "        # Embed outputs and add positional encoding\n",
    "        tgt = self.output_embedding(tgt)  # [batch_size, seq_len, d_model]\n",
    "        tgt = self.pos_encoder(tgt)\n",
    "        \n",
    "        # Transformer forward pass\n",
    "        output = self.transformer(\n",
    "            src, tgt,\n",
    "            tgt_mask=tgt_mask,\n",
    "            src_mask=None,\n",
    "            memory_mask=None,\n",
    "            src_key_padding_mask=src_padding_mask,\n",
    "            tgt_key_padding_mask=tgt_padding_mask,\n",
    "            memory_key_padding_mask=None\n",
    "        )\n",
    "        \n",
    "        # Final feed-forward network\n",
    "        output = self.ffn(output)\n",
    "        \n",
    "        return output\n",
    "\n",
    "class PositionalEncoding(nn.Module):\n",
    "    def __init__(self, d_model, dropout=0.1, max_len=100):\n",
    "        super(PositionalEncoding, self).__init__()\n",
    "        self.dropout = nn.Dropout(p=dropout)\n",
    "\n",
    "        position = torch.arange(max_len).unsqueeze(1)\n",
    "        div_term = torch.exp(torch.arange(0, d_model, 2) * (-math.log(10000.0) / d_model))\n",
    "        pe = torch.zeros(max_len, 1, d_model)\n",
    "        pe[:, 0, 0::2] = torch.sin(position * div_term)\n",
    "        pe[:, 0, 1::2] = torch.cos(position * div_term)\n",
    "        self.register_buffer('pe', pe)\n",
    "\n",
    "    def forward(self, x):\n",
    "        x = x + self.pe[:x.size(0)]\n",
    "        return self.dropout(x)"
   ]
  },
  {
   "cell_type": "code",
   "execution_count": null,
   "metadata": {},
   "outputs": [],
   "source": [
    "DEVICE = torch.device(\"cuda\" if torch.cuda.is_available() else \"cpu\")\n",
    "\n",
    "def generate_square_subsequent_mask(sz):\n",
    "    ## Decoder mask\n",
    "    mask = (torch.triu(torch.ones((sz, sz), device=DEVICE)) == 1).transpose(0, 1)\n",
    "    mask = mask.float().masked_fill(mask == 0, float('-inf')).masked_fill(mask == 1, float(0.0))\n",
    "    return mask\n",
    "\n",
    "\n",
    "def create_mask(src, tgt):\n",
    "    src_seq_len = src.shape[0]\n",
    "    tgt_seq_len = tgt.shape[0]\n",
    "\n",
    "    tgt_mask = generate_square_subsequent_mask(tgt_seq_len)\n",
    "    src_mask = torch.zeros((src_seq_len, src_seq_len),device=DEVICE).type(torch.bool)\n",
    "\n",
    "    src_padding_mask = (src == PAD_IDX).transpose(0, 1)\n",
    "    tgt_padding_mask = (tgt == PAD_IDX).transpose(0, 1)\n",
    "    return src_mask, tgt_mask, src_padding_mask, tgt_padding_mask\n",
    "\n",
    "# Just to have an idea of what it looks like:\n",
    "print(generate_square_subsequent_mask(5))"
   ]
  },
  {
   "cell_type": "code",
   "execution_count": null,
   "metadata": {},
   "outputs": [],
   "source": [
    "# Inizializzazione del modello\n",
    "model = TSPTransformer(\n",
    "    d_model=128,            # Dimensione dello spazio di embedding\n",
    "    nhead=8,                # Numero di teste di attention\n",
    "    num_encoder_layers=6,   # Numero di layer dell'encoder\n",
    "    num_decoder_layers=6,   # Numero di layer del decoder\n",
    "    dim_feedforward=512,    # Dimensione del layer feed-forward\n",
    "    dropout=0.1            # Dropout per regolarizzazione\n",
    ")\n",
    "\n",
    "# Sposta il modello su GPU se disponibile\n",
    "model = model.to(DEVICE)\n",
    "\n",
    "print(model)"
   ]
  },
  {
   "cell_type": "markdown",
   "metadata": {},
   "source": [
    "## Training"
   ]
  },
  {
   "cell_type": "markdown",
   "metadata": {},
   "source": [
    "### Training WITHOUT gradient accumulation"
   ]
  },
  {
   "cell_type": "markdown",
   "metadata": {},
   "source": [
    "### Training WITH gradient accumulation"
   ]
  },
  {
   "cell_type": "markdown",
   "metadata": {},
   "source": [
    "## Testing"
   ]
  }
 ],
 "metadata": {
  "kaggle": {
   "accelerator": "none",
   "dataSources": [],
   "dockerImageVersionId": 30804,
   "isGpuEnabled": false,
   "isInternetEnabled": true,
   "language": "python",
   "sourceType": "notebook"
  },
  "kernelspec": {
   "display_name": "Python 3",
   "language": "python",
   "name": "python3"
  },
  "language_info": {
   "codemirror_mode": {
    "name": "ipython",
    "version": 3
   },
   "file_extension": ".py",
   "mimetype": "text/x-python",
   "name": "python",
   "nbconvert_exporter": "python",
   "pygments_lexer": "ipython3",
   "version": "3.10.14"
  }
 },
 "nbformat": 4,
 "nbformat_minor": 4
}
