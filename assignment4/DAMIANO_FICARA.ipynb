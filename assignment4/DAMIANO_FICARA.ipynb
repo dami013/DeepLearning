{
 "cells": [
  {
   "cell_type": "markdown",
   "metadata": {},
   "source": [
    "# NAME SURNAME"
   ]
  },
  {
   "cell_type": "markdown",
   "metadata": {},
   "source": [
    "## Packages"
   ]
  },
  {
   "cell_type": "code",
   "execution_count": 3,
   "metadata": {
    "_cell_guid": "b1076dfc-b9ad-4769-8c92-a6c4dae69d19",
    "_uuid": "8f2839f25d086af736a60e9eeb907d3b93b6e0e5",
    "execution": {
     "iopub.execute_input": "2025-01-07T10:33:54.439114Z",
     "iopub.status.busy": "2025-01-07T10:33:54.438717Z",
     "iopub.status.idle": "2025-01-07T10:33:54.443879Z",
     "shell.execute_reply": "2025-01-07T10:33:54.442811Z",
     "shell.execute_reply.started": "2025-01-07T10:33:54.439081Z"
    },
    "trusted": true
   },
   "outputs": [],
   "source": [
    "import networkx as nx # For graphs\n",
    "import pickle # For data parsing\n",
    "from networkx.algorithms.approximation import greedy_tsp # For approx TSP"
   ]
  },
  {
   "cell_type": "markdown",
   "metadata": {},
   "source": [
    "## Helper functions"
   ]
  },
  {
   "cell_type": "code",
   "execution_count": 4,
   "metadata": {
    "execution": {
     "iopub.execute_input": "2025-01-07T10:33:54.446659Z",
     "iopub.status.busy": "2025-01-07T10:33:54.446031Z",
     "iopub.status.idle": "2025-01-07T10:33:54.463183Z",
     "shell.execute_reply": "2025-01-07T10:33:54.462017Z",
     "shell.execute_reply.started": "2025-01-07T10:33:54.446610Z"
    },
    "trusted": true
   },
   "outputs": [],
   "source": [
    "\n",
    "def tour_length(G, tour):\n",
    "    \"\"\"\n",
    "    Compute the length of a tour. A tour is a list having elments 0 and -1 equal\n",
    "    \"\"\"\n",
    "    n = len(tour) - 1\n",
    "    assert tour[0] == tour[-1], \"Not valid tour\"\n",
    "    estimated = 0\n",
    "    for i in range(n):\n",
    "        estimated += G[tour[i]][tour[i + 1]]['weight']\n",
    "    return estimated\n",
    "\n",
    "def greedy_algorithm(G):\n",
    "    \"\"\"\n",
    "    Run the value of the greedy approximation algorithm on graph G\n",
    "    \"\"\"\n",
    "    return tour_length(G, greedy_tsp(G, weight='weight'))\n",
    "\n",
    "def random_tour(G, seed = 42):\n",
    "    \"\"\"\n",
    "    Return the value of a random tour\n",
    "    \"\"\"\n",
    "    np.random.seed(seed)\n",
    "    n = G.number_of_nodes()\n",
    "    tour = [0]\n",
    "    for i in range(1, n):\n",
    "        next_node = np.random.choice([j for j in range(n) if j not in tour])\n",
    "        tour.append(next_node)\n",
    "    tour.append(0)\n",
    "    return tour_length(G, tour)\n",
    "    \n",
    "\n",
    "def transformer_tsp(G, model, DEVICE = 'cpu'):\n",
    "    \"\"\"\n",
    "    Evaluate your (trained) model on G\n",
    "    TODO: If you used some masks, add them when needed. \n",
    "    \"\"\"\n",
    "    # Set the model in evaluation mode\n",
    "    model.eval()\n",
    "\n",
    "    # Note: number of edges is constant ed equal to n(n-1)/2\n",
    "    n = G.number_of_nodes()\n",
    "    E = G.number_of_edges()\n",
    "\n",
    "    \n",
    "    # Get node coordinates\n",
    "    attr = nx.get_node_attributes(G, 'pos')\n",
    "    x = []\n",
    "    for i in range(n):\n",
    "        x.append(torch.tensor(attr[i], dtype=torch.float32))\n",
    "\n",
    "    # From list of tensors to tensor\n",
    "    x = torch.stack(x)    \n",
    "\n",
    "    tour = [0]\n",
    "    y = torch.tensor(tour, dtype=torch.long)\n",
    "    x = torch.stack(x)\n",
    "    x = x.to(DEVICE).unsqueeze(0)\n",
    "    y = y.to(DEVICE).unsqueeze(0)\n",
    "    \n",
    "    out = model(x, y)\n",
    "    \n",
    "    while len(tour) < n:\n",
    "        _, idx = torch.topk(out, n, dim=2)\n",
    "        for i in range(n):\n",
    "            if idx[0, 0, i] not in tour:\n",
    "                tour.append(idx[0, 0, i])\n",
    "                break\n",
    "        y = torch.tensor(tour)\n",
    "        y = y.to(DEVICE).unsqueeze(0)\n",
    "        out = model(x, y)\n",
    "    \n",
    "    tour = [int(i) for i in tour] + [0]\n",
    "    return tour_length(G, tour)\n",
    "\n",
    "\n",
    "\n",
    "def gap(G, model = None, model_GA = None, random_seed = 42, device = 'cpu'):\n",
    "    \"\"\"\n",
    "    Compute the gap between the optimal solution on graph G and all the analyzed methods\n",
    "    \"\"\"\n",
    "        \n",
    "    # Optimal value (hard-coded in the graph)\n",
    "    TSP = sum([G[i][j]['weight']*G[i][j]['tour'] for (i, j) in G.edges()]) # Optimal\n",
    "\n",
    "    # Gaps dictionary\n",
    "    gaps = {'greedy' : 0, 'random' : 0, 'transformer_tsp': 0, 'transformer_tsp_acc_grad': 0}\n",
    "    gaps['greedy'] = 100* (greedy_algorithm(G) -  TSP) / TSP\n",
    "    gaps['random'] = 100 * (random_tour(G, random_seed) - TSP) / TSP\n",
    "    if model is not None:\n",
    "        gaps['transformer_tsp'] = 100 * (transformer_tsp(G, model, DEVICE=device) - TSP) / TSP\n",
    "    else:\n",
    "        gaps['transformer_tsp'] = float('inf')\n",
    "        \n",
    "    if model_GA is not None:\n",
    "        gaps['transformer_tsp_acc_grad'] = 100 * (transformer_tsp(G, model_GA, DEVICE=device) - TSP) / TSP\n",
    "    else:\n",
    "        gaps['transformer_tsp_acc_grad'] = float('inf')\n",
    "    return gaps    \n",
    "    "
   ]
  },
  {
   "cell_type": "markdown",
   "metadata": {},
   "source": [
    "## Dataset & Dataloader"
   ]
  },
  {
   "cell_type": "markdown",
   "metadata": {},
   "source": [
    "### Dataset Point 1"
   ]
  },
  {
   "cell_type": "code",
   "execution_count": null,
   "metadata": {},
   "outputs": [],
   "source": [
    "# Load the dummy dataset\n",
    "with open('/kaggle/input/tsp-dataset/dummy_20_DLL_ass4.pkl', 'rb') as file:\n",
    "   dummy = pickle.load(file)\n",
    "\n",
    "# Print type of overall dataset and a single item\n",
    "print(f\"Type of dummy dataset is: {type(dummy)}\")\n",
    "single_item = dummy[0]\n",
    "print(f\"\\nType of a single item is: {type(single_item)}\")\n",
    "\n",
    "# Print types of elements in the tuple\n",
    "print(f\"\\nTypes of elements in the tuple:\")\n",
    "print(f\"First element type: {type(single_item[0])}\")\n",
    "print(f\"Second element type: {type(single_item[1])}\")\n",
    "\n",
    "print(\"\\Single Item structure:\")\n",
    "print(single_item)"
   ]
  },
  {
   "cell_type": "markdown",
   "metadata": {},
   "source": [
    "## Model"
   ]
  },
  {
   "cell_type": "markdown",
   "metadata": {},
   "source": [
    "## Training"
   ]
  },
  {
   "cell_type": "markdown",
   "metadata": {},
   "source": [
    "### Training WITHOUT gradient accumulation"
   ]
  },
  {
   "cell_type": "markdown",
   "metadata": {},
   "source": [
    "### Training WITH gradient accumulation"
   ]
  },
  {
   "cell_type": "markdown",
   "metadata": {},
   "source": [
    "## Testing"
   ]
  }
 ],
 "metadata": {
  "kaggle": {
   "accelerator": "none",
   "dataSources": [],
   "dockerImageVersionId": 30804,
   "isGpuEnabled": false,
   "isInternetEnabled": true,
   "language": "python",
   "sourceType": "notebook"
  },
  "kernelspec": {
   "display_name": "Python 3",
   "language": "python",
   "name": "python3"
  },
  "language_info": {
   "codemirror_mode": {
    "name": "ipython",
    "version": 3
   },
   "file_extension": ".py",
   "mimetype": "text/x-python",
   "name": "python",
   "nbconvert_exporter": "python",
   "pygments_lexer": "ipython3",
   "version": "3.10.14"
  }
 },
 "nbformat": 4,
 "nbformat_minor": 4
}
