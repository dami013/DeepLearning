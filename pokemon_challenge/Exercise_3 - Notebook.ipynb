{
  "cells": [
    {
      "cell_type": "markdown",
      "metadata": {
        "id": "ZzbFUbueF-1I"
      },
      "source": [
        "# Task for Today  \n",
        "\n",
        "***\n",
        "\n",
        "## Legendary Pokémon Classification  \n",
        "\n",
        "Use a FeedForward Neural Network to predict if a given Pokémon is **legendary** or not, based on *Pokémon features*.\n",
        "\n",
        "\n",
        "<img src=\"https://wallpapers.com/images/hd/legendary-pokemon-pictures-7yo7x0f1l2b2tu0r.jpg\" width=\"800\" height=\"500\" alt=\"legendaries\">\n",
        "\n",
        "Data available at: https://github.com/Vaeliss/Pokemon_challenge/blob/main/pokemon.csv\n",
        "\n",
        "Download the `pokemon.csv` file and put it in the file section of Colab."
      ]
    },
    {
      "cell_type": "markdown",
      "metadata": {
        "id": "xq0moBocV6gU"
      },
      "source": [
        "# Challenge\n",
        "\n",
        "TAs want to battle!\n",
        "\n",
        "<img src=\"https://pokemongohub.net/wp-content/uploads/2023/06/grunts-1.jpg\" width=\"400\" height=\"300\" alt=\"TAs\">\n",
        "\n",
        "Rules of the challenge:\n",
        "\n",
        "- Gotta catch 'em all! ...But give priority to the legendaries.\n",
        "- F1-score is usually the measure of choice for imbalanced datasets; however in this case we particularly want to avoid not \"catching\" legendaries. They're so rare, you might not have any more chances to catch 'em if they flee...\n",
        "- In ML terms, we give recall more importance than precision for the task (check the whiteboard if you don't know their meaning).\n",
        "- F2-score (i.e., [F-$\\beta$-score](https://scikit-learn.org/stable/modules/generated/sklearn.metrics.fbeta_score.html) with $\\beta = 2$) is hence used as the main evaluation metric for your model.\n",
        "\n",
        "- **TAs achieved a F2-score of 0.80. Can you beat them?!**"
      ]
    },
    {
      "cell_type": "markdown",
      "metadata": {
        "id": "4u8Vl29CF-1J"
      },
      "source": [
        "# Imports and dataset"
      ]
    },
    {
      "cell_type": "code",
      "execution_count": 84,
      "metadata": {
        "_cell_guid": "79c7e3d0-c299-4dcb-8224-4455121ee9b0",
        "_uuid": "d629ff2d2480ee46fbb7e2d37f6b5fab8052498a",
        "execution": {
          "iopub.execute_input": "2023-10-10T14:53:17.491581Z",
          "iopub.status.busy": "2023-10-10T14:53:17.491233Z",
          "iopub.status.idle": "2023-10-10T14:53:26.820229Z",
          "shell.execute_reply": "2023-10-10T14:53:26.818905Z",
          "shell.execute_reply.started": "2023-10-10T14:53:17.491549Z"
        },
        "id": "DQ8jq20NF-1K",
        "trusted": true
      },
      "outputs": [],
      "source": [
        "import numpy as np\n",
        "import pandas as pd\n",
        "import matplotlib.pyplot as plt\n",
        "\n",
        "from sklearn.preprocessing import LabelEncoder, StandardScaler\n",
        "from sklearn.model_selection import train_test_split\n",
        "\n",
        "import torch\n",
        "from torch import nn\n",
        "from torch.utils.data import TensorDataset, DataLoader\n",
        "import torch.optim as optim\n",
        "import copy"
      ]
    },
    {
      "cell_type": "code",
      "execution_count": 85,
      "metadata": {
        "id": "kYbH9SzNrbeP"
      },
      "outputs": [],
      "source": [
        "_ = torch.manual_seed(42) # for a fair comparison, don't change the seed!"
      ]
    },
    {
      "cell_type": "code",
      "execution_count": 86,
      "metadata": {
        "execution": {
          "iopub.execute_input": "2023-10-09T10:03:59.333403Z",
          "iopub.status.busy": "2023-10-09T10:03:59.333013Z",
          "iopub.status.idle": "2023-10-09T10:03:59.370972Z",
          "shell.execute_reply": "2023-10-09T10:03:59.369989Z",
          "shell.execute_reply.started": "2023-10-09T10:03:59.333344Z"
        },
        "id": "OkMbLcx_F-1L",
        "trusted": true
      },
      "outputs": [],
      "source": [
        "data = pd.read_csv('pokemon.csv')"
      ]
    },
    {
      "cell_type": "code",
      "execution_count": 87,
      "metadata": {
        "execution": {
          "iopub.execute_input": "2023-10-09T10:04:00.051352Z",
          "iopub.status.busy": "2023-10-09T10:04:00.050779Z",
          "iopub.status.idle": "2023-10-09T10:04:00.235069Z",
          "shell.execute_reply": "2023-10-09T10:04:00.234085Z",
          "shell.execute_reply.started": "2023-10-09T10:04:00.051296Z"
        },
        "id": "1cIpYa1HF-1L",
        "trusted": true
      },
      "outputs": [
        {
          "data": {
            "text/html": [
              "<div>\n",
              "<style scoped>\n",
              "    .dataframe tbody tr th:only-of-type {\n",
              "        vertical-align: middle;\n",
              "    }\n",
              "\n",
              "    .dataframe tbody tr th {\n",
              "        vertical-align: top;\n",
              "    }\n",
              "\n",
              "    .dataframe thead th {\n",
              "        text-align: right;\n",
              "    }\n",
              "</style>\n",
              "<table border=\"1\" class=\"dataframe\">\n",
              "  <thead>\n",
              "    <tr style=\"text-align: right;\">\n",
              "      <th></th>\n",
              "      <th>dexnum</th>\n",
              "      <th>name</th>\n",
              "      <th>generation</th>\n",
              "      <th>type1</th>\n",
              "      <th>type2</th>\n",
              "      <th>height</th>\n",
              "      <th>weight</th>\n",
              "      <th>hp</th>\n",
              "      <th>attack</th>\n",
              "      <th>defense</th>\n",
              "      <th>sp_atk</th>\n",
              "      <th>sp_def</th>\n",
              "      <th>speed</th>\n",
              "      <th>total</th>\n",
              "      <th>legendary</th>\n",
              "    </tr>\n",
              "  </thead>\n",
              "  <tbody>\n",
              "    <tr>\n",
              "      <th>0</th>\n",
              "      <td>1025</td>\n",
              "      <td>Pecharunt</td>\n",
              "      <td>9</td>\n",
              "      <td>Poison</td>\n",
              "      <td>Ghost</td>\n",
              "      <td>0.3</td>\n",
              "      <td>0.3</td>\n",
              "      <td>88</td>\n",
              "      <td>88</td>\n",
              "      <td>160</td>\n",
              "      <td>88</td>\n",
              "      <td>88</td>\n",
              "      <td>88</td>\n",
              "      <td>600</td>\n",
              "      <td>1</td>\n",
              "    </tr>\n",
              "    <tr>\n",
              "      <th>1</th>\n",
              "      <td>1024</td>\n",
              "      <td>Terapagos</td>\n",
              "      <td>9</td>\n",
              "      <td>Normal</td>\n",
              "      <td>NaN</td>\n",
              "      <td>0.2</td>\n",
              "      <td>6.5</td>\n",
              "      <td>90</td>\n",
              "      <td>65</td>\n",
              "      <td>85</td>\n",
              "      <td>65</td>\n",
              "      <td>85</td>\n",
              "      <td>60</td>\n",
              "      <td>450</td>\n",
              "      <td>1</td>\n",
              "    </tr>\n",
              "    <tr>\n",
              "      <th>2</th>\n",
              "      <td>1023</td>\n",
              "      <td>Iron Crown</td>\n",
              "      <td>9</td>\n",
              "      <td>Steel</td>\n",
              "      <td>Psychic</td>\n",
              "      <td>1.6</td>\n",
              "      <td>156.0</td>\n",
              "      <td>90</td>\n",
              "      <td>72</td>\n",
              "      <td>100</td>\n",
              "      <td>122</td>\n",
              "      <td>108</td>\n",
              "      <td>98</td>\n",
              "      <td>590</td>\n",
              "      <td>0</td>\n",
              "    </tr>\n",
              "    <tr>\n",
              "      <th>3</th>\n",
              "      <td>1022</td>\n",
              "      <td>Iron Boulder</td>\n",
              "      <td>9</td>\n",
              "      <td>Rock</td>\n",
              "      <td>Psychic</td>\n",
              "      <td>1.5</td>\n",
              "      <td>162.5</td>\n",
              "      <td>90</td>\n",
              "      <td>120</td>\n",
              "      <td>80</td>\n",
              "      <td>68</td>\n",
              "      <td>108</td>\n",
              "      <td>124</td>\n",
              "      <td>590</td>\n",
              "      <td>0</td>\n",
              "    </tr>\n",
              "    <tr>\n",
              "      <th>4</th>\n",
              "      <td>1021</td>\n",
              "      <td>Raging Bolt</td>\n",
              "      <td>9</td>\n",
              "      <td>Electric</td>\n",
              "      <td>Dragon</td>\n",
              "      <td>5.2</td>\n",
              "      <td>480.0</td>\n",
              "      <td>125</td>\n",
              "      <td>73</td>\n",
              "      <td>91</td>\n",
              "      <td>137</td>\n",
              "      <td>89</td>\n",
              "      <td>75</td>\n",
              "      <td>590</td>\n",
              "      <td>0</td>\n",
              "    </tr>\n",
              "    <tr>\n",
              "      <th>...</th>\n",
              "      <td>...</td>\n",
              "      <td>...</td>\n",
              "      <td>...</td>\n",
              "      <td>...</td>\n",
              "      <td>...</td>\n",
              "      <td>...</td>\n",
              "      <td>...</td>\n",
              "      <td>...</td>\n",
              "      <td>...</td>\n",
              "      <td>...</td>\n",
              "      <td>...</td>\n",
              "      <td>...</td>\n",
              "      <td>...</td>\n",
              "      <td>...</td>\n",
              "      <td>...</td>\n",
              "    </tr>\n",
              "    <tr>\n",
              "      <th>1020</th>\n",
              "      <td>5</td>\n",
              "      <td>Charmeleon</td>\n",
              "      <td>1</td>\n",
              "      <td>Fire</td>\n",
              "      <td>NaN</td>\n",
              "      <td>1.1</td>\n",
              "      <td>19.0</td>\n",
              "      <td>58</td>\n",
              "      <td>64</td>\n",
              "      <td>58</td>\n",
              "      <td>80</td>\n",
              "      <td>65</td>\n",
              "      <td>80</td>\n",
              "      <td>405</td>\n",
              "      <td>0</td>\n",
              "    </tr>\n",
              "    <tr>\n",
              "      <th>1021</th>\n",
              "      <td>4</td>\n",
              "      <td>Charmander</td>\n",
              "      <td>1</td>\n",
              "      <td>Fire</td>\n",
              "      <td>NaN</td>\n",
              "      <td>0.6</td>\n",
              "      <td>8.5</td>\n",
              "      <td>39</td>\n",
              "      <td>52</td>\n",
              "      <td>43</td>\n",
              "      <td>60</td>\n",
              "      <td>50</td>\n",
              "      <td>65</td>\n",
              "      <td>309</td>\n",
              "      <td>0</td>\n",
              "    </tr>\n",
              "    <tr>\n",
              "      <th>1022</th>\n",
              "      <td>3</td>\n",
              "      <td>Venusaur</td>\n",
              "      <td>1</td>\n",
              "      <td>Grass</td>\n",
              "      <td>Poison</td>\n",
              "      <td>2.0</td>\n",
              "      <td>100.0</td>\n",
              "      <td>80</td>\n",
              "      <td>82</td>\n",
              "      <td>83</td>\n",
              "      <td>100</td>\n",
              "      <td>100</td>\n",
              "      <td>80</td>\n",
              "      <td>525</td>\n",
              "      <td>0</td>\n",
              "    </tr>\n",
              "    <tr>\n",
              "      <th>1023</th>\n",
              "      <td>2</td>\n",
              "      <td>Ivysaur</td>\n",
              "      <td>1</td>\n",
              "      <td>Grass</td>\n",
              "      <td>Poison</td>\n",
              "      <td>1.0</td>\n",
              "      <td>13.0</td>\n",
              "      <td>60</td>\n",
              "      <td>62</td>\n",
              "      <td>63</td>\n",
              "      <td>80</td>\n",
              "      <td>80</td>\n",
              "      <td>60</td>\n",
              "      <td>405</td>\n",
              "      <td>0</td>\n",
              "    </tr>\n",
              "    <tr>\n",
              "      <th>1024</th>\n",
              "      <td>1</td>\n",
              "      <td>Bulbasaur</td>\n",
              "      <td>1</td>\n",
              "      <td>Grass</td>\n",
              "      <td>Poison</td>\n",
              "      <td>0.7</td>\n",
              "      <td>6.9</td>\n",
              "      <td>45</td>\n",
              "      <td>49</td>\n",
              "      <td>49</td>\n",
              "      <td>65</td>\n",
              "      <td>65</td>\n",
              "      <td>45</td>\n",
              "      <td>318</td>\n",
              "      <td>0</td>\n",
              "    </tr>\n",
              "  </tbody>\n",
              "</table>\n",
              "<p>1025 rows × 15 columns</p>\n",
              "</div>"
            ],
            "text/plain": [
              "      dexnum          name  generation     type1    type2  height  weight  \\\n",
              "0       1025     Pecharunt           9    Poison    Ghost     0.3     0.3   \n",
              "1       1024     Terapagos           9    Normal      NaN     0.2     6.5   \n",
              "2       1023    Iron Crown           9     Steel  Psychic     1.6   156.0   \n",
              "3       1022  Iron Boulder           9      Rock  Psychic     1.5   162.5   \n",
              "4       1021   Raging Bolt           9  Electric   Dragon     5.2   480.0   \n",
              "...      ...           ...         ...       ...      ...     ...     ...   \n",
              "1020       5    Charmeleon           1      Fire      NaN     1.1    19.0   \n",
              "1021       4    Charmander           1      Fire      NaN     0.6     8.5   \n",
              "1022       3      Venusaur           1     Grass   Poison     2.0   100.0   \n",
              "1023       2       Ivysaur           1     Grass   Poison     1.0    13.0   \n",
              "1024       1     Bulbasaur           1     Grass   Poison     0.7     6.9   \n",
              "\n",
              "       hp  attack  defense  sp_atk  sp_def  speed  total  legendary  \n",
              "0      88      88      160      88      88     88    600          1  \n",
              "1      90      65       85      65      85     60    450          1  \n",
              "2      90      72      100     122     108     98    590          0  \n",
              "3      90     120       80      68     108    124    590          0  \n",
              "4     125      73       91     137      89     75    590          0  \n",
              "...   ...     ...      ...     ...     ...    ...    ...        ...  \n",
              "1020   58      64       58      80      65     80    405          0  \n",
              "1021   39      52       43      60      50     65    309          0  \n",
              "1022   80      82       83     100     100     80    525          0  \n",
              "1023   60      62       63      80      80     60    405          0  \n",
              "1024   45      49       49      65      65     45    318          0  \n",
              "\n",
              "[1025 rows x 15 columns]"
            ]
          },
          "execution_count": 87,
          "metadata": {},
          "output_type": "execute_result"
        }
      ],
      "source": [
        "data"
      ]
    },
    {
      "cell_type": "code",
      "execution_count": 88,
      "metadata": {
        "execution": {
          "iopub.execute_input": "2023-10-09T10:04:03.140795Z",
          "iopub.status.busy": "2023-10-09T10:04:03.140438Z",
          "iopub.status.idle": "2023-10-09T10:04:03.145967Z",
          "shell.execute_reply": "2023-10-09T10:04:03.144877Z",
          "shell.execute_reply.started": "2023-10-09T10:04:03.140766Z"
        },
        "id": "4xuE8RS0F-1L",
        "trusted": true
      },
      "outputs": [],
      "source": [
        "data_raw = data.copy() # usually, if memory allows it, it's a good idea to keep a raw version of your data"
      ]
    },
    {
      "cell_type": "markdown",
      "metadata": {
        "id": "pW9qbuLEF-1L"
      },
      "source": [
        "# Pre-processing / encoding"
      ]
    },
    {
      "cell_type": "code",
      "execution_count": 89,
      "metadata": {
        "execution": {
          "iopub.execute_input": "2023-10-09T10:04:04.634264Z",
          "iopub.status.busy": "2023-10-09T10:04:04.633636Z",
          "iopub.status.idle": "2023-10-09T10:04:04.650997Z",
          "shell.execute_reply": "2023-10-09T10:04:04.649508Z",
          "shell.execute_reply.started": "2023-10-09T10:04:04.634221Z"
        },
        "id": "otv7GlCxF-1L",
        "trusted": true
      },
      "outputs": [
        {
          "name": "stdout",
          "output_type": "stream",
          "text": [
            "<class 'pandas.core.frame.DataFrame'>\n",
            "RangeIndex: 1025 entries, 0 to 1024\n",
            "Data columns (total 15 columns):\n",
            " #   Column      Non-Null Count  Dtype  \n",
            "---  ------      --------------  -----  \n",
            " 0   dexnum      1025 non-null   int64  \n",
            " 1   name        1025 non-null   object \n",
            " 2   generation  1025 non-null   int64  \n",
            " 3   type1       1025 non-null   object \n",
            " 4   type2       526 non-null    object \n",
            " 5   height      1025 non-null   float64\n",
            " 6   weight      1025 non-null   float64\n",
            " 7   hp          1025 non-null   int64  \n",
            " 8   attack      1025 non-null   int64  \n",
            " 9   defense     1025 non-null   int64  \n",
            " 10  sp_atk      1025 non-null   int64  \n",
            " 11  sp_def      1025 non-null   int64  \n",
            " 12  speed       1025 non-null   int64  \n",
            " 13  total       1025 non-null   int64  \n",
            " 14  legendary   1025 non-null   int64  \n",
            "dtypes: float64(2), int64(10), object(3)\n",
            "memory usage: 120.2+ KB\n"
          ]
        }
      ],
      "source": [
        "data.info()"
      ]
    },
    {
      "cell_type": "code",
      "execution_count": 90,
      "metadata": {
        "execution": {
          "iopub.execute_input": "2023-10-09T10:04:05.073708Z",
          "iopub.status.busy": "2023-10-09T10:04:05.073162Z",
          "iopub.status.idle": "2023-10-09T10:04:05.081791Z",
          "shell.execute_reply": "2023-10-09T10:04:05.080673Z",
          "shell.execute_reply.started": "2023-10-09T10:04:05.073676Z"
        },
        "id": "RjZqyB6bF-1L",
        "trusted": true
      },
      "outputs": [
        {
          "data": {
            "text/plain": [
              "dexnum          0\n",
              "name            0\n",
              "generation      0\n",
              "type1           0\n",
              "type2         499\n",
              "height          0\n",
              "weight          0\n",
              "hp              0\n",
              "attack          0\n",
              "defense         0\n",
              "sp_atk          0\n",
              "sp_def          0\n",
              "speed           0\n",
              "total           0\n",
              "legendary       0\n",
              "dtype: int64"
            ]
          },
          "execution_count": 90,
          "metadata": {},
          "output_type": "execute_result"
        }
      ],
      "source": [
        "data.isna().sum()"
      ]
    },
    {
      "cell_type": "code",
      "execution_count": 91,
      "metadata": {
        "execution": {
          "iopub.execute_input": "2023-10-09T10:04:05.732577Z",
          "iopub.status.busy": "2023-10-09T10:04:05.732052Z",
          "iopub.status.idle": "2023-10-09T10:04:05.737607Z",
          "shell.execute_reply": "2023-10-09T10:04:05.736726Z",
          "shell.execute_reply.started": "2023-10-09T10:04:05.732545Z"
        },
        "id": "4whGrOvSF-1L",
        "trusted": true
      },
      "outputs": [],
      "source": [
        "data = data.drop(['dexnum', 'name', 'type2'], axis=1)\n",
        "# dropping type 2 is actually a debeatable step, it may provide useful information\n",
        "# data = data.drop([\"#\", \"Name\"], axis=1)"
      ]
    },
    {
      "cell_type": "code",
      "execution_count": 92,
      "metadata": {
        "execution": {
          "iopub.execute_input": "2023-10-09T10:04:17.132717Z",
          "iopub.status.busy": "2023-10-09T10:04:17.132078Z",
          "iopub.status.idle": "2023-10-09T10:04:17.137572Z",
          "shell.execute_reply": "2023-10-09T10:04:17.136616Z",
          "shell.execute_reply.started": "2023-10-09T10:04:17.132680Z"
        },
        "id": "ZabDJRZaF-1M",
        "trusted": true
      },
      "outputs": [],
      "source": [
        "data['legendary'] = data['legendary'].astype(int)\n",
        "data['generation'] = data['generation'].astype(str)"
      ]
    },
    {
      "cell_type": "code",
      "execution_count": 93,
      "metadata": {
        "execution": {
          "iopub.execute_input": "2023-10-09T10:04:25.425522Z",
          "iopub.status.busy": "2023-10-09T10:04:25.424830Z",
          "iopub.status.idle": "2023-10-09T10:04:25.433340Z",
          "shell.execute_reply": "2023-10-09T10:04:25.432589Z",
          "shell.execute_reply.started": "2023-10-09T10:04:25.425473Z"
        },
        "id": "bqVbYkL3F-1M",
        "trusted": true
      },
      "outputs": [
        {
          "data": {
            "text/plain": [
              "generation     object\n",
              "type1          object\n",
              "height        float64\n",
              "weight        float64\n",
              "hp              int64\n",
              "attack          int64\n",
              "defense         int64\n",
              "sp_atk          int64\n",
              "sp_def          int64\n",
              "speed           int64\n",
              "total           int64\n",
              "legendary       int64\n",
              "dtype: object"
            ]
          },
          "execution_count": 93,
          "metadata": {},
          "output_type": "execute_result"
        }
      ],
      "source": [
        "data.dtypes"
      ]
    },
    {
      "cell_type": "markdown",
      "metadata": {
        "id": "j4DN8agr8Wp_"
      },
      "source": [
        "Categorical variables are one-hot encoded"
      ]
    },
    {
      "cell_type": "code",
      "execution_count": 94,
      "metadata": {
        "execution": {
          "iopub.execute_input": "2023-10-09T10:04:27.609994Z",
          "iopub.status.busy": "2023-10-09T10:04:27.609285Z",
          "iopub.status.idle": "2023-10-09T10:04:27.616135Z",
          "shell.execute_reply": "2023-10-09T10:04:27.615476Z",
          "shell.execute_reply.started": "2023-10-09T10:04:27.609945Z"
        },
        "id": "FCvblzRqF-1M",
        "trusted": true
      },
      "outputs": [],
      "source": [
        "def onehot_encode(df, column, prefix):\n",
        "    df = df.copy()\n",
        "    dummies = pd.get_dummies(df[column], prefix=prefix)\n",
        "    df = pd.concat([df, dummies], axis=1)\n",
        "    df = df.drop(column, axis=1)\n",
        "    return df"
      ]
    },
    {
      "cell_type": "code",
      "execution_count": 95,
      "metadata": {
        "execution": {
          "iopub.execute_input": "2023-10-09T10:04:27.941093Z",
          "iopub.status.busy": "2023-10-09T10:04:27.940418Z",
          "iopub.status.idle": "2023-10-09T10:04:27.950841Z",
          "shell.execute_reply": "2023-10-09T10:04:27.949833Z",
          "shell.execute_reply.started": "2023-10-09T10:04:27.941046Z"
        },
        "id": "IOOSfBXJF-1N",
        "trusted": true
      },
      "outputs": [],
      "source": [
        "data = onehot_encode(data, 'type1', 't')\n",
        "data = onehot_encode(data, 'generation', 'g')"
      ]
    },
    {
      "cell_type": "code",
      "execution_count": 96,
      "metadata": {
        "execution": {
          "iopub.execute_input": "2023-10-09T10:04:28.321322Z",
          "iopub.status.busy": "2023-10-09T10:04:28.321000Z",
          "iopub.status.idle": "2023-10-09T10:04:28.345828Z",
          "shell.execute_reply": "2023-10-09T10:04:28.344806Z",
          "shell.execute_reply.started": "2023-10-09T10:04:28.321293Z"
        },
        "id": "lJmDYSiwF-1N",
        "trusted": true
      },
      "outputs": [
        {
          "data": {
            "text/plain": [
              "(1025, 37)"
            ]
          },
          "execution_count": 96,
          "metadata": {},
          "output_type": "execute_result"
        }
      ],
      "source": [
        "data.shape"
      ]
    },
    {
      "cell_type": "code",
      "execution_count": 97,
      "metadata": {},
      "outputs": [
        {
          "data": {
            "text/html": [
              "<div>\n",
              "<style scoped>\n",
              "    .dataframe tbody tr th:only-of-type {\n",
              "        vertical-align: middle;\n",
              "    }\n",
              "\n",
              "    .dataframe tbody tr th {\n",
              "        vertical-align: top;\n",
              "    }\n",
              "\n",
              "    .dataframe thead th {\n",
              "        text-align: right;\n",
              "    }\n",
              "</style>\n",
              "<table border=\"1\" class=\"dataframe\">\n",
              "  <thead>\n",
              "    <tr style=\"text-align: right;\">\n",
              "      <th></th>\n",
              "      <th>height</th>\n",
              "      <th>weight</th>\n",
              "      <th>hp</th>\n",
              "      <th>attack</th>\n",
              "      <th>defense</th>\n",
              "      <th>sp_atk</th>\n",
              "      <th>sp_def</th>\n",
              "      <th>speed</th>\n",
              "      <th>total</th>\n",
              "      <th>legendary</th>\n",
              "      <th>...</th>\n",
              "      <th>t_Water</th>\n",
              "      <th>g_1</th>\n",
              "      <th>g_2</th>\n",
              "      <th>g_3</th>\n",
              "      <th>g_4</th>\n",
              "      <th>g_5</th>\n",
              "      <th>g_6</th>\n",
              "      <th>g_7</th>\n",
              "      <th>g_8</th>\n",
              "      <th>g_9</th>\n",
              "    </tr>\n",
              "  </thead>\n",
              "  <tbody>\n",
              "    <tr>\n",
              "      <th>0</th>\n",
              "      <td>0.3</td>\n",
              "      <td>0.3</td>\n",
              "      <td>88</td>\n",
              "      <td>88</td>\n",
              "      <td>160</td>\n",
              "      <td>88</td>\n",
              "      <td>88</td>\n",
              "      <td>88</td>\n",
              "      <td>600</td>\n",
              "      <td>1</td>\n",
              "      <td>...</td>\n",
              "      <td>False</td>\n",
              "      <td>False</td>\n",
              "      <td>False</td>\n",
              "      <td>False</td>\n",
              "      <td>False</td>\n",
              "      <td>False</td>\n",
              "      <td>False</td>\n",
              "      <td>False</td>\n",
              "      <td>False</td>\n",
              "      <td>True</td>\n",
              "    </tr>\n",
              "    <tr>\n",
              "      <th>1</th>\n",
              "      <td>0.2</td>\n",
              "      <td>6.5</td>\n",
              "      <td>90</td>\n",
              "      <td>65</td>\n",
              "      <td>85</td>\n",
              "      <td>65</td>\n",
              "      <td>85</td>\n",
              "      <td>60</td>\n",
              "      <td>450</td>\n",
              "      <td>1</td>\n",
              "      <td>...</td>\n",
              "      <td>False</td>\n",
              "      <td>False</td>\n",
              "      <td>False</td>\n",
              "      <td>False</td>\n",
              "      <td>False</td>\n",
              "      <td>False</td>\n",
              "      <td>False</td>\n",
              "      <td>False</td>\n",
              "      <td>False</td>\n",
              "      <td>True</td>\n",
              "    </tr>\n",
              "    <tr>\n",
              "      <th>2</th>\n",
              "      <td>1.6</td>\n",
              "      <td>156.0</td>\n",
              "      <td>90</td>\n",
              "      <td>72</td>\n",
              "      <td>100</td>\n",
              "      <td>122</td>\n",
              "      <td>108</td>\n",
              "      <td>98</td>\n",
              "      <td>590</td>\n",
              "      <td>0</td>\n",
              "      <td>...</td>\n",
              "      <td>False</td>\n",
              "      <td>False</td>\n",
              "      <td>False</td>\n",
              "      <td>False</td>\n",
              "      <td>False</td>\n",
              "      <td>False</td>\n",
              "      <td>False</td>\n",
              "      <td>False</td>\n",
              "      <td>False</td>\n",
              "      <td>True</td>\n",
              "    </tr>\n",
              "    <tr>\n",
              "      <th>3</th>\n",
              "      <td>1.5</td>\n",
              "      <td>162.5</td>\n",
              "      <td>90</td>\n",
              "      <td>120</td>\n",
              "      <td>80</td>\n",
              "      <td>68</td>\n",
              "      <td>108</td>\n",
              "      <td>124</td>\n",
              "      <td>590</td>\n",
              "      <td>0</td>\n",
              "      <td>...</td>\n",
              "      <td>False</td>\n",
              "      <td>False</td>\n",
              "      <td>False</td>\n",
              "      <td>False</td>\n",
              "      <td>False</td>\n",
              "      <td>False</td>\n",
              "      <td>False</td>\n",
              "      <td>False</td>\n",
              "      <td>False</td>\n",
              "      <td>True</td>\n",
              "    </tr>\n",
              "    <tr>\n",
              "      <th>4</th>\n",
              "      <td>5.2</td>\n",
              "      <td>480.0</td>\n",
              "      <td>125</td>\n",
              "      <td>73</td>\n",
              "      <td>91</td>\n",
              "      <td>137</td>\n",
              "      <td>89</td>\n",
              "      <td>75</td>\n",
              "      <td>590</td>\n",
              "      <td>0</td>\n",
              "      <td>...</td>\n",
              "      <td>False</td>\n",
              "      <td>False</td>\n",
              "      <td>False</td>\n",
              "      <td>False</td>\n",
              "      <td>False</td>\n",
              "      <td>False</td>\n",
              "      <td>False</td>\n",
              "      <td>False</td>\n",
              "      <td>False</td>\n",
              "      <td>True</td>\n",
              "    </tr>\n",
              "    <tr>\n",
              "      <th>...</th>\n",
              "      <td>...</td>\n",
              "      <td>...</td>\n",
              "      <td>...</td>\n",
              "      <td>...</td>\n",
              "      <td>...</td>\n",
              "      <td>...</td>\n",
              "      <td>...</td>\n",
              "      <td>...</td>\n",
              "      <td>...</td>\n",
              "      <td>...</td>\n",
              "      <td>...</td>\n",
              "      <td>...</td>\n",
              "      <td>...</td>\n",
              "      <td>...</td>\n",
              "      <td>...</td>\n",
              "      <td>...</td>\n",
              "      <td>...</td>\n",
              "      <td>...</td>\n",
              "      <td>...</td>\n",
              "      <td>...</td>\n",
              "      <td>...</td>\n",
              "    </tr>\n",
              "    <tr>\n",
              "      <th>1020</th>\n",
              "      <td>1.1</td>\n",
              "      <td>19.0</td>\n",
              "      <td>58</td>\n",
              "      <td>64</td>\n",
              "      <td>58</td>\n",
              "      <td>80</td>\n",
              "      <td>65</td>\n",
              "      <td>80</td>\n",
              "      <td>405</td>\n",
              "      <td>0</td>\n",
              "      <td>...</td>\n",
              "      <td>False</td>\n",
              "      <td>True</td>\n",
              "      <td>False</td>\n",
              "      <td>False</td>\n",
              "      <td>False</td>\n",
              "      <td>False</td>\n",
              "      <td>False</td>\n",
              "      <td>False</td>\n",
              "      <td>False</td>\n",
              "      <td>False</td>\n",
              "    </tr>\n",
              "    <tr>\n",
              "      <th>1021</th>\n",
              "      <td>0.6</td>\n",
              "      <td>8.5</td>\n",
              "      <td>39</td>\n",
              "      <td>52</td>\n",
              "      <td>43</td>\n",
              "      <td>60</td>\n",
              "      <td>50</td>\n",
              "      <td>65</td>\n",
              "      <td>309</td>\n",
              "      <td>0</td>\n",
              "      <td>...</td>\n",
              "      <td>False</td>\n",
              "      <td>True</td>\n",
              "      <td>False</td>\n",
              "      <td>False</td>\n",
              "      <td>False</td>\n",
              "      <td>False</td>\n",
              "      <td>False</td>\n",
              "      <td>False</td>\n",
              "      <td>False</td>\n",
              "      <td>False</td>\n",
              "    </tr>\n",
              "    <tr>\n",
              "      <th>1022</th>\n",
              "      <td>2.0</td>\n",
              "      <td>100.0</td>\n",
              "      <td>80</td>\n",
              "      <td>82</td>\n",
              "      <td>83</td>\n",
              "      <td>100</td>\n",
              "      <td>100</td>\n",
              "      <td>80</td>\n",
              "      <td>525</td>\n",
              "      <td>0</td>\n",
              "      <td>...</td>\n",
              "      <td>False</td>\n",
              "      <td>True</td>\n",
              "      <td>False</td>\n",
              "      <td>False</td>\n",
              "      <td>False</td>\n",
              "      <td>False</td>\n",
              "      <td>False</td>\n",
              "      <td>False</td>\n",
              "      <td>False</td>\n",
              "      <td>False</td>\n",
              "    </tr>\n",
              "    <tr>\n",
              "      <th>1023</th>\n",
              "      <td>1.0</td>\n",
              "      <td>13.0</td>\n",
              "      <td>60</td>\n",
              "      <td>62</td>\n",
              "      <td>63</td>\n",
              "      <td>80</td>\n",
              "      <td>80</td>\n",
              "      <td>60</td>\n",
              "      <td>405</td>\n",
              "      <td>0</td>\n",
              "      <td>...</td>\n",
              "      <td>False</td>\n",
              "      <td>True</td>\n",
              "      <td>False</td>\n",
              "      <td>False</td>\n",
              "      <td>False</td>\n",
              "      <td>False</td>\n",
              "      <td>False</td>\n",
              "      <td>False</td>\n",
              "      <td>False</td>\n",
              "      <td>False</td>\n",
              "    </tr>\n",
              "    <tr>\n",
              "      <th>1024</th>\n",
              "      <td>0.7</td>\n",
              "      <td>6.9</td>\n",
              "      <td>45</td>\n",
              "      <td>49</td>\n",
              "      <td>49</td>\n",
              "      <td>65</td>\n",
              "      <td>65</td>\n",
              "      <td>45</td>\n",
              "      <td>318</td>\n",
              "      <td>0</td>\n",
              "      <td>...</td>\n",
              "      <td>False</td>\n",
              "      <td>True</td>\n",
              "      <td>False</td>\n",
              "      <td>False</td>\n",
              "      <td>False</td>\n",
              "      <td>False</td>\n",
              "      <td>False</td>\n",
              "      <td>False</td>\n",
              "      <td>False</td>\n",
              "      <td>False</td>\n",
              "    </tr>\n",
              "  </tbody>\n",
              "</table>\n",
              "<p>1025 rows × 37 columns</p>\n",
              "</div>"
            ],
            "text/plain": [
              "      height  weight   hp  attack  defense  sp_atk  sp_def  speed  total  \\\n",
              "0        0.3     0.3   88      88      160      88      88     88    600   \n",
              "1        0.2     6.5   90      65       85      65      85     60    450   \n",
              "2        1.6   156.0   90      72      100     122     108     98    590   \n",
              "3        1.5   162.5   90     120       80      68     108    124    590   \n",
              "4        5.2   480.0  125      73       91     137      89     75    590   \n",
              "...      ...     ...  ...     ...      ...     ...     ...    ...    ...   \n",
              "1020     1.1    19.0   58      64       58      80      65     80    405   \n",
              "1021     0.6     8.5   39      52       43      60      50     65    309   \n",
              "1022     2.0   100.0   80      82       83     100     100     80    525   \n",
              "1023     1.0    13.0   60      62       63      80      80     60    405   \n",
              "1024     0.7     6.9   45      49       49      65      65     45    318   \n",
              "\n",
              "      legendary  ...  t_Water    g_1    g_2    g_3    g_4    g_5    g_6  \\\n",
              "0             1  ...    False  False  False  False  False  False  False   \n",
              "1             1  ...    False  False  False  False  False  False  False   \n",
              "2             0  ...    False  False  False  False  False  False  False   \n",
              "3             0  ...    False  False  False  False  False  False  False   \n",
              "4             0  ...    False  False  False  False  False  False  False   \n",
              "...         ...  ...      ...    ...    ...    ...    ...    ...    ...   \n",
              "1020          0  ...    False   True  False  False  False  False  False   \n",
              "1021          0  ...    False   True  False  False  False  False  False   \n",
              "1022          0  ...    False   True  False  False  False  False  False   \n",
              "1023          0  ...    False   True  False  False  False  False  False   \n",
              "1024          0  ...    False   True  False  False  False  False  False   \n",
              "\n",
              "        g_7    g_8    g_9  \n",
              "0     False  False   True  \n",
              "1     False  False   True  \n",
              "2     False  False   True  \n",
              "3     False  False   True  \n",
              "4     False  False   True  \n",
              "...     ...    ...    ...  \n",
              "1020  False  False  False  \n",
              "1021  False  False  False  \n",
              "1022  False  False  False  \n",
              "1023  False  False  False  \n",
              "1024  False  False  False  \n",
              "\n",
              "[1025 rows x 37 columns]"
            ]
          },
          "execution_count": 97,
          "metadata": {},
          "output_type": "execute_result"
        }
      ],
      "source": [
        "data"
      ]
    },
    {
      "cell_type": "markdown",
      "metadata": {
        "id": "30niefA6F-1N"
      },
      "source": [
        "## Splitting and Scaling"
      ]
    },
    {
      "cell_type": "code",
      "execution_count": 98,
      "metadata": {
        "id": "a9N2nv8O8iKT"
      },
      "outputs": [
        {
          "data": {
            "text/plain": [
              "Index(['height', 'weight', 'hp', 'attack', 'defense', 'sp_atk', 'sp_def',\n",
              "       'speed', 'total', 'legendary', 't_Bug', 't_Dark', 't_Dragon',\n",
              "       't_Electric', 't_Fairy', 't_Fighting', 't_Fire', 't_Flying', 't_Ghost',\n",
              "       't_Grass', 't_Ground', 't_Ice', 't_Normal', 't_Poison', 't_Psychic',\n",
              "       't_Rock', 't_Steel', 't_Water', 'g_1', 'g_2', 'g_3', 'g_4', 'g_5',\n",
              "       'g_6', 'g_7', 'g_8', 'g_9'],\n",
              "      dtype='object')"
            ]
          },
          "execution_count": 98,
          "metadata": {},
          "output_type": "execute_result"
        }
      ],
      "source": [
        "data.columns # note that only the first 9 features are continuous now"
      ]
    },
    {
      "cell_type": "code",
      "execution_count": 99,
      "metadata": {
        "execution": {
          "iopub.execute_input": "2023-10-09T10:04:36.262122Z",
          "iopub.status.busy": "2023-10-09T10:04:36.261494Z",
          "iopub.status.idle": "2023-10-09T10:04:36.269171Z",
          "shell.execute_reply": "2023-10-09T10:04:36.268451Z",
          "shell.execute_reply.started": "2023-10-09T10:04:36.262071Z"
        },
        "id": "KR-yDxraF-1N",
        "trusted": true
      },
      "outputs": [],
      "source": [
        "y = data['legendary']\n",
        "X = data.drop('legendary', axis=1)"
      ]
    },
    {
      "cell_type": "code",
      "execution_count": 100,
      "metadata": {
        "execution": {
          "iopub.execute_input": "2023-10-09T10:04:37.532104Z",
          "iopub.status.busy": "2023-10-09T10:04:37.531465Z",
          "iopub.status.idle": "2023-10-09T10:04:37.542125Z",
          "shell.execute_reply": "2023-10-09T10:04:37.541465Z",
          "shell.execute_reply.started": "2023-10-09T10:04:37.532051Z"
        },
        "id": "y14BFzZyF-1N",
        "trusted": true
      },
      "outputs": [],
      "source": [
        "scaler = StandardScaler()\n",
        "\n",
        "X_scaled = scaler.fit_transform(X.iloc[:,:9])\n",
        "X = np.concatenate((X_scaled, np.array(X.iloc[:,9:])), axis=1)"
      ]
    },
    {
      "cell_type": "markdown",
      "metadata": {
        "id": "SeI7sgXRF-1N"
      },
      "source": [
        "# Model definition"
      ]
    },
    {
      "cell_type": "code",
      "execution_count": 101,
      "metadata": {
        "execution": {
          "iopub.execute_input": "2023-10-09T10:04:41.290174Z",
          "iopub.status.busy": "2023-10-09T10:04:41.289646Z",
          "iopub.status.idle": "2023-10-09T10:04:41.296775Z",
          "shell.execute_reply": "2023-10-09T10:04:41.295898Z",
          "shell.execute_reply.started": "2023-10-09T10:04:41.290135Z"
        },
        "id": "eYpu0pOIF-1N",
        "trusted": true
      },
      "outputs": [
        {
          "name": "stdout",
          "output_type": "stream",
          "text": [
            "Using cuda device\n"
          ]
        }
      ],
      "source": [
        "DEVICE = torch.device('cuda' if torch.cuda.is_available() else 'mps' \n",
        "    if torch.backends.mps.is_available() else 'cpu')\n",
        "print(f\"Using {DEVICE} device\")"
      ]
    },
    {
      "cell_type": "markdown",
      "metadata": {
        "id": "V6VZp4IQ9IpG"
      },
      "source": [
        "### Define your model :"
      ]
    },
    {
      "cell_type": "markdown",
      "metadata": {
        "id": "hnt0qXDZ_29X"
      },
      "source": [
        "Choose yourself in the model:\n",
        "- number of hidden layers\n",
        "- number of neurons per layer (careful with input and output, these are not a choice)\n",
        "- activation functions\n",
        "- any other possible component among those seen so far in theory."
      ]
    },
    {
      "cell_type": "code",
      "execution_count": 102,
      "metadata": {
        "execution": {
          "iopub.execute_input": "2023-10-09T10:04:42.310280Z",
          "iopub.status.busy": "2023-10-09T10:04:42.309954Z",
          "iopub.status.idle": "2023-10-09T10:04:42.317352Z",
          "shell.execute_reply": "2023-10-09T10:04:42.316057Z",
          "shell.execute_reply.started": "2023-10-09T10:04:42.310252Z"
        },
        "id": "2x2t4rEtF-1N",
        "trusted": true
      },
      "outputs": [],
      "source": [
        "import torch.nn.functional as F\n",
        "# Model with L2 Regularization and\n",
        "class RegModel(nn.Module):\n",
        "    def __init__(self, input_size, d_1, d_2, p=0.3):\n",
        "        super(RegModel, self).__init__()\n",
        "        self.fc1 = nn.Linear(input_size, d_1)\n",
        "        self.BN = nn.BatchNorm1d(d_1)\n",
        "        self.fc2 = nn.Linear(d_1, d_2)\n",
        "        self.dropout = nn.Dropout(p)\n",
        "        self.fc3 = nn.Linear(d_2, 1)  # Output a single value\n",
        "\n",
        "    def forward(self, x):\n",
        "        x = self.fc1(x)\n",
        "        x = F.relu(x)\n",
        "        x = self.BN(x)\n",
        "        x = self.fc2(x)\n",
        "        x = F.relu(x)\n",
        "        x = self.dropout(x)\n",
        "        x = self.fc3(x)\n",
        "        return torch.sigmoid(x)  # Apply sigmoid to get probability\n"
      ]
    },
    {
      "cell_type": "markdown",
      "metadata": {
        "id": "_QhXrIWerKfU"
      },
      "source": [
        "Instantiate your model and print it out"
      ]
    },
    {
      "cell_type": "code",
      "execution_count": 103,
      "metadata": {
        "execution": {
          "iopub.execute_input": "2023-10-09T10:04:49.934880Z",
          "iopub.status.busy": "2023-10-09T10:04:49.934535Z",
          "iopub.status.idle": "2023-10-09T10:04:49.962352Z",
          "shell.execute_reply": "2023-10-09T10:04:49.961502Z",
          "shell.execute_reply.started": "2023-10-09T10:04:49.934850Z"
        },
        "id": "E9ivUgk_F-1N",
        "trusted": true
      },
      "outputs": [],
      "source": [
        "# Convert DataFrame to tensors\n",
        "X_tensor = torch.tensor(X, dtype=torch.float32)\n",
        "y_tensor = torch.tensor(y, dtype=torch.long)  "
      ]
    },
    {
      "cell_type": "code",
      "execution_count": 104,
      "metadata": {},
      "outputs": [],
      "source": [
        "input_dime = 36\n",
        "d_1 = input_dime // 2\n",
        "d_2 = d_1 // 2"
      ]
    },
    {
      "cell_type": "code",
      "execution_count": 105,
      "metadata": {},
      "outputs": [
        {
          "data": {
            "text/plain": [
              "RegModel(\n",
              "  (fc1): Linear(in_features=36, out_features=18, bias=True)\n",
              "  (BN): BatchNorm1d(18, eps=1e-05, momentum=0.1, affine=True, track_running_stats=True)\n",
              "  (fc2): Linear(in_features=18, out_features=9, bias=True)\n",
              "  (dropout): Dropout(p=0.3, inplace=False)\n",
              "  (fc3): Linear(in_features=9, out_features=1, bias=True)\n",
              ")"
            ]
          },
          "execution_count": 105,
          "metadata": {},
          "output_type": "execute_result"
        }
      ],
      "source": [
        "model = RegModel(input_dime, d_1, d_2).to(DEVICE)\n",
        "model"
      ]
    },
    {
      "cell_type": "markdown",
      "metadata": {
        "id": "sXCiwbQd_T-2"
      },
      "source": [
        "### Hyperparameters:"
      ]
    },
    {
      "cell_type": "markdown",
      "metadata": {
        "id": "L-1fTWhB_9HB"
      },
      "source": [
        "Choose carefully your:\n",
        "- learning rate (this is usually the most important hyperparameter to get right, but some optimizers are more forgiving than others)\n",
        "- batch size\n",
        "- number of epochs.\n",
        "- other hyperparameters that you might need"
      ]
    },
    {
      "cell_type": "code",
      "execution_count": 106,
      "metadata": {
        "execution": {
          "iopub.execute_input": "2023-10-09T10:04:57.406348Z",
          "iopub.status.busy": "2023-10-09T10:04:57.405999Z",
          "iopub.status.idle": "2023-10-09T10:04:57.410729Z",
          "shell.execute_reply": "2023-10-09T10:04:57.409643Z",
          "shell.execute_reply.started": "2023-10-09T10:04:57.406319Z"
        },
        "id": "GFumcDhCF-1N",
        "trusted": true
      },
      "outputs": [],
      "source": [
        "lr = 0.001\n",
        "batch_size = 64\n",
        "num_epochs = 600"
      ]
    },
    {
      "cell_type": "markdown",
      "metadata": {
        "id": "M9LK0StY_kyS"
      },
      "source": [
        "### Loss function and optimizer:"
      ]
    },
    {
      "cell_type": "markdown",
      "metadata": {
        "id": "KvHQnWrmABgx"
      },
      "source": [
        "- What's the appropriate loss function for the task?\n",
        "- Decide which optimizer you want to use ([Documentation](https://pytorch.org/docs/stable/optim.html))"
      ]
    },
    {
      "cell_type": "code",
      "execution_count": 107,
      "metadata": {
        "execution": {
          "iopub.execute_input": "2023-10-09T10:04:59.179553Z",
          "iopub.status.busy": "2023-10-09T10:04:59.179191Z",
          "iopub.status.idle": "2023-10-09T10:04:59.185130Z",
          "shell.execute_reply": "2023-10-09T10:04:59.183865Z",
          "shell.execute_reply.started": "2023-10-09T10:04:59.179521Z"
        },
        "id": "hFYvvA8GF-1N",
        "trusted": true
      },
      "outputs": [],
      "source": [
        "loss_fn = nn.BCELoss()\n",
        "optimizer = torch.optim.Adam(model.parameters(), lr=lr, weight_decay=1e-5)\n",
        "from torch.optim.lr_scheduler import ReduceLROnPlateau\n",
        "scheduler = ReduceLROnPlateau(optimizer, mode='min', factor=0.1, patience=10)"
      ]
    },
    {
      "cell_type": "markdown",
      "metadata": {
        "id": "ra1bhn_A_tTj"
      },
      "source": [
        "Define your TensorDatasets and DataLoaders; remember to use the appropriate dtype for your tensors.\n",
        "TensorDataset è un modo per \"impacchettare\" i tuoi tensori di input e target in un unico oggetto.\n",
        "DataLoader è uno strumento che aiuta a dividere il tuo dataset in piccoli batch di dati e li carica durante l'addestramento in modo efficiente.\n"
      ]
    },
    {
      "cell_type": "code",
      "execution_count": 108,
      "metadata": {
        "execution": {
          "iopub.execute_input": "2023-10-09T10:12:27.546392Z",
          "iopub.status.busy": "2023-10-09T10:12:27.545708Z",
          "iopub.status.idle": "2023-10-09T10:12:27.555392Z",
          "shell.execute_reply": "2023-10-09T10:12:27.554394Z",
          "shell.execute_reply.started": "2023-10-09T10:12:27.546321Z"
        },
        "id": "LVpU6mGsF-1O",
        "trusted": true
      },
      "outputs": [],
      "source": [
        "# First split: separate test set (80% train+val, 20% test)\n",
        "X_temp, X_test, y_temp, y_test = train_test_split(X, y, test_size=0.2, random_state=42)\n",
        "X_train, X_val, y_train, y_val = train_test_split(X_temp, y_temp, test_size=0.25, random_state=42)\n",
        "\n",
        "# Convert training data to tensors\n",
        "X_train_tensor = torch.tensor(X_train, dtype=torch.float32)\n",
        "y_train_tensor = torch.tensor(y_train.values, dtype=torch.long)\n",
        "\n",
        "# Convert validation data to tensors\n",
        "X_val_tensor = torch.tensor(X_val, dtype=torch.float32)\n",
        "y_val_tensor = torch.tensor(y_val.values, dtype=torch.long)\n",
        "\n",
        "# Convert test data to tensors\n",
        "X_test_tensor = torch.tensor(X_test, dtype=torch.float32)\n",
        "y_test_tensor = torch.tensor(y_test.values, dtype=torch.long)\n",
        "\n",
        "# Create TensorDataset for all sets\n",
        "train_dataset = TensorDataset(X_train_tensor, y_train_tensor)\n",
        "val_dataset = TensorDataset(X_val_tensor, y_val_tensor)\n",
        "test_dataset = TensorDataset(X_test_tensor, y_test_tensor)\n",
        "\n",
        "# Create DataLoader for all sets\n",
        "trainloader = DataLoader(train_dataset, batch_size=batch_size, shuffle=True)\n",
        "validloader = DataLoader(val_dataset, batch_size=batch_size, shuffle=False)\n",
        "testloader = DataLoader(test_dataset, batch_size=batch_size, shuffle=False)"
      ]
    },
    {
      "cell_type": "code",
      "execution_count": 109,
      "metadata": {
        "id": "ceHoIeQst3mA"
      },
      "outputs": [],
      "source": [
        "# Keep track of training and validation losses during training\n",
        "\n",
        "train_loss_list = []\n",
        "valid_loss_list = []\n",
        "\n",
        "train_length = len(trainloader)\n",
        "valid_length = len(validloader)\n",
        "valid_length = len(testloader)"
      ]
    },
    {
      "cell_type": "markdown",
      "metadata": {
        "id": "cKeqhHEiOs-6"
      },
      "source": [
        "# Training"
      ]
    },
    {
      "cell_type": "markdown",
      "metadata": {
        "id": "2KUEZoR_O2ra"
      },
      "source": [
        "Implement your training and evaluation (for the validation set) loops"
      ]
    },
    {
      "cell_type": "code",
      "execution_count": 110,
      "metadata": {
        "id": "EqK5jG1NF-1O",
        "trusted": true
      },
      "outputs": [
        {
          "ename": "ValueError",
          "evalue": "Using a target size (torch.Size([64])) that is different to the input size (torch.Size([64, 1])) is deprecated. Please ensure they have the same size.",
          "output_type": "error",
          "traceback": [
            "\u001b[1;31m---------------------------------------------------------------------------\u001b[0m",
            "\u001b[1;31mValueError\u001b[0m                                Traceback (most recent call last)",
            "Cell \u001b[1;32mIn[110], line 15\u001b[0m\n\u001b[0;32m     12\u001b[0m output \u001b[38;5;241m=\u001b[39m model(data)\n\u001b[0;32m     13\u001b[0m \u001b[38;5;66;03m# CrossEntropyLoss expects target as class indices (Long tensor)\u001b[39;00m\n\u001b[0;32m     14\u001b[0m \u001b[38;5;66;03m# and input as raw, unnormalized scores for each class\u001b[39;00m\n\u001b[1;32m---> 15\u001b[0m loss \u001b[38;5;241m=\u001b[39m \u001b[43mloss_fn\u001b[49m\u001b[43m(\u001b[49m\u001b[43moutput\u001b[49m\u001b[43m,\u001b[49m\u001b[43m \u001b[49m\u001b[43mtarget\u001b[49m\u001b[43m)\u001b[49m\n\u001b[0;32m     16\u001b[0m loss\u001b[38;5;241m.\u001b[39mbackward()\n\u001b[0;32m     17\u001b[0m optimizer\u001b[38;5;241m.\u001b[39mstep()\n",
            "File \u001b[1;32mc:\\Users\\damia\\Desktop\\Università\\Usi\\First Semester\\Deep Learning Lab\\.venv\\Lib\\site-packages\\torch\\nn\\modules\\module.py:1553\u001b[0m, in \u001b[0;36mModule._wrapped_call_impl\u001b[1;34m(self, *args, **kwargs)\u001b[0m\n\u001b[0;32m   1551\u001b[0m     \u001b[38;5;28;01mreturn\u001b[39;00m \u001b[38;5;28mself\u001b[39m\u001b[38;5;241m.\u001b[39m_compiled_call_impl(\u001b[38;5;241m*\u001b[39margs, \u001b[38;5;241m*\u001b[39m\u001b[38;5;241m*\u001b[39mkwargs)  \u001b[38;5;66;03m# type: ignore[misc]\u001b[39;00m\n\u001b[0;32m   1552\u001b[0m \u001b[38;5;28;01melse\u001b[39;00m:\n\u001b[1;32m-> 1553\u001b[0m     \u001b[38;5;28;01mreturn\u001b[39;00m \u001b[38;5;28;43mself\u001b[39;49m\u001b[38;5;241;43m.\u001b[39;49m\u001b[43m_call_impl\u001b[49m\u001b[43m(\u001b[49m\u001b[38;5;241;43m*\u001b[39;49m\u001b[43margs\u001b[49m\u001b[43m,\u001b[49m\u001b[43m \u001b[49m\u001b[38;5;241;43m*\u001b[39;49m\u001b[38;5;241;43m*\u001b[39;49m\u001b[43mkwargs\u001b[49m\u001b[43m)\u001b[49m\n",
            "File \u001b[1;32mc:\\Users\\damia\\Desktop\\Università\\Usi\\First Semester\\Deep Learning Lab\\.venv\\Lib\\site-packages\\torch\\nn\\modules\\module.py:1562\u001b[0m, in \u001b[0;36mModule._call_impl\u001b[1;34m(self, *args, **kwargs)\u001b[0m\n\u001b[0;32m   1557\u001b[0m \u001b[38;5;66;03m# If we don't have any hooks, we want to skip the rest of the logic in\u001b[39;00m\n\u001b[0;32m   1558\u001b[0m \u001b[38;5;66;03m# this function, and just call forward.\u001b[39;00m\n\u001b[0;32m   1559\u001b[0m \u001b[38;5;28;01mif\u001b[39;00m \u001b[38;5;129;01mnot\u001b[39;00m (\u001b[38;5;28mself\u001b[39m\u001b[38;5;241m.\u001b[39m_backward_hooks \u001b[38;5;129;01mor\u001b[39;00m \u001b[38;5;28mself\u001b[39m\u001b[38;5;241m.\u001b[39m_backward_pre_hooks \u001b[38;5;129;01mor\u001b[39;00m \u001b[38;5;28mself\u001b[39m\u001b[38;5;241m.\u001b[39m_forward_hooks \u001b[38;5;129;01mor\u001b[39;00m \u001b[38;5;28mself\u001b[39m\u001b[38;5;241m.\u001b[39m_forward_pre_hooks\n\u001b[0;32m   1560\u001b[0m         \u001b[38;5;129;01mor\u001b[39;00m _global_backward_pre_hooks \u001b[38;5;129;01mor\u001b[39;00m _global_backward_hooks\n\u001b[0;32m   1561\u001b[0m         \u001b[38;5;129;01mor\u001b[39;00m _global_forward_hooks \u001b[38;5;129;01mor\u001b[39;00m _global_forward_pre_hooks):\n\u001b[1;32m-> 1562\u001b[0m     \u001b[38;5;28;01mreturn\u001b[39;00m \u001b[43mforward_call\u001b[49m\u001b[43m(\u001b[49m\u001b[38;5;241;43m*\u001b[39;49m\u001b[43margs\u001b[49m\u001b[43m,\u001b[49m\u001b[43m \u001b[49m\u001b[38;5;241;43m*\u001b[39;49m\u001b[38;5;241;43m*\u001b[39;49m\u001b[43mkwargs\u001b[49m\u001b[43m)\u001b[49m\n\u001b[0;32m   1564\u001b[0m \u001b[38;5;28;01mtry\u001b[39;00m:\n\u001b[0;32m   1565\u001b[0m     result \u001b[38;5;241m=\u001b[39m \u001b[38;5;28;01mNone\u001b[39;00m\n",
            "File \u001b[1;32mc:\\Users\\damia\\Desktop\\Università\\Usi\\First Semester\\Deep Learning Lab\\.venv\\Lib\\site-packages\\torch\\nn\\modules\\loss.py:621\u001b[0m, in \u001b[0;36mBCELoss.forward\u001b[1;34m(self, input, target)\u001b[0m\n\u001b[0;32m    620\u001b[0m \u001b[38;5;28;01mdef\u001b[39;00m \u001b[38;5;21mforward\u001b[39m(\u001b[38;5;28mself\u001b[39m, \u001b[38;5;28minput\u001b[39m: Tensor, target: Tensor) \u001b[38;5;241m-\u001b[39m\u001b[38;5;241m>\u001b[39m Tensor:\n\u001b[1;32m--> 621\u001b[0m     \u001b[38;5;28;01mreturn\u001b[39;00m \u001b[43mF\u001b[49m\u001b[38;5;241;43m.\u001b[39;49m\u001b[43mbinary_cross_entropy\u001b[49m\u001b[43m(\u001b[49m\u001b[38;5;28;43minput\u001b[39;49m\u001b[43m,\u001b[49m\u001b[43m \u001b[49m\u001b[43mtarget\u001b[49m\u001b[43m,\u001b[49m\u001b[43m \u001b[49m\u001b[43mweight\u001b[49m\u001b[38;5;241;43m=\u001b[39;49m\u001b[38;5;28;43mself\u001b[39;49m\u001b[38;5;241;43m.\u001b[39;49m\u001b[43mweight\u001b[49m\u001b[43m,\u001b[49m\u001b[43m \u001b[49m\u001b[43mreduction\u001b[49m\u001b[38;5;241;43m=\u001b[39;49m\u001b[38;5;28;43mself\u001b[39;49m\u001b[38;5;241;43m.\u001b[39;49m\u001b[43mreduction\u001b[49m\u001b[43m)\u001b[49m\n",
            "File \u001b[1;32mc:\\Users\\damia\\Desktop\\Università\\Usi\\First Semester\\Deep Learning Lab\\.venv\\Lib\\site-packages\\torch\\nn\\functional.py:3163\u001b[0m, in \u001b[0;36mbinary_cross_entropy\u001b[1;34m(input, target, weight, size_average, reduce, reduction)\u001b[0m\n\u001b[0;32m   3161\u001b[0m     reduction_enum \u001b[38;5;241m=\u001b[39m _Reduction\u001b[38;5;241m.\u001b[39mget_enum(reduction)\n\u001b[0;32m   3162\u001b[0m \u001b[38;5;28;01mif\u001b[39;00m target\u001b[38;5;241m.\u001b[39msize() \u001b[38;5;241m!=\u001b[39m \u001b[38;5;28minput\u001b[39m\u001b[38;5;241m.\u001b[39msize():\n\u001b[1;32m-> 3163\u001b[0m     \u001b[38;5;28;01mraise\u001b[39;00m \u001b[38;5;167;01mValueError\u001b[39;00m(\n\u001b[0;32m   3164\u001b[0m         \u001b[38;5;124mf\u001b[39m\u001b[38;5;124m\"\u001b[39m\u001b[38;5;124mUsing a target size (\u001b[39m\u001b[38;5;132;01m{\u001b[39;00mtarget\u001b[38;5;241m.\u001b[39msize()\u001b[38;5;132;01m}\u001b[39;00m\u001b[38;5;124m) that is different to the input size (\u001b[39m\u001b[38;5;132;01m{\u001b[39;00m\u001b[38;5;28minput\u001b[39m\u001b[38;5;241m.\u001b[39msize()\u001b[38;5;132;01m}\u001b[39;00m\u001b[38;5;124m) is deprecated. \u001b[39m\u001b[38;5;124m\"\u001b[39m\n\u001b[0;32m   3165\u001b[0m         \u001b[38;5;124m\"\u001b[39m\u001b[38;5;124mPlease ensure they have the same size.\u001b[39m\u001b[38;5;124m\"\u001b[39m\n\u001b[0;32m   3166\u001b[0m     )\n\u001b[0;32m   3168\u001b[0m \u001b[38;5;28;01mif\u001b[39;00m weight \u001b[38;5;129;01mis\u001b[39;00m \u001b[38;5;129;01mnot\u001b[39;00m \u001b[38;5;28;01mNone\u001b[39;00m:\n\u001b[0;32m   3169\u001b[0m     new_size \u001b[38;5;241m=\u001b[39m _infer_size(target\u001b[38;5;241m.\u001b[39msize(), weight\u001b[38;5;241m.\u001b[39msize())\n",
            "\u001b[1;31mValueError\u001b[0m: Using a target size (torch.Size([64])) that is different to the input size (torch.Size([64, 1])) is deprecated. Please ensure they have the same size."
          ]
        }
      ],
      "source": [
        "for epoch in range(num_epochs):\n",
        "    for data, target in trainloader:\n",
        "        model.train()\n",
        "        data, target = data.to(DEVICE), target.to(DEVICE)\n",
        "        data = data.reshape(-1, input_dime)\n",
        "        target = target.float().unsqueeze(1)  # Ensure target size matches output size\n",
        "        \n",
        "        optimizer.zero_grad()\n",
        "        output = model(data)\n",
        "        loss = loss_fn(output, target)\n",
        "        loss.backward()\n",
        "        optimizer.step()\n",
        "        train_loss = loss.item()\n",
        "    train_loss_list.append(train_loss)\n",
        "\n",
        "    # Validation loop\n",
        "    model.eval()\n",
        "    validation_losses = []\n",
        "    with torch.no_grad():\n",
        "        for data, target in validloader:\n",
        "            data, target = data.to(DEVICE), target.to(DEVICE)\n",
        "            data = data.reshape(-1, input_dime)\n",
        "            target = target.float().unsqueeze(1)  # Ensure target size matches output size\n",
        "            output = model(data)\n",
        "            val_loss = loss_fn(output, target).item()\n",
        "            validation_losses.append(val_loss)\n",
        "            \n",
        "    validation_loss = sum(validation_losses) / len(validation_losses)\n",
        "    valid_loss_list.append(validation_loss)\n",
        "    print(f\"Epoch {epoch + 1}: Train loss: {train_loss:.4f}, Validation loss: {validation_loss:.4f}\")\n",
        "\n",
        "# Get all predictions and targets\n",
        "model.eval()\n",
        "with torch.no_grad():\n",
        "    n_correct = 0\n",
        "    n_samples = 0\n",
        "    for data, target in testloader:\n",
        "        data, target = data.to(DEVICE), target.to(DEVICE)\n",
        "        data = data.reshape(-1, input_dime)\n",
        "        target = target.float().unsqueeze(1)  # Ensure target size matches output size\n",
        "        outputs = model(data)\n",
        "        predicted = (outputs >= 0.5).float()\n",
        "        n_samples += target.size(0)\n",
        "        n_correct += (predicted == target).sum().item()\n",
        "    acc = 100.0 * n_correct / n_samples\n",
        "print(\"Accuracy on the test set:\", acc, \"%\")\n"
      ]
    },
    {
      "cell_type": "markdown",
      "metadata": {
        "id": "w2u6ELJpF-1O"
      },
      "source": [
        "# Results"
      ]
    },
    {
      "cell_type": "markdown",
      "metadata": {
        "id": "lTAGxV5bMA4b"
      },
      "source": [
        "### Plotting"
      ]
    },
    {
      "cell_type": "markdown",
      "metadata": {
        "id": "E5KnF__4LrGK"
      },
      "source": [
        "Plot out the training and validation losses over the epochs"
      ]
    },
    {
      "cell_type": "code",
      "execution_count": 55,
      "metadata": {
        "id": "t5ytQiecNIOC"
      },
      "outputs": [
        {
          "data": {
            "image/png": "[encoded data removed]",
            "text/plain": [
              "<Figure size 640x480 with 1 Axes>"
            ]
          },
          "metadata": {},
          "output_type": "display_data"
        }
      ],
      "source": [
        "plt.plot(range(num_epochs), train_loss_list, label='train')\n",
        "plt.plot(range(num_epochs), valid_loss_list, label='valid')\n",
        "plt.legend(loc=\"best\")\n",
        "plt.show()"
      ]
    },
    {
      "cell_type": "markdown",
      "metadata": {
        "id": "fPs9CwgJMLDq"
      },
      "source": [
        "### Metrics"
      ]
    },
    {
      "cell_type": "markdown",
      "metadata": {
        "id": "kAHRX5PgMOoZ"
      },
      "source": [
        "Print out appropriate metrics for the task"
      ]
    },
    {
      "cell_type": "code",
      "execution_count": 56,
      "metadata": {
        "id": "0K48qnVJ0b3s"
      },
      "outputs": [
        {
          "ename": "NameError",
          "evalue": "name 'all_predictions' is not defined",
          "output_type": "error",
          "traceback": [
            "\u001b[1;31m---------------------------------------------------------------------------\u001b[0m",
            "\u001b[1;31mNameError\u001b[0m                                 Traceback (most recent call last)",
            "Cell \u001b[1;32mIn[56], line 4\u001b[0m\n\u001b[0;32m      1\u001b[0m \u001b[38;5;28;01mfrom\u001b[39;00m \u001b[38;5;21;01msklearn\u001b[39;00m\u001b[38;5;21;01m.\u001b[39;00m\u001b[38;5;21;01mmetrics\u001b[39;00m \u001b[38;5;28;01mimport\u001b[39;00m accuracy_score, confusion_matrix, fbeta_score, classification_report\n\u001b[0;32m      3\u001b[0m \u001b[38;5;66;03m# Calculate evaluation metrics\u001b[39;00m\n\u001b[1;32m----> 4\u001b[0m accuracy \u001b[38;5;241m=\u001b[39m (\u001b[43mall_predictions\u001b[49m \u001b[38;5;241m==\u001b[39m all_targets)\u001b[38;5;241m.\u001b[39mfloat()\u001b[38;5;241m.\u001b[39mmean()\u001b[38;5;241m.\u001b[39mitem()\n\u001b[0;32m      5\u001b[0m conf_matrix \u001b[38;5;241m=\u001b[39m confusion_matrix(all_targets\u001b[38;5;241m.\u001b[39mcpu()\u001b[38;5;241m.\u001b[39mnumpy(), all_predictions\u001b[38;5;241m.\u001b[39mcpu()\u001b[38;5;241m.\u001b[39mnumpy())\n\u001b[0;32m      6\u001b[0m f1 \u001b[38;5;241m=\u001b[39m fbeta_score(all_targets\u001b[38;5;241m.\u001b[39mcpu()\u001b[38;5;241m.\u001b[39mnumpy(), all_predictions\u001b[38;5;241m.\u001b[39mcpu()\u001b[38;5;241m.\u001b[39mnumpy(), beta\u001b[38;5;241m=\u001b[39m\u001b[38;5;241m1\u001b[39m)\n",
            "\u001b[1;31mNameError\u001b[0m: name 'all_predictions' is not defined"
          ]
        }
      ],
      "source": [
        "from sklearn.metrics import accuracy_score, confusion_matrix, fbeta_score, classification_report\n",
        "\n",
        "# Calculate evaluation metrics\n",
        "accuracy = (all_predictions == all_targets).float().mean().item()\n",
        "conf_matrix = confusion_matrix(all_targets.cpu().numpy(), all_predictions.cpu().numpy())\n",
        "f1 = fbeta_score(all_targets.cpu().numpy(), all_predictions.cpu().numpy(), beta=1)\n",
        "f2 = fbeta_score(all_targets.cpu().numpy(), all_predictions.cpu().numpy(), beta=2)\n",
        "\n",
        "# Print results\n",
        "print(\"\\nModel Evaluation Metrics:\")\n",
        "print(f\"Test set: Average loss: {test_loss:.4f}\")\n",
        "print(f\"Accuracy: {accuracy:.4f}\")\n",
        "print(f\"F1 Score: {f1:.4f}\")\n",
        "print(f\"F2 Score: {f2:.4f}\")\n",
        "\n",
        "print(\"\\nConfusion Matrix:\")\n",
        "print(conf_matrix)\n",
        "\n",
        "print(\"\\nDetailed Classification Report:\")\n",
        "print(classification_report(all_targets.cpu().numpy(), all_predictions.cpu().numpy()))\n",
        "\n",
        "# Additional metrics from confusion matrix\n",
        "tn, fp, fn, tp = conf_matrix.ravel()\n",
        "sensitivity = tp / (tp + fn)  # Recall\n",
        "specificity = tn / (tn + fp)\n",
        "precision = tp / (tp + fp)\n",
        "\n",
        "print(\"\\nAdditional Metrics:\")\n",
        "print(f\"Sensitivity (Recall): {sensitivity:.4f}\")\n",
        "print(f\"Specificity: {specificity:.4f}\")\n",
        "print(f\"Precision: {precision:.4f}\")\n"
      ]
    },
    {
      "cell_type": "code",
      "execution_count": 709,
      "metadata": {
        "id": "tc8Ffd5nC5cM"
      },
      "outputs": [],
      "source": [
        "# wrong_predictions = # OPTIONAL TODO"
      ]
    },
    {
      "cell_type": "markdown",
      "metadata": {
        "id": "3VpmU6TtKVYy"
      },
      "source": [
        "  Did you manage to catch them all?"
      ]
    },
    {
      "cell_type": "markdown",
      "metadata": {
        "id": "_gt2ycYdqGk-"
      },
      "source": [
        "______________________________________________________________________________\n",
        "\n",
        "This notebook is largely inspired (with some improvements and updates) by a video featured on [Data Every Day](https://www.youtube.com/watch?v=3Fr1npNxkJk)."
      ]
    }
  ],
  "metadata": {
    "accelerator": "GPU",
    "colab": {
      "gpuType": "T4",
      "provenance": [],
      "toc_visible": true
    },
    "kernelspec": {
      "display_name": ".venv",
      "language": "python",
      "name": "python3"
    },
    "language_info": {
      "codemirror_mode": {
        "name": "ipython",
        "version": 3
      },
      "file_extension": ".py",
      "mimetype": "text/x-python",
      "name": "python",
      "nbconvert_exporter": "python",
      "pygments_lexer": "ipython3",
      "version": "3.12.4"
    }
  },
  "nbformat": 4,
  "nbformat_minor": 0
}
