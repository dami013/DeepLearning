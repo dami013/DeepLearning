{
  "metadata": {
    "kernelspec": {
      "display_name": "Python 3",
      "name": "python3"
    },
    "language_info": {
      "name": "python",
      "version": "3.7.6",
      "mimetype": "text/x-python",
      "codemirror_mode": {
        "name": "ipython",
        "version": 3
      },
      "pygments_lexer": "ipython3",
      "nbconvert_exporter": "python",
      "file_extension": ".py"
    },
    "colab": {
      "provenance": [],
      "gpuType": "T4",
      "toc_visible": true
    },
    "accelerator": "GPU"
  },
  "nbformat_minor": 0,
  "nbformat": 4,
  "cells": [
    {
      "cell_type": "markdown",
      "source": [
        "# Task for Today  \n",
        "\n",
        "***\n",
        "\n",
        "## Legendary Pokémon Classification  \n",
        "\n",
        "Use a FeedForward Neural Network to predict if a given Pokémon is **legendary** or not, based on *Pokémon features*.\n",
        "\n",
        "\n",
        "<img src=\"https://wallpapers.com/images/hd/legendary-pokemon-pictures-7yo7x0f1l2b2tu0r.jpg\" width=\"800\" height=\"500\" alt=\"legendaries\">\n",
        "\n",
        "Data available at: https://github.com/Vaeliss/Pokemon_challenge/blob/main/pokemon.csv\n",
        "\n",
        "Download the `pokemon.csv` file and put it in the file section of Colab."
      ],
      "metadata": {
        "id": "ZzbFUbueF-1I"
      }
    },
    {
      "cell_type": "markdown",
      "source": [
        "# Challenge\n",
        "\n",
        "TAs want to battle!\n",
        "\n",
        "<img src=\"https://pokemongohub.net/wp-content/uploads/2023/06/grunts-1.jpg\" width=\"400\" height=\"300\" alt=\"TAs\">\n",
        "\n",
        "Rules of the challenge:\n",
        "\n",
        "- Gotta catch 'em all! ...But give priority to the legendaries.\n",
        "- F1-score is usually the measure of choice for imbalanced datasets; however in this case we particularly want to avoid not \"catching\" legendaries. They're so rare, you might not have any more chances to catch 'em if they flee...\n",
        "- In ML terms, we give recall more importance than precision for the task (check the whiteboard if you don't know their meaning).\n",
        "- F2-score (i.e., [F-$\\beta$-score](https://scikit-learn.org/stable/modules/generated/sklearn.metrics.fbeta_score.html) with $\\beta = 2$) is hence used as the main evaluation metric for your model.\n",
        "\n",
        "- **TAs achieved a F2-score of 0.80. Can you beat them?!**"
      ],
      "metadata": {
        "id": "xq0moBocV6gU"
      }
    },
    {
      "cell_type": "markdown",
      "source": [
        "# Imports and dataset"
      ],
      "metadata": {
        "id": "4u8Vl29CF-1J"
      }
    },
    {
      "cell_type": "code",
      "source": [
        "import numpy as np\n",
        "import pandas as pd\n",
        "import matplotlib.pyplot as plt\n",
        "\n",
        "from sklearn.preprocessing import LabelEncoder, StandardScaler\n",
        "from sklearn.model_selection import train_test_split\n",
        "\n",
        "import torch\n",
        "from torch import nn\n",
        "import torch.optim as optim"
      ],
      "metadata": {
        "_uuid": "d629ff2d2480ee46fbb7e2d37f6b5fab8052498a",
        "_cell_guid": "79c7e3d0-c299-4dcb-8224-4455121ee9b0",
        "execution": {
          "iopub.status.busy": "2023-10-10T14:53:17.491233Z",
          "iopub.execute_input": "2023-10-10T14:53:17.491581Z",
          "iopub.status.idle": "2023-10-10T14:53:26.820229Z",
          "shell.execute_reply.started": "2023-10-10T14:53:17.491549Z",
          "shell.execute_reply": "2023-10-10T14:53:26.818905Z"
        },
        "trusted": true,
        "id": "DQ8jq20NF-1K"
      },
      "execution_count": null,
      "outputs": []
    },
    {
      "cell_type": "code",
      "source": [
        "_ = torch.manual_seed(42) # for a fair comparison, don't change the seed!"
      ],
      "metadata": {
        "id": "kYbH9SzNrbeP"
      },
      "execution_count": null,
      "outputs": []
    },
    {
      "cell_type": "code",
      "source": [
        "data = pd.read_csv('pokemon.csv')"
      ],
      "metadata": {
        "execution": {
          "iopub.status.busy": "2023-10-09T10:03:59.333013Z",
          "iopub.execute_input": "2023-10-09T10:03:59.333403Z",
          "iopub.status.idle": "2023-10-09T10:03:59.370972Z",
          "shell.execute_reply.started": "2023-10-09T10:03:59.333344Z",
          "shell.execute_reply": "2023-10-09T10:03:59.369989Z"
        },
        "trusted": true,
        "id": "OkMbLcx_F-1L"
      },
      "execution_count": null,
      "outputs": []
    },
    {
      "cell_type": "code",
      "source": [
        "data"
      ],
      "metadata": {
        "execution": {
          "iopub.status.busy": "2023-10-09T10:04:00.050779Z",
          "iopub.execute_input": "2023-10-09T10:04:00.051352Z",
          "iopub.status.idle": "2023-10-09T10:04:00.235069Z",
          "shell.execute_reply.started": "2023-10-09T10:04:00.051296Z",
          "shell.execute_reply": "2023-10-09T10:04:00.234085Z"
        },
        "trusted": true,
        "id": "1cIpYa1HF-1L"
      },
      "execution_count": null,
      "outputs": []
    },
    {
      "cell_type": "code",
      "source": [
        "data_raw = data.copy() # usually, if memory allows it, it's a good idea to keep a raw version of your data"
      ],
      "metadata": {
        "execution": {
          "iopub.status.busy": "2023-10-09T10:04:03.140438Z",
          "iopub.execute_input": "2023-10-09T10:04:03.140795Z",
          "iopub.status.idle": "2023-10-09T10:04:03.145967Z",
          "shell.execute_reply.started": "2023-10-09T10:04:03.140766Z",
          "shell.execute_reply": "2023-10-09T10:04:03.144877Z"
        },
        "trusted": true,
        "id": "4xuE8RS0F-1L"
      },
      "execution_count": null,
      "outputs": []
    },
    {
      "cell_type": "markdown",
      "source": [
        "# Pre-processing / encoding"
      ],
      "metadata": {
        "id": "pW9qbuLEF-1L"
      }
    },
    {
      "cell_type": "code",
      "source": [
        "data.info()"
      ],
      "metadata": {
        "execution": {
          "iopub.status.busy": "2023-10-09T10:04:04.633636Z",
          "iopub.execute_input": "2023-10-09T10:04:04.634264Z",
          "iopub.status.idle": "2023-10-09T10:04:04.650997Z",
          "shell.execute_reply.started": "2023-10-09T10:04:04.634221Z",
          "shell.execute_reply": "2023-10-09T10:04:04.649508Z"
        },
        "trusted": true,
        "id": "otv7GlCxF-1L"
      },
      "execution_count": null,
      "outputs": []
    },
    {
      "cell_type": "code",
      "source": [
        "data.isna().sum()"
      ],
      "metadata": {
        "execution": {
          "iopub.status.busy": "2023-10-09T10:04:05.073162Z",
          "iopub.execute_input": "2023-10-09T10:04:05.073708Z",
          "iopub.status.idle": "2023-10-09T10:04:05.081791Z",
          "shell.execute_reply.started": "2023-10-09T10:04:05.073676Z",
          "shell.execute_reply": "2023-10-09T10:04:05.080673Z"
        },
        "trusted": true,
        "id": "RjZqyB6bF-1L"
      },
      "execution_count": null,
      "outputs": []
    },
    {
      "cell_type": "code",
      "source": [
        "data = data.drop(['dexnum', 'name', 'type2'], axis=1)\n",
        "# dropping type 2 is actually a debeatable step, it may provide useful information\n",
        "# data = data.drop([\"#\", \"Name\"], axis=1)"
      ],
      "metadata": {
        "execution": {
          "iopub.status.busy": "2023-10-09T10:04:05.732052Z",
          "iopub.execute_input": "2023-10-09T10:04:05.732577Z",
          "iopub.status.idle": "2023-10-09T10:04:05.737607Z",
          "shell.execute_reply.started": "2023-10-09T10:04:05.732545Z",
          "shell.execute_reply": "2023-10-09T10:04:05.736726Z"
        },
        "trusted": true,
        "id": "4whGrOvSF-1L"
      },
      "execution_count": null,
      "outputs": []
    },
    {
      "cell_type": "code",
      "source": [
        "data['legendary'] = data['legendary'].astype(int)\n",
        "data['generation'] = data['generation'].astype(str)"
      ],
      "metadata": {
        "execution": {
          "iopub.status.busy": "2023-10-09T10:04:17.132078Z",
          "iopub.execute_input": "2023-10-09T10:04:17.132717Z",
          "iopub.status.idle": "2023-10-09T10:04:17.137572Z",
          "shell.execute_reply.started": "2023-10-09T10:04:17.132680Z",
          "shell.execute_reply": "2023-10-09T10:04:17.136616Z"
        },
        "trusted": true,
        "id": "ZabDJRZaF-1M"
      },
      "execution_count": null,
      "outputs": []
    },
    {
      "cell_type": "code",
      "source": [
        "data.dtypes"
      ],
      "metadata": {
        "execution": {
          "iopub.status.busy": "2023-10-09T10:04:25.424830Z",
          "iopub.execute_input": "2023-10-09T10:04:25.425522Z",
          "iopub.status.idle": "2023-10-09T10:04:25.433340Z",
          "shell.execute_reply.started": "2023-10-09T10:04:25.425473Z",
          "shell.execute_reply": "2023-10-09T10:04:25.432589Z"
        },
        "trusted": true,
        "id": "bqVbYkL3F-1M"
      },
      "execution_count": null,
      "outputs": []
    },
    {
      "cell_type": "markdown",
      "source": [
        "Categorical variables are one-hot encoded"
      ],
      "metadata": {
        "id": "j4DN8agr8Wp_"
      }
    },
    {
      "cell_type": "code",
      "source": [
        "def onehot_encode(df, column, prefix):\n",
        "    df = df.copy()\n",
        "    dummies = pd.get_dummies(df[column], prefix=prefix)\n",
        "    df = pd.concat([df, dummies], axis=1)\n",
        "    df = df.drop(column, axis=1)\n",
        "    return df"
      ],
      "metadata": {
        "execution": {
          "iopub.status.busy": "2023-10-09T10:04:27.609285Z",
          "iopub.execute_input": "2023-10-09T10:04:27.609994Z",
          "iopub.status.idle": "2023-10-09T10:04:27.616135Z",
          "shell.execute_reply.started": "2023-10-09T10:04:27.609945Z",
          "shell.execute_reply": "2023-10-09T10:04:27.615476Z"
        },
        "trusted": true,
        "id": "FCvblzRqF-1M"
      },
      "execution_count": null,
      "outputs": []
    },
    {
      "cell_type": "code",
      "source": [
        "data = onehot_encode(data, 'type1', 't')\n",
        "data = onehot_encode(data, 'generation', 'g')"
      ],
      "metadata": {
        "execution": {
          "iopub.status.busy": "2023-10-09T10:04:27.940418Z",
          "iopub.execute_input": "2023-10-09T10:04:27.941093Z",
          "iopub.status.idle": "2023-10-09T10:04:27.950841Z",
          "shell.execute_reply.started": "2023-10-09T10:04:27.941046Z",
          "shell.execute_reply": "2023-10-09T10:04:27.949833Z"
        },
        "trusted": true,
        "id": "IOOSfBXJF-1N"
      },
      "execution_count": null,
      "outputs": []
    },
    {
      "cell_type": "code",
      "source": [
        "data.shape"
      ],
      "metadata": {
        "execution": {
          "iopub.status.busy": "2023-10-09T10:04:28.321000Z",
          "iopub.execute_input": "2023-10-09T10:04:28.321322Z",
          "iopub.status.idle": "2023-10-09T10:04:28.345828Z",
          "shell.execute_reply.started": "2023-10-09T10:04:28.321293Z",
          "shell.execute_reply": "2023-10-09T10:04:28.344806Z"
        },
        "trusted": true,
        "id": "lJmDYSiwF-1N"
      },
      "execution_count": null,
      "outputs": []
    },
    {
      "cell_type": "markdown",
      "source": [
        "## Splitting and Scaling"
      ],
      "metadata": {
        "id": "30niefA6F-1N"
      }
    },
    {
      "cell_type": "code",
      "source": [
        "data.columns # note that only the first 9 features are continuous now"
      ],
      "metadata": {
        "id": "a9N2nv8O8iKT"
      },
      "execution_count": null,
      "outputs": []
    },
    {
      "cell_type": "code",
      "source": [
        "y = data['legendary']\n",
        "X = data.drop('legendary', axis=1)"
      ],
      "metadata": {
        "execution": {
          "iopub.status.busy": "2023-10-09T10:04:36.261494Z",
          "iopub.execute_input": "2023-10-09T10:04:36.262122Z",
          "iopub.status.idle": "2023-10-09T10:04:36.269171Z",
          "shell.execute_reply.started": "2023-10-09T10:04:36.262071Z",
          "shell.execute_reply": "2023-10-09T10:04:36.268451Z"
        },
        "trusted": true,
        "id": "KR-yDxraF-1N"
      },
      "execution_count": null,
      "outputs": []
    },
    {
      "cell_type": "code",
      "source": [
        "scaler = StandardScaler()\n",
        "\n",
        "X_scaled = scaler.fit_transform(X.iloc[:,:9])\n",
        "X = np.concatenate((X_scaled, np.array(X.iloc[:,9:])), axis=1)"
      ],
      "metadata": {
        "execution": {
          "iopub.status.busy": "2023-10-09T10:04:37.531465Z",
          "iopub.execute_input": "2023-10-09T10:04:37.532104Z",
          "iopub.status.idle": "2023-10-09T10:04:37.542125Z",
          "shell.execute_reply.started": "2023-10-09T10:04:37.532051Z",
          "shell.execute_reply": "2023-10-09T10:04:37.541465Z"
        },
        "trusted": true,
        "id": "y14BFzZyF-1N"
      },
      "execution_count": null,
      "outputs": []
    },
    {
      "cell_type": "code",
      "source": [
        "# keep the proportions for the split equal and specify a seed of 42, we want a fair fight!\n",
        "# Note: end split should be 0.60,0.20,0.20 for train,valid,test\n",
        "\n",
        "train_size = 0.6\n",
        "valid_size = 0.4\n",
        "test_size = 0.5\n",
        "X_train, X_test, y_train, y_test = # TODO\n",
        "X_valid, X_test, y_valid, y_test = # TODO"
      ],
      "metadata": {
        "execution": {
          "iopub.status.busy": "2023-10-09T10:04:40.091562Z",
          "iopub.execute_input": "2023-10-09T10:04:40.092048Z",
          "iopub.status.idle": "2023-10-09T10:04:40.097770Z",
          "shell.execute_reply.started": "2023-10-09T10:04:40.092017Z",
          "shell.execute_reply": "2023-10-09T10:04:40.096980Z"
        },
        "trusted": true,
        "id": "XyY5f5BxF-1N"
      },
      "execution_count": null,
      "outputs": []
    },
    {
      "cell_type": "markdown",
      "source": [
        "# Model definition"
      ],
      "metadata": {
        "id": "SeI7sgXRF-1N"
      }
    },
    {
      "cell_type": "code",
      "source": [
        "device = # TODO\n",
        "print(f\"Using {device} device\")"
      ],
      "metadata": {
        "execution": {
          "iopub.status.busy": "2023-10-09T10:04:41.289646Z",
          "iopub.execute_input": "2023-10-09T10:04:41.290174Z",
          "iopub.status.idle": "2023-10-09T10:04:41.296775Z",
          "shell.execute_reply.started": "2023-10-09T10:04:41.290135Z",
          "shell.execute_reply": "2023-10-09T10:04:41.295898Z"
        },
        "trusted": true,
        "id": "eYpu0pOIF-1N"
      },
      "execution_count": null,
      "outputs": []
    },
    {
      "cell_type": "markdown",
      "source": [
        "### Define your model :"
      ],
      "metadata": {
        "id": "V6VZp4IQ9IpG"
      }
    },
    {
      "cell_type": "markdown",
      "source": [
        "Choose yourself in the model:\n",
        "- number of hidden layers\n",
        "- number of neurons per layer (careful with input and output, these are not a choice)\n",
        "- activation functions\n",
        "- any other possible component among those seen so far in theory."
      ],
      "metadata": {
        "id": "hnt0qXDZ_29X"
      }
    },
    {
      "cell_type": "code",
      "source": [
        "# TODO"
      ],
      "metadata": {
        "execution": {
          "iopub.status.busy": "2023-10-09T10:04:42.309954Z",
          "iopub.execute_input": "2023-10-09T10:04:42.310280Z",
          "iopub.status.idle": "2023-10-09T10:04:42.317352Z",
          "shell.execute_reply.started": "2023-10-09T10:04:42.310252Z",
          "shell.execute_reply": "2023-10-09T10:04:42.316057Z"
        },
        "trusted": true,
        "id": "2x2t4rEtF-1N"
      },
      "execution_count": null,
      "outputs": []
    },
    {
      "cell_type": "markdown",
      "source": [
        "Instantiate your model and print it out"
      ],
      "metadata": {
        "id": "_QhXrIWerKfU"
      }
    },
    {
      "cell_type": "code",
      "source": [
        "# TODO"
      ],
      "metadata": {
        "execution": {
          "iopub.status.busy": "2023-10-09T10:04:49.934535Z",
          "iopub.execute_input": "2023-10-09T10:04:49.934880Z",
          "iopub.status.idle": "2023-10-09T10:04:49.962352Z",
          "shell.execute_reply.started": "2023-10-09T10:04:49.934850Z",
          "shell.execute_reply": "2023-10-09T10:04:49.961502Z"
        },
        "trusted": true,
        "id": "E9ivUgk_F-1N"
      },
      "execution_count": null,
      "outputs": []
    },
    {
      "cell_type": "markdown",
      "source": [
        "### Hyperparameters:"
      ],
      "metadata": {
        "id": "sXCiwbQd_T-2"
      }
    },
    {
      "cell_type": "markdown",
      "source": [
        "Choose carefully your:\n",
        "- learning rate (this is usually the most important hyperparameter to get right, but some optimizers are more forgiving than others)\n",
        "- batch size\n",
        "- number of epochs.\n",
        "- other hyperparameters that you might need"
      ],
      "metadata": {
        "id": "L-1fTWhB_9HB"
      }
    },
    {
      "cell_type": "code",
      "source": [
        "# TODO"
      ],
      "metadata": {
        "execution": {
          "iopub.status.busy": "2023-10-09T10:04:57.405999Z",
          "iopub.execute_input": "2023-10-09T10:04:57.406348Z",
          "iopub.status.idle": "2023-10-09T10:04:57.410729Z",
          "shell.execute_reply.started": "2023-10-09T10:04:57.406319Z",
          "shell.execute_reply": "2023-10-09T10:04:57.409643Z"
        },
        "trusted": true,
        "id": "GFumcDhCF-1N"
      },
      "execution_count": null,
      "outputs": []
    },
    {
      "cell_type": "markdown",
      "source": [
        "### Loss function and optimizer:"
      ],
      "metadata": {
        "id": "M9LK0StY_kyS"
      }
    },
    {
      "cell_type": "markdown",
      "source": [
        "- What's the appropriate loss function for the task?\n",
        "- Decide which optimizer you want to use ([Documentation](https://pytorch.org/docs/stable/optim.html))"
      ],
      "metadata": {
        "id": "KvHQnWrmABgx"
      }
    },
    {
      "cell_type": "code",
      "source": [
        "# TODO"
      ],
      "metadata": {
        "execution": {
          "iopub.status.busy": "2023-10-09T10:04:59.179191Z",
          "iopub.execute_input": "2023-10-09T10:04:59.179553Z",
          "iopub.status.idle": "2023-10-09T10:04:59.185130Z",
          "shell.execute_reply.started": "2023-10-09T10:04:59.179521Z",
          "shell.execute_reply": "2023-10-09T10:04:59.183865Z"
        },
        "trusted": true,
        "id": "hFYvvA8GF-1N"
      },
      "execution_count": null,
      "outputs": []
    },
    {
      "cell_type": "markdown",
      "source": [
        "Define your TensorDatasets and DataLoaders; remember to use the appropriate dtype for your tensors."
      ],
      "metadata": {
        "id": "ra1bhn_A_tTj"
      }
    },
    {
      "cell_type": "code",
      "source": [
        "# TODO"
      ],
      "metadata": {
        "execution": {
          "iopub.status.busy": "2023-10-09T10:12:27.545708Z",
          "iopub.execute_input": "2023-10-09T10:12:27.546392Z",
          "iopub.status.idle": "2023-10-09T10:12:27.555392Z",
          "shell.execute_reply.started": "2023-10-09T10:12:27.546321Z",
          "shell.execute_reply": "2023-10-09T10:12:27.554394Z"
        },
        "trusted": true,
        "id": "LVpU6mGsF-1O"
      },
      "execution_count": null,
      "outputs": []
    },
    {
      "cell_type": "code",
      "source": [
        "# Keep track of training and validation losses during training\n",
        "\n",
        "train_loss_list = []\n",
        "valid_loss_list = []\n",
        "\n",
        "train_length = len(trainloader)\n",
        "valid_length = len(validloader)"
      ],
      "metadata": {
        "id": "ceHoIeQst3mA"
      },
      "execution_count": null,
      "outputs": []
    },
    {
      "cell_type": "markdown",
      "source": [
        "# Training"
      ],
      "metadata": {
        "id": "cKeqhHEiOs-6"
      }
    },
    {
      "cell_type": "markdown",
      "source": [
        "Implement your training and evaluation (for the validation set) loops"
      ],
      "metadata": {
        "id": "2KUEZoR_O2ra"
      }
    },
    {
      "cell_type": "code",
      "source": [
        "# TODO"
      ],
      "metadata": {
        "trusted": true,
        "id": "EqK5jG1NF-1O"
      },
      "execution_count": null,
      "outputs": []
    },
    {
      "cell_type": "markdown",
      "source": [
        "# Results"
      ],
      "metadata": {
        "id": "w2u6ELJpF-1O"
      }
    },
    {
      "cell_type": "markdown",
      "source": [
        "### Plotting"
      ],
      "metadata": {
        "id": "lTAGxV5bMA4b"
      }
    },
    {
      "cell_type": "markdown",
      "source": [
        "Plot out the training and validation losses over the epochs"
      ],
      "metadata": {
        "id": "E5KnF__4LrGK"
      }
    },
    {
      "cell_type": "code",
      "source": [
        "plt.plot( ... , label='train') # TODO\n",
        "plt.plot( ... , label='valid') # TODO\n",
        "plt.legend(loc=\"best\")\n",
        "plt.grid(\"on\")\n",
        "plt.show()"
      ],
      "metadata": {
        "id": "t5ytQiecNIOC"
      },
      "execution_count": null,
      "outputs": []
    },
    {
      "cell_type": "markdown",
      "source": [
        "### Metrics"
      ],
      "metadata": {
        "id": "fPs9CwgJMLDq"
      }
    },
    {
      "cell_type": "markdown",
      "source": [
        "Print out appropriate metrics for the task"
      ],
      "metadata": {
        "id": "kAHRX5PgMOoZ"
      }
    },
    {
      "cell_type": "code",
      "source": [
        "from sklearn.metrics import accuracy_score, confusion_matrix, fbeta_score, classification_report\n",
        "\n",
        "# TODO"
      ],
      "metadata": {
        "id": "0K48qnVJ0b3s"
      },
      "execution_count": null,
      "outputs": []
    },
    {
      "cell_type": "code",
      "source": [
        "wrong_predictions = # OPTIONAL TODO"
      ],
      "metadata": {
        "id": "tc8Ffd5nC5cM"
      },
      "execution_count": null,
      "outputs": []
    },
    {
      "cell_type": "markdown",
      "source": [
        "  Did you manage to catch them all?"
      ],
      "metadata": {
        "id": "3VpmU6TtKVYy"
      }
    },
    {
      "cell_type": "markdown",
      "source": [
        "______________________________________________________________________________\n",
        "\n",
        "This notebook is largely inspired (with some improvements and updates) by a video featured on [Data Every Day](https://www.youtube.com/watch?v=3Fr1npNxkJk)."
      ],
      "metadata": {
        "id": "_gt2ycYdqGk-"
      }
    }
  ]
}