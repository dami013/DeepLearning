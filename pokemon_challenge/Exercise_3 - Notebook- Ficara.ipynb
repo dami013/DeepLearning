{
  "cells": [
    {
      "cell_type": "markdown",
      "metadata": {
        "id": "ZzbFUbueF-1I"
      },
      "source": [
        "# Task for Today  \n",
        "\n",
        "***\n",
        "\n",
        "## Legendary Pokémon Classification  \n",
        "\n",
        "Use a FeedForward Neural Network to predict if a given Pokémon is **legendary** or not, based on *Pokémon features*.\n",
        "\n",
        "\n",
        "<img src=\"https://wallpapers.com/images/hd/legendary-pokemon-pictures-7yo7x0f1l2b2tu0r.jpg\" width=\"800\" height=\"500\" alt=\"legendaries\">\n",
        "\n",
        "Data available at: https://github.com/Vaeliss/Pokemon_challenge/blob/main/pokemon.csv\n",
        "\n",
        "Download the `pokemon.csv` file and put it in the file section of Colab."
      ]
    },
    {
      "cell_type": "markdown",
      "metadata": {
        "id": "xq0moBocV6gU"
      },
      "source": [
        "# Challenge\n",
        "\n",
        "TAs want to battle!\n",
        "\n",
        "<img src=\"https://pokemongohub.net/wp-content/uploads/2023/06/grunts-1.jpg\" width=\"400\" height=\"300\" alt=\"TAs\">\n",
        "\n",
        "Rules of the challenge:\n",
        "\n",
        "- Gotta catch 'em all! ...But give priority to the legendaries.\n",
        "- F1-score is usually the measure of choice for imbalanced datasets; however in this case we particularly want to avoid not \"catching\" legendaries. They're so rare, you might not have any more chances to catch 'em if they flee...\n",
        "- In ML terms, we give recall more importance than precision for the task (check the whiteboard if you don't know their meaning).\n",
        "- F2-score (i.e., [F-$\\beta$-score](https://scikit-learn.org/stable/modules/generated/sklearn.metrics.fbeta_score.html) with $\\beta = 2$) is hence used as the main evaluation metric for your model.\n",
        "\n",
        "- **TAs achieved a F2-score of 0.80. Can you beat them?!**"
      ]
    },
    {
      "cell_type": "markdown",
      "metadata": {
        "id": "4u8Vl29CF-1J"
      },
      "source": [
        "# Imports and dataset"
      ]
    },
    {
      "cell_type": "code",
      "execution_count": 91,
      "metadata": {
        "_cell_guid": "79c7e3d0-c299-4dcb-8224-4455121ee9b0",
        "_uuid": "d629ff2d2480ee46fbb7e2d37f6b5fab8052498a",
        "execution": {
          "iopub.execute_input": "2023-10-10T14:53:17.491581Z",
          "iopub.status.busy": "2023-10-10T14:53:17.491233Z",
          "iopub.status.idle": "2023-10-10T14:53:26.820229Z",
          "shell.execute_reply": "2023-10-10T14:53:26.818905Z",
          "shell.execute_reply.started": "2023-10-10T14:53:17.491549Z"
        },
        "id": "DQ8jq20NF-1K",
        "trusted": true
      },
      "outputs": [],
      "source": [
        "import numpy as np\n",
        "import pandas as pd\n",
        "import matplotlib.pyplot as plt\n",
        "\n",
        "from sklearn.preprocessing import LabelEncoder, StandardScaler\n",
        "from sklearn.model_selection import train_test_split\n",
        "\n",
        "import torch\n",
        "from torch import nn\n",
        "from torch.utils.data import TensorDataset, DataLoader\n",
        "import torch.optim as optim\n",
        "import copy"
      ]
    },
    {
      "cell_type": "code",
      "execution_count": 92,
      "metadata": {
        "id": "kYbH9SzNrbeP"
      },
      "outputs": [],
      "source": [
        "_ = torch.manual_seed(42) # for a fair comparison, don't change the seed!"
      ]
    },
    {
      "cell_type": "code",
      "execution_count": 93,
      "metadata": {
        "execution": {
          "iopub.execute_input": "2023-10-09T10:03:59.333403Z",
          "iopub.status.busy": "2023-10-09T10:03:59.333013Z",
          "iopub.status.idle": "2023-10-09T10:03:59.370972Z",
          "shell.execute_reply": "2023-10-09T10:03:59.369989Z",
          "shell.execute_reply.started": "2023-10-09T10:03:59.333344Z"
        },
        "id": "OkMbLcx_F-1L",
        "trusted": true
      },
      "outputs": [],
      "source": [
        "data = pd.read_csv('pokemon.csv')"
      ]
    },
    {
      "cell_type": "code",
      "execution_count": 94,
      "metadata": {
        "execution": {
          "iopub.execute_input": "2023-10-09T10:04:00.051352Z",
          "iopub.status.busy": "2023-10-09T10:04:00.050779Z",
          "iopub.status.idle": "2023-10-09T10:04:00.235069Z",
          "shell.execute_reply": "2023-10-09T10:04:00.234085Z",
          "shell.execute_reply.started": "2023-10-09T10:04:00.051296Z"
        },
        "id": "1cIpYa1HF-1L",
        "trusted": true
      },
      "outputs": [
        {
          "data": {
            "text/html": [
              "<div>\n",
              "<style scoped>\n",
              "    .dataframe tbody tr th:only-of-type {\n",
              "        vertical-align: middle;\n",
              "    }\n",
              "\n",
              "    .dataframe tbody tr th {\n",
              "        vertical-align: top;\n",
              "    }\n",
              "\n",
              "    .dataframe thead th {\n",
              "        text-align: right;\n",
              "    }\n",
              "</style>\n",
              "<table border=\"1\" class=\"dataframe\">\n",
              "  <thead>\n",
              "    <tr style=\"text-align: right;\">\n",
              "      <th></th>\n",
              "      <th>dexnum</th>\n",
              "      <th>name</th>\n",
              "      <th>generation</th>\n",
              "      <th>type1</th>\n",
              "      <th>type2</th>\n",
              "      <th>height</th>\n",
              "      <th>weight</th>\n",
              "      <th>hp</th>\n",
              "      <th>attack</th>\n",
              "      <th>defense</th>\n",
              "      <th>sp_atk</th>\n",
              "      <th>sp_def</th>\n",
              "      <th>speed</th>\n",
              "      <th>total</th>\n",
              "      <th>legendary</th>\n",
              "    </tr>\n",
              "  </thead>\n",
              "  <tbody>\n",
              "    <tr>\n",
              "      <th>0</th>\n",
              "      <td>1025</td>\n",
              "      <td>Pecharunt</td>\n",
              "      <td>9</td>\n",
              "      <td>Poison</td>\n",
              "      <td>Ghost</td>\n",
              "      <td>0.3</td>\n",
              "      <td>0.3</td>\n",
              "      <td>88</td>\n",
              "      <td>88</td>\n",
              "      <td>160</td>\n",
              "      <td>88</td>\n",
              "      <td>88</td>\n",
              "      <td>88</td>\n",
              "      <td>600</td>\n",
              "      <td>1</td>\n",
              "    </tr>\n",
              "    <tr>\n",
              "      <th>1</th>\n",
              "      <td>1024</td>\n",
              "      <td>Terapagos</td>\n",
              "      <td>9</td>\n",
              "      <td>Normal</td>\n",
              "      <td>NaN</td>\n",
              "      <td>0.2</td>\n",
              "      <td>6.5</td>\n",
              "      <td>90</td>\n",
              "      <td>65</td>\n",
              "      <td>85</td>\n",
              "      <td>65</td>\n",
              "      <td>85</td>\n",
              "      <td>60</td>\n",
              "      <td>450</td>\n",
              "      <td>1</td>\n",
              "    </tr>\n",
              "    <tr>\n",
              "      <th>2</th>\n",
              "      <td>1023</td>\n",
              "      <td>Iron Crown</td>\n",
              "      <td>9</td>\n",
              "      <td>Steel</td>\n",
              "      <td>Psychic</td>\n",
              "      <td>1.6</td>\n",
              "      <td>156.0</td>\n",
              "      <td>90</td>\n",
              "      <td>72</td>\n",
              "      <td>100</td>\n",
              "      <td>122</td>\n",
              "      <td>108</td>\n",
              "      <td>98</td>\n",
              "      <td>590</td>\n",
              "      <td>0</td>\n",
              "    </tr>\n",
              "    <tr>\n",
              "      <th>3</th>\n",
              "      <td>1022</td>\n",
              "      <td>Iron Boulder</td>\n",
              "      <td>9</td>\n",
              "      <td>Rock</td>\n",
              "      <td>Psychic</td>\n",
              "      <td>1.5</td>\n",
              "      <td>162.5</td>\n",
              "      <td>90</td>\n",
              "      <td>120</td>\n",
              "      <td>80</td>\n",
              "      <td>68</td>\n",
              "      <td>108</td>\n",
              "      <td>124</td>\n",
              "      <td>590</td>\n",
              "      <td>0</td>\n",
              "    </tr>\n",
              "    <tr>\n",
              "      <th>4</th>\n",
              "      <td>1021</td>\n",
              "      <td>Raging Bolt</td>\n",
              "      <td>9</td>\n",
              "      <td>Electric</td>\n",
              "      <td>Dragon</td>\n",
              "      <td>5.2</td>\n",
              "      <td>480.0</td>\n",
              "      <td>125</td>\n",
              "      <td>73</td>\n",
              "      <td>91</td>\n",
              "      <td>137</td>\n",
              "      <td>89</td>\n",
              "      <td>75</td>\n",
              "      <td>590</td>\n",
              "      <td>0</td>\n",
              "    </tr>\n",
              "    <tr>\n",
              "      <th>...</th>\n",
              "      <td>...</td>\n",
              "      <td>...</td>\n",
              "      <td>...</td>\n",
              "      <td>...</td>\n",
              "      <td>...</td>\n",
              "      <td>...</td>\n",
              "      <td>...</td>\n",
              "      <td>...</td>\n",
              "      <td>...</td>\n",
              "      <td>...</td>\n",
              "      <td>...</td>\n",
              "      <td>...</td>\n",
              "      <td>...</td>\n",
              "      <td>...</td>\n",
              "      <td>...</td>\n",
              "    </tr>\n",
              "    <tr>\n",
              "      <th>1020</th>\n",
              "      <td>5</td>\n",
              "      <td>Charmeleon</td>\n",
              "      <td>1</td>\n",
              "      <td>Fire</td>\n",
              "      <td>NaN</td>\n",
              "      <td>1.1</td>\n",
              "      <td>19.0</td>\n",
              "      <td>58</td>\n",
              "      <td>64</td>\n",
              "      <td>58</td>\n",
              "      <td>80</td>\n",
              "      <td>65</td>\n",
              "      <td>80</td>\n",
              "      <td>405</td>\n",
              "      <td>0</td>\n",
              "    </tr>\n",
              "    <tr>\n",
              "      <th>1021</th>\n",
              "      <td>4</td>\n",
              "      <td>Charmander</td>\n",
              "      <td>1</td>\n",
              "      <td>Fire</td>\n",
              "      <td>NaN</td>\n",
              "      <td>0.6</td>\n",
              "      <td>8.5</td>\n",
              "      <td>39</td>\n",
              "      <td>52</td>\n",
              "      <td>43</td>\n",
              "      <td>60</td>\n",
              "      <td>50</td>\n",
              "      <td>65</td>\n",
              "      <td>309</td>\n",
              "      <td>0</td>\n",
              "    </tr>\n",
              "    <tr>\n",
              "      <th>1022</th>\n",
              "      <td>3</td>\n",
              "      <td>Venusaur</td>\n",
              "      <td>1</td>\n",
              "      <td>Grass</td>\n",
              "      <td>Poison</td>\n",
              "      <td>2.0</td>\n",
              "      <td>100.0</td>\n",
              "      <td>80</td>\n",
              "      <td>82</td>\n",
              "      <td>83</td>\n",
              "      <td>100</td>\n",
              "      <td>100</td>\n",
              "      <td>80</td>\n",
              "      <td>525</td>\n",
              "      <td>0</td>\n",
              "    </tr>\n",
              "    <tr>\n",
              "      <th>1023</th>\n",
              "      <td>2</td>\n",
              "      <td>Ivysaur</td>\n",
              "      <td>1</td>\n",
              "      <td>Grass</td>\n",
              "      <td>Poison</td>\n",
              "      <td>1.0</td>\n",
              "      <td>13.0</td>\n",
              "      <td>60</td>\n",
              "      <td>62</td>\n",
              "      <td>63</td>\n",
              "      <td>80</td>\n",
              "      <td>80</td>\n",
              "      <td>60</td>\n",
              "      <td>405</td>\n",
              "      <td>0</td>\n",
              "    </tr>\n",
              "    <tr>\n",
              "      <th>1024</th>\n",
              "      <td>1</td>\n",
              "      <td>Bulbasaur</td>\n",
              "      <td>1</td>\n",
              "      <td>Grass</td>\n",
              "      <td>Poison</td>\n",
              "      <td>0.7</td>\n",
              "      <td>6.9</td>\n",
              "      <td>45</td>\n",
              "      <td>49</td>\n",
              "      <td>49</td>\n",
              "      <td>65</td>\n",
              "      <td>65</td>\n",
              "      <td>45</td>\n",
              "      <td>318</td>\n",
              "      <td>0</td>\n",
              "    </tr>\n",
              "  </tbody>\n",
              "</table>\n",
              "<p>1025 rows × 15 columns</p>\n",
              "</div>"
            ],
            "text/plain": [
              "      dexnum          name  generation     type1    type2  height  weight  \\\n",
              "0       1025     Pecharunt           9    Poison    Ghost     0.3     0.3   \n",
              "1       1024     Terapagos           9    Normal      NaN     0.2     6.5   \n",
              "2       1023    Iron Crown           9     Steel  Psychic     1.6   156.0   \n",
              "3       1022  Iron Boulder           9      Rock  Psychic     1.5   162.5   \n",
              "4       1021   Raging Bolt           9  Electric   Dragon     5.2   480.0   \n",
              "...      ...           ...         ...       ...      ...     ...     ...   \n",
              "1020       5    Charmeleon           1      Fire      NaN     1.1    19.0   \n",
              "1021       4    Charmander           1      Fire      NaN     0.6     8.5   \n",
              "1022       3      Venusaur           1     Grass   Poison     2.0   100.0   \n",
              "1023       2       Ivysaur           1     Grass   Poison     1.0    13.0   \n",
              "1024       1     Bulbasaur           1     Grass   Poison     0.7     6.9   \n",
              "\n",
              "       hp  attack  defense  sp_atk  sp_def  speed  total  legendary  \n",
              "0      88      88      160      88      88     88    600          1  \n",
              "1      90      65       85      65      85     60    450          1  \n",
              "2      90      72      100     122     108     98    590          0  \n",
              "3      90     120       80      68     108    124    590          0  \n",
              "4     125      73       91     137      89     75    590          0  \n",
              "...   ...     ...      ...     ...     ...    ...    ...        ...  \n",
              "1020   58      64       58      80      65     80    405          0  \n",
              "1021   39      52       43      60      50     65    309          0  \n",
              "1022   80      82       83     100     100     80    525          0  \n",
              "1023   60      62       63      80      80     60    405          0  \n",
              "1024   45      49       49      65      65     45    318          0  \n",
              "\n",
              "[1025 rows x 15 columns]"
            ]
          },
          "execution_count": 94,
          "metadata": {},
          "output_type": "execute_result"
        }
      ],
      "source": [
        "data"
      ]
    },
    {
      "cell_type": "code",
      "execution_count": 95,
      "metadata": {
        "execution": {
          "iopub.execute_input": "2023-10-09T10:04:03.140795Z",
          "iopub.status.busy": "2023-10-09T10:04:03.140438Z",
          "iopub.status.idle": "2023-10-09T10:04:03.145967Z",
          "shell.execute_reply": "2023-10-09T10:04:03.144877Z",
          "shell.execute_reply.started": "2023-10-09T10:04:03.140766Z"
        },
        "id": "4xuE8RS0F-1L",
        "trusted": true
      },
      "outputs": [],
      "source": [
        "data_raw = data.copy() # usually, if memory allows it, it's a good idea to keep a raw version of your data"
      ]
    },
    {
      "cell_type": "markdown",
      "metadata": {
        "id": "pW9qbuLEF-1L"
      },
      "source": [
        "# Pre-processing / encoding"
      ]
    },
    {
      "cell_type": "code",
      "execution_count": 96,
      "metadata": {
        "execution": {
          "iopub.execute_input": "2023-10-09T10:04:04.634264Z",
          "iopub.status.busy": "2023-10-09T10:04:04.633636Z",
          "iopub.status.idle": "2023-10-09T10:04:04.650997Z",
          "shell.execute_reply": "2023-10-09T10:04:04.649508Z",
          "shell.execute_reply.started": "2023-10-09T10:04:04.634221Z"
        },
        "id": "otv7GlCxF-1L",
        "trusted": true
      },
      "outputs": [
        {
          "name": "stdout",
          "output_type": "stream",
          "text": [
            "<class 'pandas.core.frame.DataFrame'>\n",
            "RangeIndex: 1025 entries, 0 to 1024\n",
            "Data columns (total 15 columns):\n",
            " #   Column      Non-Null Count  Dtype  \n",
            "---  ------      --------------  -----  \n",
            " 0   dexnum      1025 non-null   int64  \n",
            " 1   name        1025 non-null   object \n",
            " 2   generation  1025 non-null   int64  \n",
            " 3   type1       1025 non-null   object \n",
            " 4   type2       526 non-null    object \n",
            " 5   height      1025 non-null   float64\n",
            " 6   weight      1025 non-null   float64\n",
            " 7   hp          1025 non-null   int64  \n",
            " 8   attack      1025 non-null   int64  \n",
            " 9   defense     1025 non-null   int64  \n",
            " 10  sp_atk      1025 non-null   int64  \n",
            " 11  sp_def      1025 non-null   int64  \n",
            " 12  speed       1025 non-null   int64  \n",
            " 13  total       1025 non-null   int64  \n",
            " 14  legendary   1025 non-null   int64  \n",
            "dtypes: float64(2), int64(10), object(3)\n",
            "memory usage: 120.2+ KB\n"
          ]
        }
      ],
      "source": [
        "data.info()"
      ]
    },
    {
      "cell_type": "code",
      "execution_count": 97,
      "metadata": {
        "execution": {
          "iopub.execute_input": "2023-10-09T10:04:05.073708Z",
          "iopub.status.busy": "2023-10-09T10:04:05.073162Z",
          "iopub.status.idle": "2023-10-09T10:04:05.081791Z",
          "shell.execute_reply": "2023-10-09T10:04:05.080673Z",
          "shell.execute_reply.started": "2023-10-09T10:04:05.073676Z"
        },
        "id": "RjZqyB6bF-1L",
        "trusted": true
      },
      "outputs": [
        {
          "data": {
            "text/plain": [
              "dexnum          0\n",
              "name            0\n",
              "generation      0\n",
              "type1           0\n",
              "type2         499\n",
              "height          0\n",
              "weight          0\n",
              "hp              0\n",
              "attack          0\n",
              "defense         0\n",
              "sp_atk          0\n",
              "sp_def          0\n",
              "speed           0\n",
              "total           0\n",
              "legendary       0\n",
              "dtype: int64"
            ]
          },
          "execution_count": 97,
          "metadata": {},
          "output_type": "execute_result"
        }
      ],
      "source": [
        "data.isna().sum()"
      ]
    },
    {
      "cell_type": "code",
      "execution_count": 98,
      "metadata": {
        "execution": {
          "iopub.execute_input": "2023-10-09T10:04:05.732577Z",
          "iopub.status.busy": "2023-10-09T10:04:05.732052Z",
          "iopub.status.idle": "2023-10-09T10:04:05.737607Z",
          "shell.execute_reply": "2023-10-09T10:04:05.736726Z",
          "shell.execute_reply.started": "2023-10-09T10:04:05.732545Z"
        },
        "id": "4whGrOvSF-1L",
        "trusted": true
      },
      "outputs": [],
      "source": [
        "data = data.drop(['dexnum', 'name', 'type2'], axis=1)\n",
        "# dropping type 2 is actually a debeatable step, it may provide useful information\n",
        "# data = data.drop([\"#\", \"Name\"], axis=1)"
      ]
    },
    {
      "cell_type": "code",
      "execution_count": 99,
      "metadata": {
        "execution": {
          "iopub.execute_input": "2023-10-09T10:04:17.132717Z",
          "iopub.status.busy": "2023-10-09T10:04:17.132078Z",
          "iopub.status.idle": "2023-10-09T10:04:17.137572Z",
          "shell.execute_reply": "2023-10-09T10:04:17.136616Z",
          "shell.execute_reply.started": "2023-10-09T10:04:17.132680Z"
        },
        "id": "ZabDJRZaF-1M",
        "trusted": true
      },
      "outputs": [],
      "source": [
        "data['legendary'] = data['legendary'].astype(int)\n",
        "data['generation'] = data['generation'].astype(str)"
      ]
    },
    {
      "cell_type": "code",
      "execution_count": 100,
      "metadata": {
        "execution": {
          "iopub.execute_input": "2023-10-09T10:04:25.425522Z",
          "iopub.status.busy": "2023-10-09T10:04:25.424830Z",
          "iopub.status.idle": "2023-10-09T10:04:25.433340Z",
          "shell.execute_reply": "2023-10-09T10:04:25.432589Z",
          "shell.execute_reply.started": "2023-10-09T10:04:25.425473Z"
        },
        "id": "bqVbYkL3F-1M",
        "trusted": true
      },
      "outputs": [
        {
          "data": {
            "text/plain": [
              "generation     object\n",
              "type1          object\n",
              "height        float64\n",
              "weight        float64\n",
              "hp              int64\n",
              "attack          int64\n",
              "defense         int64\n",
              "sp_atk          int64\n",
              "sp_def          int64\n",
              "speed           int64\n",
              "total           int64\n",
              "legendary       int64\n",
              "dtype: object"
            ]
          },
          "execution_count": 100,
          "metadata": {},
          "output_type": "execute_result"
        }
      ],
      "source": [
        "data.dtypes"
      ]
    },
    {
      "cell_type": "markdown",
      "metadata": {
        "id": "j4DN8agr8Wp_"
      },
      "source": [
        "Categorical variables are one-hot encoded"
      ]
    },
    {
      "cell_type": "code",
      "execution_count": 101,
      "metadata": {
        "execution": {
          "iopub.execute_input": "2023-10-09T10:04:27.609994Z",
          "iopub.status.busy": "2023-10-09T10:04:27.609285Z",
          "iopub.status.idle": "2023-10-09T10:04:27.616135Z",
          "shell.execute_reply": "2023-10-09T10:04:27.615476Z",
          "shell.execute_reply.started": "2023-10-09T10:04:27.609945Z"
        },
        "id": "FCvblzRqF-1M",
        "trusted": true
      },
      "outputs": [],
      "source": [
        "def onehot_encode(df, column, prefix):\n",
        "    df = df.copy()\n",
        "    dummies = pd.get_dummies(df[column], prefix=prefix)\n",
        "    df = pd.concat([df, dummies], axis=1)\n",
        "    df = df.drop(column, axis=1)\n",
        "    return df"
      ]
    },
    {
      "cell_type": "code",
      "execution_count": 102,
      "metadata": {
        "execution": {
          "iopub.execute_input": "2023-10-09T10:04:27.941093Z",
          "iopub.status.busy": "2023-10-09T10:04:27.940418Z",
          "iopub.status.idle": "2023-10-09T10:04:27.950841Z",
          "shell.execute_reply": "2023-10-09T10:04:27.949833Z",
          "shell.execute_reply.started": "2023-10-09T10:04:27.941046Z"
        },
        "id": "IOOSfBXJF-1N",
        "trusted": true
      },
      "outputs": [],
      "source": [
        "data = onehot_encode(data, 'type1', 't')\n",
        "data = onehot_encode(data, 'generation', 'g')"
      ]
    },
    {
      "cell_type": "code",
      "execution_count": 103,
      "metadata": {
        "execution": {
          "iopub.execute_input": "2023-10-09T10:04:28.321322Z",
          "iopub.status.busy": "2023-10-09T10:04:28.321000Z",
          "iopub.status.idle": "2023-10-09T10:04:28.345828Z",
          "shell.execute_reply": "2023-10-09T10:04:28.344806Z",
          "shell.execute_reply.started": "2023-10-09T10:04:28.321293Z"
        },
        "id": "lJmDYSiwF-1N",
        "trusted": true
      },
      "outputs": [
        {
          "data": {
            "text/plain": [
              "(1025, 37)"
            ]
          },
          "execution_count": 103,
          "metadata": {},
          "output_type": "execute_result"
        }
      ],
      "source": [
        "data.shape"
      ]
    },
    {
      "cell_type": "code",
      "execution_count": 104,
      "metadata": {},
      "outputs": [
        {
          "data": {
            "text/html": [
              "<div>\n",
              "<style scoped>\n",
              "    .dataframe tbody tr th:only-of-type {\n",
              "        vertical-align: middle;\n",
              "    }\n",
              "\n",
              "    .dataframe tbody tr th {\n",
              "        vertical-align: top;\n",
              "    }\n",
              "\n",
              "    .dataframe thead th {\n",
              "        text-align: right;\n",
              "    }\n",
              "</style>\n",
              "<table border=\"1\" class=\"dataframe\">\n",
              "  <thead>\n",
              "    <tr style=\"text-align: right;\">\n",
              "      <th></th>\n",
              "      <th>height</th>\n",
              "      <th>weight</th>\n",
              "      <th>hp</th>\n",
              "      <th>attack</th>\n",
              "      <th>defense</th>\n",
              "      <th>sp_atk</th>\n",
              "      <th>sp_def</th>\n",
              "      <th>speed</th>\n",
              "      <th>total</th>\n",
              "      <th>legendary</th>\n",
              "      <th>...</th>\n",
              "      <th>t_Water</th>\n",
              "      <th>g_1</th>\n",
              "      <th>g_2</th>\n",
              "      <th>g_3</th>\n",
              "      <th>g_4</th>\n",
              "      <th>g_5</th>\n",
              "      <th>g_6</th>\n",
              "      <th>g_7</th>\n",
              "      <th>g_8</th>\n",
              "      <th>g_9</th>\n",
              "    </tr>\n",
              "  </thead>\n",
              "  <tbody>\n",
              "    <tr>\n",
              "      <th>0</th>\n",
              "      <td>0.3</td>\n",
              "      <td>0.3</td>\n",
              "      <td>88</td>\n",
              "      <td>88</td>\n",
              "      <td>160</td>\n",
              "      <td>88</td>\n",
              "      <td>88</td>\n",
              "      <td>88</td>\n",
              "      <td>600</td>\n",
              "      <td>1</td>\n",
              "      <td>...</td>\n",
              "      <td>False</td>\n",
              "      <td>False</td>\n",
              "      <td>False</td>\n",
              "      <td>False</td>\n",
              "      <td>False</td>\n",
              "      <td>False</td>\n",
              "      <td>False</td>\n",
              "      <td>False</td>\n",
              "      <td>False</td>\n",
              "      <td>True</td>\n",
              "    </tr>\n",
              "    <tr>\n",
              "      <th>1</th>\n",
              "      <td>0.2</td>\n",
              "      <td>6.5</td>\n",
              "      <td>90</td>\n",
              "      <td>65</td>\n",
              "      <td>85</td>\n",
              "      <td>65</td>\n",
              "      <td>85</td>\n",
              "      <td>60</td>\n",
              "      <td>450</td>\n",
              "      <td>1</td>\n",
              "      <td>...</td>\n",
              "      <td>False</td>\n",
              "      <td>False</td>\n",
              "      <td>False</td>\n",
              "      <td>False</td>\n",
              "      <td>False</td>\n",
              "      <td>False</td>\n",
              "      <td>False</td>\n",
              "      <td>False</td>\n",
              "      <td>False</td>\n",
              "      <td>True</td>\n",
              "    </tr>\n",
              "    <tr>\n",
              "      <th>2</th>\n",
              "      <td>1.6</td>\n",
              "      <td>156.0</td>\n",
              "      <td>90</td>\n",
              "      <td>72</td>\n",
              "      <td>100</td>\n",
              "      <td>122</td>\n",
              "      <td>108</td>\n",
              "      <td>98</td>\n",
              "      <td>590</td>\n",
              "      <td>0</td>\n",
              "      <td>...</td>\n",
              "      <td>False</td>\n",
              "      <td>False</td>\n",
              "      <td>False</td>\n",
              "      <td>False</td>\n",
              "      <td>False</td>\n",
              "      <td>False</td>\n",
              "      <td>False</td>\n",
              "      <td>False</td>\n",
              "      <td>False</td>\n",
              "      <td>True</td>\n",
              "    </tr>\n",
              "    <tr>\n",
              "      <th>3</th>\n",
              "      <td>1.5</td>\n",
              "      <td>162.5</td>\n",
              "      <td>90</td>\n",
              "      <td>120</td>\n",
              "      <td>80</td>\n",
              "      <td>68</td>\n",
              "      <td>108</td>\n",
              "      <td>124</td>\n",
              "      <td>590</td>\n",
              "      <td>0</td>\n",
              "      <td>...</td>\n",
              "      <td>False</td>\n",
              "      <td>False</td>\n",
              "      <td>False</td>\n",
              "      <td>False</td>\n",
              "      <td>False</td>\n",
              "      <td>False</td>\n",
              "      <td>False</td>\n",
              "      <td>False</td>\n",
              "      <td>False</td>\n",
              "      <td>True</td>\n",
              "    </tr>\n",
              "    <tr>\n",
              "      <th>4</th>\n",
              "      <td>5.2</td>\n",
              "      <td>480.0</td>\n",
              "      <td>125</td>\n",
              "      <td>73</td>\n",
              "      <td>91</td>\n",
              "      <td>137</td>\n",
              "      <td>89</td>\n",
              "      <td>75</td>\n",
              "      <td>590</td>\n",
              "      <td>0</td>\n",
              "      <td>...</td>\n",
              "      <td>False</td>\n",
              "      <td>False</td>\n",
              "      <td>False</td>\n",
              "      <td>False</td>\n",
              "      <td>False</td>\n",
              "      <td>False</td>\n",
              "      <td>False</td>\n",
              "      <td>False</td>\n",
              "      <td>False</td>\n",
              "      <td>True</td>\n",
              "    </tr>\n",
              "    <tr>\n",
              "      <th>...</th>\n",
              "      <td>...</td>\n",
              "      <td>...</td>\n",
              "      <td>...</td>\n",
              "      <td>...</td>\n",
              "      <td>...</td>\n",
              "      <td>...</td>\n",
              "      <td>...</td>\n",
              "      <td>...</td>\n",
              "      <td>...</td>\n",
              "      <td>...</td>\n",
              "      <td>...</td>\n",
              "      <td>...</td>\n",
              "      <td>...</td>\n",
              "      <td>...</td>\n",
              "      <td>...</td>\n",
              "      <td>...</td>\n",
              "      <td>...</td>\n",
              "      <td>...</td>\n",
              "      <td>...</td>\n",
              "      <td>...</td>\n",
              "      <td>...</td>\n",
              "    </tr>\n",
              "    <tr>\n",
              "      <th>1020</th>\n",
              "      <td>1.1</td>\n",
              "      <td>19.0</td>\n",
              "      <td>58</td>\n",
              "      <td>64</td>\n",
              "      <td>58</td>\n",
              "      <td>80</td>\n",
              "      <td>65</td>\n",
              "      <td>80</td>\n",
              "      <td>405</td>\n",
              "      <td>0</td>\n",
              "      <td>...</td>\n",
              "      <td>False</td>\n",
              "      <td>True</td>\n",
              "      <td>False</td>\n",
              "      <td>False</td>\n",
              "      <td>False</td>\n",
              "      <td>False</td>\n",
              "      <td>False</td>\n",
              "      <td>False</td>\n",
              "      <td>False</td>\n",
              "      <td>False</td>\n",
              "    </tr>\n",
              "    <tr>\n",
              "      <th>1021</th>\n",
              "      <td>0.6</td>\n",
              "      <td>8.5</td>\n",
              "      <td>39</td>\n",
              "      <td>52</td>\n",
              "      <td>43</td>\n",
              "      <td>60</td>\n",
              "      <td>50</td>\n",
              "      <td>65</td>\n",
              "      <td>309</td>\n",
              "      <td>0</td>\n",
              "      <td>...</td>\n",
              "      <td>False</td>\n",
              "      <td>True</td>\n",
              "      <td>False</td>\n",
              "      <td>False</td>\n",
              "      <td>False</td>\n",
              "      <td>False</td>\n",
              "      <td>False</td>\n",
              "      <td>False</td>\n",
              "      <td>False</td>\n",
              "      <td>False</td>\n",
              "    </tr>\n",
              "    <tr>\n",
              "      <th>1022</th>\n",
              "      <td>2.0</td>\n",
              "      <td>100.0</td>\n",
              "      <td>80</td>\n",
              "      <td>82</td>\n",
              "      <td>83</td>\n",
              "      <td>100</td>\n",
              "      <td>100</td>\n",
              "      <td>80</td>\n",
              "      <td>525</td>\n",
              "      <td>0</td>\n",
              "      <td>...</td>\n",
              "      <td>False</td>\n",
              "      <td>True</td>\n",
              "      <td>False</td>\n",
              "      <td>False</td>\n",
              "      <td>False</td>\n",
              "      <td>False</td>\n",
              "      <td>False</td>\n",
              "      <td>False</td>\n",
              "      <td>False</td>\n",
              "      <td>False</td>\n",
              "    </tr>\n",
              "    <tr>\n",
              "      <th>1023</th>\n",
              "      <td>1.0</td>\n",
              "      <td>13.0</td>\n",
              "      <td>60</td>\n",
              "      <td>62</td>\n",
              "      <td>63</td>\n",
              "      <td>80</td>\n",
              "      <td>80</td>\n",
              "      <td>60</td>\n",
              "      <td>405</td>\n",
              "      <td>0</td>\n",
              "      <td>...</td>\n",
              "      <td>False</td>\n",
              "      <td>True</td>\n",
              "      <td>False</td>\n",
              "      <td>False</td>\n",
              "      <td>False</td>\n",
              "      <td>False</td>\n",
              "      <td>False</td>\n",
              "      <td>False</td>\n",
              "      <td>False</td>\n",
              "      <td>False</td>\n",
              "    </tr>\n",
              "    <tr>\n",
              "      <th>1024</th>\n",
              "      <td>0.7</td>\n",
              "      <td>6.9</td>\n",
              "      <td>45</td>\n",
              "      <td>49</td>\n",
              "      <td>49</td>\n",
              "      <td>65</td>\n",
              "      <td>65</td>\n",
              "      <td>45</td>\n",
              "      <td>318</td>\n",
              "      <td>0</td>\n",
              "      <td>...</td>\n",
              "      <td>False</td>\n",
              "      <td>True</td>\n",
              "      <td>False</td>\n",
              "      <td>False</td>\n",
              "      <td>False</td>\n",
              "      <td>False</td>\n",
              "      <td>False</td>\n",
              "      <td>False</td>\n",
              "      <td>False</td>\n",
              "      <td>False</td>\n",
              "    </tr>\n",
              "  </tbody>\n",
              "</table>\n",
              "<p>1025 rows × 37 columns</p>\n",
              "</div>"
            ],
            "text/plain": [
              "      height  weight   hp  attack  defense  sp_atk  sp_def  speed  total  \\\n",
              "0        0.3     0.3   88      88      160      88      88     88    600   \n",
              "1        0.2     6.5   90      65       85      65      85     60    450   \n",
              "2        1.6   156.0   90      72      100     122     108     98    590   \n",
              "3        1.5   162.5   90     120       80      68     108    124    590   \n",
              "4        5.2   480.0  125      73       91     137      89     75    590   \n",
              "...      ...     ...  ...     ...      ...     ...     ...    ...    ...   \n",
              "1020     1.1    19.0   58      64       58      80      65     80    405   \n",
              "1021     0.6     8.5   39      52       43      60      50     65    309   \n",
              "1022     2.0   100.0   80      82       83     100     100     80    525   \n",
              "1023     1.0    13.0   60      62       63      80      80     60    405   \n",
              "1024     0.7     6.9   45      49       49      65      65     45    318   \n",
              "\n",
              "      legendary  ...  t_Water    g_1    g_2    g_3    g_4    g_5    g_6  \\\n",
              "0             1  ...    False  False  False  False  False  False  False   \n",
              "1             1  ...    False  False  False  False  False  False  False   \n",
              "2             0  ...    False  False  False  False  False  False  False   \n",
              "3             0  ...    False  False  False  False  False  False  False   \n",
              "4             0  ...    False  False  False  False  False  False  False   \n",
              "...         ...  ...      ...    ...    ...    ...    ...    ...    ...   \n",
              "1020          0  ...    False   True  False  False  False  False  False   \n",
              "1021          0  ...    False   True  False  False  False  False  False   \n",
              "1022          0  ...    False   True  False  False  False  False  False   \n",
              "1023          0  ...    False   True  False  False  False  False  False   \n",
              "1024          0  ...    False   True  False  False  False  False  False   \n",
              "\n",
              "        g_7    g_8    g_9  \n",
              "0     False  False   True  \n",
              "1     False  False   True  \n",
              "2     False  False   True  \n",
              "3     False  False   True  \n",
              "4     False  False   True  \n",
              "...     ...    ...    ...  \n",
              "1020  False  False  False  \n",
              "1021  False  False  False  \n",
              "1022  False  False  False  \n",
              "1023  False  False  False  \n",
              "1024  False  False  False  \n",
              "\n",
              "[1025 rows x 37 columns]"
            ]
          },
          "execution_count": 104,
          "metadata": {},
          "output_type": "execute_result"
        }
      ],
      "source": [
        "data"
      ]
    },
    {
      "cell_type": "markdown",
      "metadata": {
        "id": "30niefA6F-1N"
      },
      "source": [
        "## Splitting and Scaling"
      ]
    },
    {
      "cell_type": "code",
      "execution_count": 105,
      "metadata": {
        "id": "a9N2nv8O8iKT"
      },
      "outputs": [
        {
          "data": {
            "text/plain": [
              "Index(['height', 'weight', 'hp', 'attack', 'defense', 'sp_atk', 'sp_def',\n",
              "       'speed', 'total', 'legendary', 't_Bug', 't_Dark', 't_Dragon',\n",
              "       't_Electric', 't_Fairy', 't_Fighting', 't_Fire', 't_Flying', 't_Ghost',\n",
              "       't_Grass', 't_Ground', 't_Ice', 't_Normal', 't_Poison', 't_Psychic',\n",
              "       't_Rock', 't_Steel', 't_Water', 'g_1', 'g_2', 'g_3', 'g_4', 'g_5',\n",
              "       'g_6', 'g_7', 'g_8', 'g_9'],\n",
              "      dtype='object')"
            ]
          },
          "execution_count": 105,
          "metadata": {},
          "output_type": "execute_result"
        }
      ],
      "source": [
        "data.columns # note that only the first 9 features are continuous now"
      ]
    },
    {
      "cell_type": "code",
      "execution_count": 106,
      "metadata": {
        "execution": {
          "iopub.execute_input": "2023-10-09T10:04:36.262122Z",
          "iopub.status.busy": "2023-10-09T10:04:36.261494Z",
          "iopub.status.idle": "2023-10-09T10:04:36.269171Z",
          "shell.execute_reply": "2023-10-09T10:04:36.268451Z",
          "shell.execute_reply.started": "2023-10-09T10:04:36.262071Z"
        },
        "id": "KR-yDxraF-1N",
        "trusted": true
      },
      "outputs": [],
      "source": [
        "y = data['legendary']\n",
        "X = data.drop('legendary', axis=1)"
      ]
    },
    {
      "cell_type": "code",
      "execution_count": 107,
      "metadata": {
        "execution": {
          "iopub.execute_input": "2023-10-09T10:04:37.532104Z",
          "iopub.status.busy": "2023-10-09T10:04:37.531465Z",
          "iopub.status.idle": "2023-10-09T10:04:37.542125Z",
          "shell.execute_reply": "2023-10-09T10:04:37.541465Z",
          "shell.execute_reply.started": "2023-10-09T10:04:37.532051Z"
        },
        "id": "y14BFzZyF-1N",
        "trusted": true
      },
      "outputs": [],
      "source": [
        "scaler = StandardScaler()\n",
        "\n",
        "X_scaled = scaler.fit_transform(X.iloc[:,:9])\n",
        "X = np.concatenate((X_scaled, np.array(X.iloc[:,9:])), axis=1)"
      ]
    },
    {
      "cell_type": "markdown",
      "metadata": {
        "id": "SeI7sgXRF-1N"
      },
      "source": [
        "# Model definition"
      ]
    },
    {
      "cell_type": "code",
      "execution_count": 108,
      "metadata": {
        "execution": {
          "iopub.execute_input": "2023-10-09T10:04:41.290174Z",
          "iopub.status.busy": "2023-10-09T10:04:41.289646Z",
          "iopub.status.idle": "2023-10-09T10:04:41.296775Z",
          "shell.execute_reply": "2023-10-09T10:04:41.295898Z",
          "shell.execute_reply.started": "2023-10-09T10:04:41.290135Z"
        },
        "id": "eYpu0pOIF-1N",
        "trusted": true
      },
      "outputs": [
        {
          "name": "stdout",
          "output_type": "stream",
          "text": [
            "Using mps device\n"
          ]
        }
      ],
      "source": [
        "DEVICE = torch.device('cuda' if torch.cuda.is_available() else 'mps' \n",
        "    if torch.backends.mps.is_available() else 'cpu')\n",
        "print(f\"Using {DEVICE} device\")"
      ]
    },
    {
      "cell_type": "markdown",
      "metadata": {
        "id": "V6VZp4IQ9IpG"
      },
      "source": [
        "### Define your model :"
      ]
    },
    {
      "cell_type": "markdown",
      "metadata": {
        "id": "hnt0qXDZ_29X"
      },
      "source": [
        "Choose yourself in the model:\n",
        "- number of hidden layers\n",
        "- number of neurons per layer (careful with input and output, these are not a choice)\n",
        "- activation functions\n",
        "- any other possible component among those seen so far in theory."
      ]
    },
    {
      "cell_type": "code",
      "execution_count": 109,
      "metadata": {
        "execution": {
          "iopub.execute_input": "2023-10-09T10:04:42.310280Z",
          "iopub.status.busy": "2023-10-09T10:04:42.309954Z",
          "iopub.status.idle": "2023-10-09T10:04:42.317352Z",
          "shell.execute_reply": "2023-10-09T10:04:42.316057Z",
          "shell.execute_reply.started": "2023-10-09T10:04:42.310252Z"
        },
        "id": "2x2t4rEtF-1N",
        "trusted": true
      },
      "outputs": [],
      "source": [
        "import torch.nn.functional as F\n",
        "class RegModel(nn.Module):\n",
        "    def __init__(self, input_size, d_1, d_2, p=0.3):  # Increased dropout rate\n",
        "        super(RegModel, self).__init__()\n",
        "        self.fc1 = nn.Linear(input_size, d_1)\n",
        "        self.BN = nn.BatchNorm1d(d_1)\n",
        "        self.fc2 = nn.Linear(d_1, d_2)\n",
        "        self.dropout = nn.Dropout(p)\n",
        "        self.fc3 = nn.Linear(d_2, 1)  # Output a single value\n",
        "\n",
        "    def forward(self, x):\n",
        "        x = self.fc1(x)\n",
        "        x = F.relu(x)\n",
        "        x = self.BN(x)\n",
        "        x = self.fc2(x)\n",
        "        x = F.relu(x)\n",
        "        x = self.dropout(x)\n",
        "        x = self.fc3(x)\n",
        "        return torch.sigmoid(x)  # Apply sigmoid to get probability\n"
      ]
    },
    {
      "cell_type": "markdown",
      "metadata": {
        "id": "_QhXrIWerKfU"
      },
      "source": [
        "Instantiate your model and print it out"
      ]
    },
    {
      "cell_type": "code",
      "execution_count": 110,
      "metadata": {
        "execution": {
          "iopub.execute_input": "2023-10-09T10:04:49.934880Z",
          "iopub.status.busy": "2023-10-09T10:04:49.934535Z",
          "iopub.status.idle": "2023-10-09T10:04:49.962352Z",
          "shell.execute_reply": "2023-10-09T10:04:49.961502Z",
          "shell.execute_reply.started": "2023-10-09T10:04:49.934850Z"
        },
        "id": "E9ivUgk_F-1N",
        "trusted": true
      },
      "outputs": [],
      "source": [
        "# Convert DataFrame to tensors\n",
        "X_tensor = torch.tensor(X, dtype=torch.float32)\n",
        "y_tensor = torch.tensor(y, dtype=torch.long)  "
      ]
    },
    {
      "cell_type": "code",
      "execution_count": 111,
      "metadata": {},
      "outputs": [],
      "source": [
        "input_dime = 36\n",
        "d_1 = input_dime // 2\n",
        "d_2 = d_1 // 2"
      ]
    },
    {
      "cell_type": "code",
      "execution_count": 112,
      "metadata": {},
      "outputs": [
        {
          "data": {
            "text/plain": [
              "RegModel(\n",
              "  (fc1): Linear(in_features=36, out_features=18, bias=True)\n",
              "  (BN): BatchNorm1d(18, eps=1e-05, momentum=0.1, affine=True, track_running_stats=True)\n",
              "  (fc2): Linear(in_features=18, out_features=9, bias=True)\n",
              "  (dropout): Dropout(p=0.3, inplace=False)\n",
              "  (fc3): Linear(in_features=9, out_features=1, bias=True)\n",
              ")"
            ]
          },
          "execution_count": 112,
          "metadata": {},
          "output_type": "execute_result"
        }
      ],
      "source": [
        "model = RegModel(input_dime, d_1, d_2).to(DEVICE)\n",
        "model"
      ]
    },
    {
      "cell_type": "markdown",
      "metadata": {
        "id": "sXCiwbQd_T-2"
      },
      "source": [
        "### Hyperparameters:"
      ]
    },
    {
      "cell_type": "markdown",
      "metadata": {
        "id": "L-1fTWhB_9HB"
      },
      "source": [
        "Choose carefully your:\n",
        "- learning rate (this is usually the most important hyperparameter to get right, but some optimizers are more forgiving than others)\n",
        "- batch size\n",
        "- number of epochs.\n",
        "- other hyperparameters that you might need"
      ]
    },
    {
      "cell_type": "code",
      "execution_count": 113,
      "metadata": {
        "execution": {
          "iopub.execute_input": "2023-10-09T10:04:57.406348Z",
          "iopub.status.busy": "2023-10-09T10:04:57.405999Z",
          "iopub.status.idle": "2023-10-09T10:04:57.410729Z",
          "shell.execute_reply": "2023-10-09T10:04:57.409643Z",
          "shell.execute_reply.started": "2023-10-09T10:04:57.406319Z"
        },
        "id": "GFumcDhCF-1N",
        "trusted": true
      },
      "outputs": [],
      "source": [
        "lr = 0.001\n",
        "batch_size = 80\n",
        "num_epochs = 200\n",
        "l1_lambda  = 0.001  "
      ]
    },
    {
      "cell_type": "markdown",
      "metadata": {
        "id": "M9LK0StY_kyS"
      },
      "source": [
        "### Loss function and optimizer:"
      ]
    },
    {
      "cell_type": "markdown",
      "metadata": {
        "id": "KvHQnWrmABgx"
      },
      "source": [
        "- What's the appropriate loss function for the task?\n",
        "- Decide which optimizer you want to use ([Documentation](https://pytorch.org/docs/stable/optim.html))"
      ]
    },
    {
      "cell_type": "code",
      "execution_count": 114,
      "metadata": {
        "execution": {
          "iopub.execute_input": "2023-10-09T10:04:59.179553Z",
          "iopub.status.busy": "2023-10-09T10:04:59.179191Z",
          "iopub.status.idle": "2023-10-09T10:04:59.185130Z",
          "shell.execute_reply": "2023-10-09T10:04:59.183865Z",
          "shell.execute_reply.started": "2023-10-09T10:04:59.179521Z"
        },
        "id": "hFYvvA8GF-1N",
        "trusted": true
      },
      "outputs": [],
      "source": [
        "from torch.optim.lr_scheduler import ReduceLROnPlateau\n",
        "\n",
        "# Define the loss function\n",
        "loss_fn = nn.BCELoss()\n",
        "# Define the optimizer with weight decay\n",
        "optimizer = torch.optim.Adam(model.parameters(), lr=lr, weight_decay=0.01)\n",
        "# Using ReduceLROnPlateau to adjust the learning rate\n",
        "scheduler = ReduceLROnPlateau(optimizer, mode='min', factor=0.3, patience=20)\n",
        "\n"
      ]
    },
    {
      "cell_type": "markdown",
      "metadata": {
        "id": "ra1bhn_A_tTj"
      },
      "source": [
        "Define your TensorDatasets and DataLoaders; remember to use the appropriate dtype for your tensors.\n",
        "TensorDataset è un modo per \"impacchettare\" i tuoi tensori di input e target in un unico oggetto.\n",
        "DataLoader è uno strumento che aiuta a dividere il tuo dataset in piccoli batch di dati e li carica durante l'addestramento in modo efficiente.\n"
      ]
    },
    {
      "cell_type": "code",
      "execution_count": 115,
      "metadata": {
        "execution": {
          "iopub.execute_input": "2023-10-09T10:12:27.546392Z",
          "iopub.status.busy": "2023-10-09T10:12:27.545708Z",
          "iopub.status.idle": "2023-10-09T10:12:27.555392Z",
          "shell.execute_reply": "2023-10-09T10:12:27.554394Z",
          "shell.execute_reply.started": "2023-10-09T10:12:27.546321Z"
        },
        "id": "LVpU6mGsF-1O",
        "trusted": true
      },
      "outputs": [],
      "source": [
        "# First split: separate test set (80% train+val, 20% test)\n",
        "X_temp, X_test, y_temp, y_test = train_test_split(X, y, test_size=0.2, random_state=42)\n",
        "X_train, X_val, y_train, y_val = train_test_split(X_temp, y_temp, test_size=0.25, random_state=42)\n",
        "\n",
        "# Convert training data to tensors\n",
        "X_train_tensor = torch.tensor(X_train, dtype=torch.float32)\n",
        "y_train_tensor = torch.tensor(y_train.values, dtype=torch.long)\n",
        "\n",
        "# Convert validation data to tensors\n",
        "X_val_tensor = torch.tensor(X_val, dtype=torch.float32)\n",
        "y_val_tensor = torch.tensor(y_val.values, dtype=torch.long)\n",
        "\n",
        "# Convert test data to tensors\n",
        "X_test_tensor = torch.tensor(X_test, dtype=torch.float32)\n",
        "y_test_tensor = torch.tensor(y_test.values, dtype=torch.long)\n",
        "\n",
        "# Create TensorDataset for all sets\n",
        "train_dataset = TensorDataset(X_train_tensor, y_train_tensor)\n",
        "val_dataset = TensorDataset(X_val_tensor, y_val_tensor)\n",
        "test_dataset = TensorDataset(X_test_tensor, y_test_tensor)\n",
        "\n",
        "# Create DataLoader for all sets\n",
        "trainloader = DataLoader(train_dataset, batch_size=batch_size, shuffle=True)\n",
        "validloader = DataLoader(val_dataset, batch_size=batch_size, shuffle=False)\n",
        "testloader = DataLoader(test_dataset, batch_size=batch_size, shuffle=False)"
      ]
    },
    {
      "cell_type": "code",
      "execution_count": 116,
      "metadata": {
        "id": "ceHoIeQst3mA"
      },
      "outputs": [],
      "source": [
        "# Keep track of training and validation losses during training\n",
        "\n",
        "train_loss_list = []\n",
        "valid_loss_list = []\n",
        "\n",
        "train_length = len(trainloader)\n",
        "valid_length = len(validloader)\n",
        "valid_length = len(testloader)"
      ]
    },
    {
      "cell_type": "markdown",
      "metadata": {
        "id": "cKeqhHEiOs-6"
      },
      "source": [
        "# Training"
      ]
    },
    {
      "cell_type": "markdown",
      "metadata": {
        "id": "2KUEZoR_O2ra"
      },
      "source": [
        "Implement your training and evaluation (for the validation set) loops"
      ]
    },
    {
      "cell_type": "code",
      "execution_count": 117,
      "metadata": {
        "id": "EqK5jG1NF-1O",
        "trusted": true
      },
      "outputs": [
        {
          "name": "stdout",
          "output_type": "stream",
          "text": [
            "Epoch 1: Train loss: 0.7485, Validation loss: 0.6821\n",
            "Epoch 2: Train loss: 0.7120, Validation loss: 0.6647\n",
            "Epoch 3: Train loss: 0.6855, Validation loss: 0.6394\n",
            "Epoch 4: Train loss: 0.6703, Validation loss: 0.6076\n",
            "Epoch 5: Train loss: 0.6222, Validation loss: 0.5729\n",
            "Epoch 6: Train loss: 0.5996, Validation loss: 0.5394\n",
            "Epoch 7: Train loss: 0.5656, Validation loss: 0.5106\n",
            "Epoch 8: Train loss: 0.5450, Validation loss: 0.4853\n",
            "Epoch 9: Train loss: 0.5040, Validation loss: 0.4632\n",
            "Epoch 10: Train loss: 0.5443, Validation loss: 0.4398\n",
            "Epoch 11: Train loss: 0.4778, Validation loss: 0.4188\n",
            "Epoch 12: Train loss: 0.5105, Validation loss: 0.4002\n",
            "Epoch 13: Train loss: 0.4294, Validation loss: 0.3838\n",
            "Epoch 14: Train loss: 0.4825, Validation loss: 0.3652\n",
            "Epoch 15: Train loss: 0.4020, Validation loss: 0.3505\n",
            "Epoch 16: Train loss: 0.3369, Validation loss: 0.3353\n",
            "Epoch 17: Train loss: 0.4284, Validation loss: 0.3219\n",
            "Epoch 18: Train loss: 0.4212, Validation loss: 0.3104\n",
            "Epoch 19: Train loss: 0.3388, Validation loss: 0.2979\n",
            "Epoch 20: Train loss: 0.3477, Validation loss: 0.2868\n",
            "Epoch 21: Train loss: 0.3609, Validation loss: 0.2763\n",
            "Epoch 22: Train loss: 0.2836, Validation loss: 0.2682\n",
            "Epoch 23: Train loss: 0.2920, Validation loss: 0.2596\n",
            "Epoch 24: Train loss: 0.3148, Validation loss: 0.2510\n",
            "Epoch 25: Train loss: 0.3181, Validation loss: 0.2422\n",
            "Epoch 26: Train loss: 0.2466, Validation loss: 0.2362\n",
            "Epoch 27: Train loss: 0.2632, Validation loss: 0.2303\n",
            "Epoch 28: Train loss: 0.2313, Validation loss: 0.2237\n",
            "Epoch 29: Train loss: 0.2816, Validation loss: 0.2165\n",
            "Epoch 30: Train loss: 0.2476, Validation loss: 0.2114\n",
            "Epoch 31: Train loss: 0.2200, Validation loss: 0.2067\n",
            "Epoch 32: Train loss: 0.2579, Validation loss: 0.2012\n",
            "Epoch 33: Train loss: 0.2524, Validation loss: 0.1945\n",
            "Epoch 34: Train loss: 0.2333, Validation loss: 0.1917\n",
            "Epoch 35: Train loss: 0.2806, Validation loss: 0.1883\n",
            "Epoch 36: Train loss: 0.2211, Validation loss: 0.1831\n",
            "Epoch 37: Train loss: 0.2399, Validation loss: 0.1806\n",
            "Epoch 38: Train loss: 0.1791, Validation loss: 0.1753\n",
            "Epoch 39: Train loss: 0.2594, Validation loss: 0.1705\n",
            "Epoch 40: Train loss: 0.2193, Validation loss: 0.1690\n",
            "Epoch 41: Train loss: 0.1825, Validation loss: 0.1664\n",
            "Epoch 42: Train loss: 0.1622, Validation loss: 0.1630\n",
            "Epoch 43: Train loss: 0.1524, Validation loss: 0.1589\n",
            "Epoch 44: Train loss: 0.2614, Validation loss: 0.1585\n",
            "Epoch 45: Train loss: 0.1946, Validation loss: 0.1580\n",
            "Epoch 46: Train loss: 0.2163, Validation loss: 0.1542\n",
            "Epoch 47: Train loss: 0.1927, Validation loss: 0.1515\n",
            "Epoch 48: Train loss: 0.2119, Validation loss: 0.1459\n",
            "Epoch 49: Train loss: 0.1764, Validation loss: 0.1414\n",
            "Epoch 50: Train loss: 0.2171, Validation loss: 0.1355\n",
            "Epoch 51: Train loss: 0.1739, Validation loss: 0.1335\n",
            "Epoch 52: Train loss: 0.2492, Validation loss: 0.1328\n",
            "Epoch 53: Train loss: 0.1478, Validation loss: 0.1335\n",
            "Epoch 54: Train loss: 0.1499, Validation loss: 0.1360\n",
            "Epoch 55: Train loss: 0.1603, Validation loss: 0.1273\n",
            "Epoch 56: Train loss: 0.1340, Validation loss: 0.1247\n",
            "Epoch 57: Train loss: 0.1686, Validation loss: 0.1239\n",
            "Epoch 58: Train loss: 0.1479, Validation loss: 0.1230\n",
            "Epoch 59: Train loss: 0.1911, Validation loss: 0.1271\n",
            "Epoch 60: Train loss: 0.1253, Validation loss: 0.1208\n",
            "Epoch 61: Train loss: 0.1423, Validation loss: 0.1190\n",
            "Epoch 62: Train loss: 0.1536, Validation loss: 0.1143\n",
            "Epoch 63: Train loss: 0.2480, Validation loss: 0.1127\n",
            "Epoch 64: Train loss: 0.1655, Validation loss: 0.1133\n",
            "Epoch 65: Train loss: 0.2018, Validation loss: 0.1159\n",
            "Epoch 66: Train loss: 0.1633, Validation loss: 0.1141\n",
            "Epoch 67: Train loss: 0.2173, Validation loss: 0.1139\n",
            "Epoch 68: Train loss: 0.1727, Validation loss: 0.1136\n",
            "Epoch 69: Train loss: 0.1598, Validation loss: 0.1128\n",
            "Epoch 70: Train loss: 0.1792, Validation loss: 0.1091\n",
            "Epoch 71: Train loss: 0.1591, Validation loss: 0.1086\n",
            "Epoch 72: Train loss: 0.1453, Validation loss: 0.1041\n",
            "Epoch 73: Train loss: 0.1254, Validation loss: 0.1113\n",
            "Epoch 74: Train loss: 0.1165, Validation loss: 0.1045\n",
            "Epoch 75: Train loss: 0.1526, Validation loss: 0.1068\n",
            "Epoch 76: Train loss: 0.2332, Validation loss: 0.1103\n",
            "Epoch 77: Train loss: 0.1671, Validation loss: 0.1115\n",
            "Epoch 78: Train loss: 0.1243, Validation loss: 0.1079\n",
            "Epoch 79: Train loss: 0.2151, Validation loss: 0.1099\n",
            "Epoch 80: Train loss: 0.1435, Validation loss: 0.1076\n",
            "Epoch 81: Train loss: 0.1326, Validation loss: 0.1092\n",
            "Epoch 82: Train loss: 0.0954, Validation loss: 0.1098\n",
            "Epoch 83: Train loss: 0.1307, Validation loss: 0.0985\n",
            "Epoch 84: Train loss: 0.1528, Validation loss: 0.0993\n",
            "Epoch 85: Train loss: 0.1326, Validation loss: 0.1091\n",
            "Epoch 86: Train loss: 0.1234, Validation loss: 0.1047\n",
            "Epoch 87: Train loss: 0.1098, Validation loss: 0.1041\n",
            "Epoch 88: Train loss: 0.0990, Validation loss: 0.1042\n",
            "Epoch 89: Train loss: 0.1511, Validation loss: 0.1106\n",
            "Epoch 90: Train loss: 0.1274, Validation loss: 0.1059\n",
            "Epoch 91: Train loss: 0.1735, Validation loss: 0.1121\n",
            "Epoch 92: Train loss: 0.1398, Validation loss: 0.1057\n",
            "Epoch 93: Train loss: 0.1265, Validation loss: 0.1058\n",
            "Epoch 94: Train loss: 0.1543, Validation loss: 0.1011\n",
            "Epoch 95: Train loss: 0.1281, Validation loss: 0.0996\n",
            "Epoch 96: Train loss: 0.1458, Validation loss: 0.0999\n",
            "Epoch 97: Train loss: 0.2180, Validation loss: 0.1013\n",
            "Epoch 98: Train loss: 0.1193, Validation loss: 0.0920\n",
            "Epoch 99: Train loss: 0.1423, Validation loss: 0.0903\n",
            "Epoch 100: Train loss: 0.1691, Validation loss: 0.0977\n",
            "Epoch 101: Train loss: 0.1256, Validation loss: 0.1023\n",
            "Epoch 102: Train loss: 0.1191, Validation loss: 0.1111\n",
            "Epoch 103: Train loss: 0.1225, Validation loss: 0.1114\n",
            "Epoch 104: Train loss: 0.1109, Validation loss: 0.1053\n",
            "Epoch 105: Train loss: 0.1074, Validation loss: 0.1060\n",
            "Epoch 106: Train loss: 0.1051, Validation loss: 0.1093\n",
            "Epoch 107: Train loss: 0.1098, Validation loss: 0.1024\n",
            "Epoch 108: Train loss: 0.1186, Validation loss: 0.0977\n",
            "Epoch 109: Train loss: 0.1007, Validation loss: 0.0972\n",
            "Epoch 110: Train loss: 0.1403, Validation loss: 0.0964\n",
            "Epoch 111: Train loss: 0.1870, Validation loss: 0.0966\n",
            "Epoch 112: Train loss: 0.1536, Validation loss: 0.0956\n",
            "Epoch 113: Train loss: 0.1285, Validation loss: 0.1020\n",
            "Epoch 114: Train loss: 0.1301, Validation loss: 0.1064\n",
            "Epoch 115: Train loss: 0.1262, Validation loss: 0.1038\n",
            "Epoch 116: Train loss: 0.1083, Validation loss: 0.1042\n",
            "Epoch 117: Train loss: 0.1086, Validation loss: 0.1131\n",
            "Epoch 118: Train loss: 0.1112, Validation loss: 0.1020\n",
            "Epoch 119: Train loss: 0.1432, Validation loss: 0.0971\n",
            "Epoch 120: Train loss: 0.1490, Validation loss: 0.0986\n",
            "Epoch 121: Train loss: 0.1100, Validation loss: 0.1003\n",
            "Epoch 122: Train loss: 0.0812, Validation loss: 0.0999\n",
            "Epoch 123: Train loss: 0.1024, Validation loss: 0.0997\n",
            "Epoch 124: Train loss: 0.1099, Validation loss: 0.0968\n",
            "Epoch 125: Train loss: 0.0992, Validation loss: 0.0967\n",
            "Epoch 126: Train loss: 0.1989, Validation loss: 0.0984\n",
            "Epoch 127: Train loss: 0.1059, Validation loss: 0.0979\n",
            "Epoch 128: Train loss: 0.0785, Validation loss: 0.0932\n",
            "Epoch 129: Train loss: 0.1409, Validation loss: 0.0945\n",
            "Epoch 130: Train loss: 0.1355, Validation loss: 0.0970\n",
            "Epoch 131: Train loss: 0.1219, Validation loss: 0.0972\n",
            "Epoch 132: Train loss: 0.1024, Validation loss: 0.1017\n",
            "Epoch 133: Train loss: 0.1381, Validation loss: 0.1027\n",
            "Epoch 134: Train loss: 0.1187, Validation loss: 0.1042\n",
            "Epoch 135: Train loss: 0.0780, Validation loss: 0.1013\n",
            "Epoch 136: Train loss: 0.1328, Validation loss: 0.1000\n",
            "Epoch 137: Train loss: 0.1611, Validation loss: 0.1040\n",
            "Epoch 138: Train loss: 0.0876, Validation loss: 0.0998\n",
            "Epoch 139: Train loss: 0.0853, Validation loss: 0.0974\n",
            "Epoch 140: Train loss: 0.1471, Validation loss: 0.1004\n",
            "Epoch 141: Train loss: 0.1008, Validation loss: 0.1011\n",
            "Epoch 142: Train loss: 0.1572, Validation loss: 0.1018\n",
            "Epoch 143: Train loss: 0.1044, Validation loss: 0.1008\n",
            "Epoch 144: Train loss: 0.1317, Validation loss: 0.1023\n",
            "Epoch 145: Train loss: 0.1064, Validation loss: 0.1023\n",
            "Epoch 146: Train loss: 0.1432, Validation loss: 0.1035\n",
            "Epoch 147: Train loss: 0.0869, Validation loss: 0.1050\n",
            "Epoch 148: Train loss: 0.1166, Validation loss: 0.1043\n",
            "Epoch 149: Train loss: 0.1967, Validation loss: 0.1035\n",
            "Epoch 150: Train loss: 0.1105, Validation loss: 0.1026\n",
            "Epoch 151: Train loss: 0.0913, Validation loss: 0.1026\n",
            "Epoch 152: Train loss: 0.0980, Validation loss: 0.1026\n",
            "Epoch 153: Train loss: 0.1426, Validation loss: 0.1056\n",
            "Epoch 154: Train loss: 0.1208, Validation loss: 0.1050\n",
            "Epoch 155: Train loss: 0.1303, Validation loss: 0.1042\n",
            "Epoch 156: Train loss: 0.1505, Validation loss: 0.1059\n",
            "Epoch 157: Train loss: 0.0955, Validation loss: 0.1030\n",
            "Epoch 158: Train loss: 0.1755, Validation loss: 0.1035\n",
            "Epoch 159: Train loss: 0.1362, Validation loss: 0.1037\n",
            "Epoch 160: Train loss: 0.0997, Validation loss: 0.1040\n",
            "Epoch 161: Train loss: 0.1421, Validation loss: 0.1044\n",
            "Epoch 162: Train loss: 0.0759, Validation loss: 0.1041\n",
            "Epoch 163: Train loss: 0.1463, Validation loss: 0.1042\n",
            "Epoch 164: Train loss: 0.1235, Validation loss: 0.1035\n",
            "Epoch 165: Train loss: 0.0813, Validation loss: 0.1031\n",
            "Epoch 166: Train loss: 0.0960, Validation loss: 0.1020\n",
            "Epoch 167: Train loss: 0.1015, Validation loss: 0.1030\n",
            "Epoch 168: Train loss: 0.0909, Validation loss: 0.1028\n",
            "Epoch 169: Train loss: 0.0833, Validation loss: 0.1026\n",
            "Epoch 170: Train loss: 0.1024, Validation loss: 0.1033\n",
            "Epoch 171: Train loss: 0.1248, Validation loss: 0.1032\n",
            "Epoch 172: Train loss: 0.1615, Validation loss: 0.1033\n",
            "Epoch 173: Train loss: 0.1501, Validation loss: 0.1049\n",
            "Epoch 174: Train loss: 0.0951, Validation loss: 0.1031\n",
            "Epoch 175: Train loss: 0.1025, Validation loss: 0.1040\n",
            "Epoch 176: Train loss: 0.1655, Validation loss: 0.1067\n",
            "Epoch 177: Train loss: 0.1305, Validation loss: 0.1053\n",
            "Epoch 178: Train loss: 0.1235, Validation loss: 0.1041\n",
            "Epoch 179: Train loss: 0.1241, Validation loss: 0.1036\n",
            "Epoch 180: Train loss: 0.1237, Validation loss: 0.1026\n",
            "Epoch 181: Train loss: 0.1177, Validation loss: 0.1027\n",
            "Epoch 182: Train loss: 0.1004, Validation loss: 0.1024\n",
            "Epoch 183: Train loss: 0.1376, Validation loss: 0.1028\n",
            "Epoch 184: Train loss: 0.1320, Validation loss: 0.1032\n",
            "Epoch 185: Train loss: 0.0994, Validation loss: 0.1036\n",
            "Epoch 186: Train loss: 0.1320, Validation loss: 0.1050\n",
            "Epoch 187: Train loss: 0.1229, Validation loss: 0.1025\n",
            "Epoch 188: Train loss: 0.0890, Validation loss: 0.1029\n",
            "Epoch 189: Train loss: 0.1330, Validation loss: 0.1029\n",
            "Epoch 190: Train loss: 0.1494, Validation loss: 0.1052\n",
            "Epoch 191: Train loss: 0.0989, Validation loss: 0.1036\n",
            "Epoch 192: Train loss: 0.1351, Validation loss: 0.1034\n",
            "Epoch 193: Train loss: 0.0720, Validation loss: 0.1026\n",
            "Epoch 194: Train loss: 0.1683, Validation loss: 0.1041\n",
            "Epoch 195: Train loss: 0.1567, Validation loss: 0.1035\n",
            "Epoch 196: Train loss: 0.1174, Validation loss: 0.1039\n",
            "Epoch 197: Train loss: 0.1033, Validation loss: 0.1035\n",
            "Epoch 198: Train loss: 0.1124, Validation loss: 0.1016\n",
            "Epoch 199: Train loss: 0.0804, Validation loss: 0.1013\n",
            "Epoch 200: Train loss: 0.1041, Validation loss: 0.1015\n",
            "Accuracy on the test set: 96.58536585365853 %\n"
          ]
        }
      ],
      "source": [
        "for epoch in range(num_epochs):\n",
        "    for data, target in trainloader:\n",
        "        model.train()\n",
        "        data, target = data.to(DEVICE), target.to(DEVICE)\n",
        "        data = data.reshape(-1, input_dime)\n",
        "        target = target.float().unsqueeze(1)\n",
        "\n",
        "        optimizer.zero_grad()\n",
        "        output = model(data)\n",
        "        loss = loss_fn(output, target)\n",
        "        l1_norm = sum(p.abs().sum() for p in model.parameters())\n",
        "        loss += l1_lambda * l1_norm\n",
        "        loss.backward()\n",
        "        optimizer.step()\n",
        "        train_loss = loss.item()\n",
        "    train_loss_list.append(train_loss)\n",
        "\n",
        "    # Validation loop\n",
        "    model.eval()\n",
        "    validation_losses = []\n",
        "    with torch.no_grad():\n",
        "        for data, target in validloader:\n",
        "            data, target = data.to(DEVICE), target.to(DEVICE)\n",
        "            data = data.reshape(-1, input_dime)\n",
        "            target = target.float().unsqueeze(1)\n",
        "            output = model(data)\n",
        "            val_loss = loss_fn(output, target).item()\n",
        "            validation_losses.append(val_loss)\n",
        "\n",
        "    validation_loss = sum(validation_losses) / len(validation_losses)\n",
        "    valid_loss_list.append(validation_loss)\n",
        "    scheduler.step(validation_loss)\n",
        "    print(f\"Epoch {epoch + 1}: Train loss: {train_loss:.4f}, Validation loss: {validation_loss:.4f}\")\n",
        "\n",
        "# Test loop\n",
        "model.eval()\n",
        "all_predictions = []\n",
        "all_targets = []\n",
        "with torch.no_grad():\n",
        "    n_correct = 0\n",
        "    n_samples = 0\n",
        "    for data, target in testloader:\n",
        "        data, target = data.to(DEVICE), target.to(DEVICE)\n",
        "        data = data.reshape(-1, input_dime)\n",
        "        target = target.float().unsqueeze(1)\n",
        "        outputs = model(data)\n",
        "        predicted = (outputs >= 0.5).float()\n",
        "        n_samples += target.size(0)\n",
        "        n_correct += (predicted == target).sum().item()\n",
        "\n",
        "        # Collect all predictions and targets\n",
        "        all_predictions.append(predicted)\n",
        "        all_targets.append(target)\n",
        "\n",
        "    acc = 100.0 * n_correct / n_samples\n",
        "    print(\"Accuracy on the test set:\", acc, \"%\")\n",
        "\n",
        "# Concatenate all predictions and targets\n",
        "all_predictions = torch.cat(all_predictions)\n",
        "all_targets = torch.cat(all_targets)"
      ]
    },
    {
      "cell_type": "markdown",
      "metadata": {
        "id": "w2u6ELJpF-1O"
      },
      "source": [
        "# Results"
      ]
    },
    {
      "cell_type": "markdown",
      "metadata": {
        "id": "lTAGxV5bMA4b"
      },
      "source": [
        "### Plotting"
      ]
    },
    {
      "cell_type": "markdown",
      "metadata": {
        "id": "E5KnF__4LrGK"
      },
      "source": [
        "Plot out the training and validation losses over the epochs"
      ]
    },
    {
      "cell_type": "code",
      "execution_count": 118,
      "metadata": {
        "id": "t5ytQiecNIOC"
      },
      "outputs": [
        {
          "data": {
            "image/png": "[encoded data removed]",
            "text/plain": [
              "<Figure size 640x480 with 1 Axes>"
            ]
          },
          "metadata": {},
          "output_type": "display_data"
        }
      ],
      "source": [
        "plt.plot(range(num_epochs), train_loss_list, label='train')\n",
        "plt.plot(range(num_epochs), valid_loss_list, label='valid')\n",
        "plt.legend(loc=\"best\")\n",
        "plt.show()"
      ]
    },
    {
      "cell_type": "markdown",
      "metadata": {
        "id": "fPs9CwgJMLDq"
      },
      "source": [
        "### Metrics"
      ]
    },
    {
      "cell_type": "markdown",
      "metadata": {
        "id": "kAHRX5PgMOoZ"
      },
      "source": [
        "Print out appropriate metrics for the task"
      ]
    },
    {
      "cell_type": "code",
      "execution_count": 119,
      "metadata": {
        "id": "0K48qnVJ0b3s"
      },
      "outputs": [
        {
          "name": "stdout",
          "output_type": "stream",
          "text": [
            "\n",
            "Model Evaluation Metrics:\n",
            "Accuracy: 0.9659\n",
            "F1 Score: 0.8205\n",
            "F2 Score: 0.8081\n",
            "\n",
            "Confusion Matrix:\n",
            "[[182   3]\n",
            " [  4  16]]\n",
            "\n",
            "Detailed Classification Report:\n",
            "              precision    recall  f1-score   support\n",
            "\n",
            "         0.0       0.98      0.98      0.98       185\n",
            "         1.0       0.84      0.80      0.82        20\n",
            "\n",
            "    accuracy                           0.97       205\n",
            "   macro avg       0.91      0.89      0.90       205\n",
            "weighted avg       0.97      0.97      0.97       205\n",
            "\n"
          ]
        }
      ],
      "source": [
        "from sklearn.metrics import confusion_matrix, fbeta_score, classification_report\n",
        "\n",
        "# Calculate evaluation metrics\n",
        "accuracy = (all_predictions == all_targets).float().mean().item()\n",
        "conf_matrix = confusion_matrix(all_targets.cpu().numpy(), all_predictions.cpu().numpy())\n",
        "f1 = fbeta_score(all_targets.cpu().numpy(), all_predictions.cpu().numpy(), beta=1)\n",
        "f2 = fbeta_score(all_targets.cpu().numpy(), all_predictions.cpu().numpy(), beta=2)\n",
        "\n",
        "# Print results\n",
        "print(\"\\nModel Evaluation Metrics:\")\n",
        "print(f\"Accuracy: {accuracy:.4f}\")\n",
        "print(f\"F1 Score: {f1:.4f}\")\n",
        "print(f\"F2 Score: {f2:.4f}\")   \n",
        "print(\"\\nConfusion Matrix:\")\n",
        "print(conf_matrix)\n",
        "\n",
        "print(\"\\nDetailed Classification Report:\")\n",
        "print(classification_report(all_targets.cpu().numpy(), all_predictions.cpu().numpy()))"
      ]
    },
    {
      "cell_type": "code",
      "execution_count": 120,
      "metadata": {
        "id": "tc8Ffd5nC5cM"
      },
      "outputs": [],
      "source": [
        "# wrong_predictions = # OPTIONAL TODO"
      ]
    },
    {
      "cell_type": "markdown",
      "metadata": {
        "id": "3VpmU6TtKVYy"
      },
      "source": [
        "  Did you manage to catch them all?"
      ]
    },
    {
      "cell_type": "markdown",
      "metadata": {
        "id": "_gt2ycYdqGk-"
      },
      "source": [
        "______________________________________________________________________________\n",
        "\n",
        "This notebook is largely inspired (with some improvements and updates) by a video featured on [Data Every Day](https://www.youtube.com/watch?v=3Fr1npNxkJk)."
      ]
    }
  ],
  "metadata": {
    "accelerator": "GPU",
    "colab": {
      "gpuType": "T4",
      "provenance": [],
      "toc_visible": true
    },
    "kernelspec": {
      "display_name": ".venv",
      "language": "python",
      "name": "python3"
    },
    "language_info": {
      "codemirror_mode": {
        "name": "ipython",
        "version": 3
      },
      "file_extension": ".py",
      "mimetype": "text/x-python",
      "name": "python",
      "nbconvert_exporter": "python",
      "pygments_lexer": "ipython3",
      "version": "3.12.7"
    }
  },
  "nbformat": 4,
  "nbformat_minor": 0
}
